{
 "cells": [
  {
   "cell_type": "markdown",
   "metadata": {},
   "source": [
    "# SEM_Py"
   ]
  },
  {
   "cell_type": "markdown",
   "metadata": {},
   "source": [
    "## Graphvizのインストール\n",
    "分析結果を描画するためにGraphvizが必要です。[Graphviz | Graphviz - Graph Visualization Software](http://www.graphviz.org/) から [Download. | Graphviz - Graph Visualization Software](http://www.graphviz.org/Download..php) に移動し、一番下の「Accept」をクリックしてから、OSに応じて「windows」または「macos」をクリックしてインストーラーをダウンロードします。\n",
    "(念のため、[ここ](graphviz/windows/graphviz-2.38.msi)にWindows用を置きます。)\n",
    "\n",
    "デフォールトのままインストールします。"
   ]
  },
  {
   "cell_type": "code",
   "execution_count": 1,
   "metadata": {
    "collapsed": true
   },
   "outputs": [],
   "source": [
    "%load_ext autoreload\n",
    "%autoreload 2"
   ]
  },
  {
   "cell_type": "code",
   "execution_count": 2,
   "metadata": {
    "collapsed": true
   },
   "outputs": [],
   "source": [
    "import sys\n",
    "sys.path.append('progs')\n",
    "from sem2dot import *"
   ]
  },
  {
   "cell_type": "code",
   "execution_count": 3,
   "metadata": {},
   "outputs": [
    {
     "data": {
      "text/plain": [
       "'G:\\\\Repository\\\\GitHub\\\\HRDS\\\\SEM'"
      ]
     },
     "execution_count": 3,
     "metadata": {},
     "output_type": "execute_result"
    }
   ],
   "source": [
    "pwd"
   ]
  },
  {
   "cell_type": "code",
   "execution_count": 4,
   "metadata": {},
   "outputs": [
    {
     "data": {
      "text/plain": [
       "['潜在意識A',\n",
       " '潜在意識B',\n",
       " '潜在意識C',\n",
       " '潜在意識D',\n",
       " '潜在意識E',\n",
       " '潜在意識F',\n",
       " '潜在意識G',\n",
       " '潜在意識H',\n",
       " '潜在意識I']"
      ]
     },
     "execution_count": 4,
     "metadata": {},
     "output_type": "execute_result"
    }
   ],
   "source": [
    "latency_list0 = select_latency_items('R_progs/latency0.R', encoding='cp932')\n",
    "latency_list0"
   ]
  },
  {
   "cell_type": "markdown",
   "metadata": {},
   "source": [
    "### Graphvizの dot.exe の場所を以下のように指定します。\n",
    "* シングルクォートでダブルクォートを括ります。"
   ]
  },
  {
   "cell_type": "code",
   "execution_count": 5,
   "metadata": {
    "collapsed": true
   },
   "outputs": [],
   "source": [
    "dot_path = '\"C:/Program Files (x86)/Graphviz2.38/bin/dot\"'"
   ]
  },
  {
   "cell_type": "code",
   "execution_count": 6,
   "metadata": {
    "collapsed": true
   },
   "outputs": [],
   "source": [
    "out2svg('data/sem_out0', latency_list0, dot_path, suffix = '_back_only', back_only = True)\n",
    "out2svg('data/sem_out0', latency_list0, dot_path)"
   ]
  },
  {
   "cell_type": "markdown",
   "metadata": {},
   "source": [
    "![svg](./data/sem_out0_back_only.svg)\n",
    "![svg](./data/sem_out0.svg)"
   ]
  }
 ],
 "metadata": {
  "anaconda-cloud": {},
  "kernelspec": {
   "display_name": "Python 3",
   "language": "python",
   "name": "python3"
  },
  "language_info": {
   "codemirror_mode": {
    "name": "ipython",
    "version": 3
   },
   "file_extension": ".py",
   "mimetype": "text/x-python",
   "name": "python",
   "nbconvert_exporter": "python",
   "pygments_lexer": "ipython3",
   "version": "3.5.3"
  }
 },
 "nbformat": 4,
 "nbformat_minor": 1
}
