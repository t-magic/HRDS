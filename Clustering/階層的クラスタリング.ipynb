{
 "cells": [
  {
   "cell_type": "markdown",
   "metadata": {},
   "source": [
    "# 階層的クラスタリング\n",
    "\n",
    "[Scipyで階層的クラスタリング - Kenichiro Nishioka(西岡 賢一郎) | OpenBook](https://openbook4.me/users/1/sections/783)\n",
    "\n",
    "[クラスター分析の手法②（階層クラスター分析） | データ分析基礎知識](https://www.albert2005.co.jp/knowledge/data_mining/cluster/hierarchical_clustering)\n",
    "\n",
    "[![](https://www.albert2005.co.jp/knowledge/images/tech_mining_img106.jpg)]()\n",
    "\n",
    "[クラスター分析 | データ分析基礎知識](https://www.albert2005.co.jp/knowledge/data_mining/cluster)\n",
    "\n",
    "[クラスター分析の手法③（非階層クラスター分析） | データ分析基礎知識](https://www.albert2005.co.jp/knowledge/data_mining/cluster/non-hierarchical_clustering)\n",
    "\n",
    "[Pythonで階層的クラスタリング | 配電盤](http://blog.unfindable.net/archives/6178)"
   ]
  },
  {
   "cell_type": "code",
   "execution_count": 1,
   "metadata": {},
   "outputs": [
    {
     "data": {
      "text/plain": [
       "array([ 3.74165739,  4.47213595,  4.24264069])"
      ]
     },
     "execution_count": 1,
     "metadata": {},
     "output_type": "execute_result"
    }
   ],
   "source": [
    "import scipy.spatial.distance\n",
    "scipy.spatial.distance.pdist([[1,1,1], [2,3,4], [5,3,1]])\n",
    "# => array([ 3.74165739,  4.47213595,  4.24264069])"
   ]
  },
  {
   "cell_type": "code",
   "execution_count": 4,
   "metadata": {},
   "outputs": [
    {
     "data": {
      "text/plain": [
       "array([[ 0.        ,  1.        ,  3.74165739,  2.        ],\n",
       "       [ 2.        ,  3.        ,  4.24264069,  3.        ]])"
      ]
     },
     "execution_count": 4,
     "metadata": {},
     "output_type": "execute_result"
    }
   ],
   "source": [
    "import scipy\n",
    "pdis = scipy.spatial.distance.pdist([[1,1,1], [2,3,4], [5,3,1]])\n",
    "scipy.cluster.hierarchy.linkage(pdis)\n",
    "# =>\n",
    "#   array([[ 0.        ,  1.        ,  3.74165739,  2.        ],\n",
    "#          [ 2.        ,  3.        ,  4.24264069,  3.        ]])"
   ]
  },
  {
   "cell_type": "code",
   "execution_count": 5,
   "metadata": {},
   "outputs": [
    {
     "data": {
      "image/png": "[encoded data removed]",
      "text/plain": [
       "<matplotlib.figure.Figure at 0x1f976394780>"
      ]
     },
     "metadata": {},
     "output_type": "display_data"
    }
   ],
   "source": [
    "from  scipy.spatial.distance  import pdist\n",
    "from scipy.cluster.hierarchy import linkage, dendrogram\n",
    "from matplotlib.pyplot import show\n",
    " \n",
    "pdist = pdist(([[1,1,1], [2,3,4], [5,3,1]]))\n",
    "result = linkage(pdist)\n",
    "dendrogram(result)\n",
    "show()\n"
   ]
  },
  {
   "cell_type": "markdown",
   "metadata": {},
   "source": [
    "[Pythonで階層的クラスタリング | 配電盤](http://blog.unfindable.net/archives/6178)"
   ]
  },
  {
   "cell_type": "code",
   "execution_count": 6,
   "metadata": {
    "collapsed": true
   },
   "outputs": [],
   "source": [
    "import scipy\n",
    "import numpy\n",
    "import scipy.spatial.distance as distance\n",
    "from matplotlib.pyplot import show\n",
    "from scipy.cluster.hierarchy import linkage, dendrogram\n",
    "from random import random"
   ]
  },
  {
   "cell_type": "code",
   "execution_count": 7,
   "metadata": {
    "collapsed": true
   },
   "outputs": [],
   "source": [
    "n = 100\n",
    "dim = 10\n",
    "data = [[random() for i in range(dim)] for i in range(n)]"
   ]
  },
  {
   "cell_type": "code",
   "execution_count": 21,
   "metadata": {
    "collapsed": true
   },
   "outputs": [
    {
     "name": "stdout",
     "output_type": "stream",
     "text": [
      "Help on function linkage in module scipy.cluster.hierarchy:\n",
      "\n",
      "linkage(y, method='single', metric='euclidean')\n",
      "    Performs hierarchical/agglomerative clustering.\n",
      "    \n",
      "    The input y may be either a 1d compressed distance matrix\n",
      "    or a 2d array of observation vectors.\n",
      "    \n",
      "    If y is a 1d compressed distance matrix,\n",
      "    then y must be a :math:`{n \\choose 2}` sized\n",
      "    vector where n is the number of original observations paired\n",
      "    in the distance matrix. The behavior of this function is very\n",
      "    similar to the MATLAB linkage function.\n",
      "    \n",
      "    A :math:`(n-1)` by 4 matrix ``Z`` is returned. At the\n",
      "    :math:`i`-th iteration, clusters with indices ``Z[i, 0]`` and\n",
      "    ``Z[i, 1]`` are combined to form cluster :math:`n + i`. A\n",
      "    cluster with an index less than :math:`n` corresponds to one of\n",
      "    the :math:`n` original observations. The distance between\n",
      "    clusters ``Z[i, 0]`` and ``Z[i, 1]`` is given by ``Z[i, 2]``. The\n",
      "    fourth value ``Z[i, 3]`` represents the number of original\n",
      "    observations in the newly formed cluster.\n",
      "    \n",
      "    The following linkage methods are used to compute the distance\n",
      "    :math:`d(s, t)` between two clusters :math:`s` and\n",
      "    :math:`t`. The algorithm begins with a forest of clusters that\n",
      "    have yet to be used in the hierarchy being formed. When two\n",
      "    clusters :math:`s` and :math:`t` from this forest are combined\n",
      "    into a single cluster :math:`u`, :math:`s` and :math:`t` are\n",
      "    removed from the forest, and :math:`u` is added to the\n",
      "    forest. When only one cluster remains in the forest, the algorithm\n",
      "    stops, and this cluster becomes the root.\n",
      "    \n",
      "    A distance matrix is maintained at each iteration. The ``d[i,j]``\n",
      "    entry corresponds to the distance between cluster :math:`i` and\n",
      "    :math:`j` in the original forest.\n",
      "    \n",
      "    At each iteration, the algorithm must update the distance matrix\n",
      "    to reflect the distance of the newly formed cluster u with the\n",
      "    remaining clusters in the forest.\n",
      "    \n",
      "    Suppose there are :math:`|u|` original observations\n",
      "    :math:`u[0], \\ldots, u[|u|-1]` in cluster :math:`u` and\n",
      "    :math:`|v|` original objects :math:`v[0], \\ldots, v[|v|-1]` in\n",
      "    cluster :math:`v`. Recall :math:`s` and :math:`t` are\n",
      "    combined to form cluster :math:`u`. Let :math:`v` be any\n",
      "    remaining cluster in the forest that is not :math:`u`.\n",
      "    \n",
      "    The following are methods for calculating the distance between the\n",
      "    newly formed cluster :math:`u` and each :math:`v`.\n",
      "    \n",
      "      * method='single' assigns\n",
      "    \n",
      "        .. math::\n",
      "           d(u,v) = \\min(dist(u[i],v[j]))\n",
      "    \n",
      "        for all points :math:`i` in cluster :math:`u` and\n",
      "        :math:`j` in cluster :math:`v`. This is also known as the\n",
      "        Nearest Point Algorithm.\n",
      "    \n",
      "      * method='complete' assigns\n",
      "    \n",
      "        .. math::\n",
      "           d(u, v) = \\max(dist(u[i],v[j]))\n",
      "    \n",
      "        for all points :math:`i` in cluster u and :math:`j` in\n",
      "        cluster :math:`v`. This is also known by the Farthest Point\n",
      "        Algorithm or Voor Hees Algorithm.\n",
      "    \n",
      "      * method='average' assigns\n",
      "    \n",
      "        .. math::\n",
      "           d(u,v) = \\sum_{ij} \\frac{d(u[i], v[j])}\n",
      "                                   {(|u|*|v|)}\n",
      "    \n",
      "        for all points :math:`i` and :math:`j` where :math:`|u|`\n",
      "        and :math:`|v|` are the cardinalities of clusters :math:`u`\n",
      "        and :math:`v`, respectively. This is also called the UPGMA\n",
      "        algorithm.\n",
      "    \n",
      "      * method='weighted' assigns\n",
      "    \n",
      "        .. math::\n",
      "           d(u,v) = (dist(s,v) + dist(t,v))/2\n",
      "    \n",
      "        where cluster u was formed with cluster s and t and v\n",
      "        is a remaining cluster in the forest. (also called WPGMA)\n",
      "    \n",
      "      * method='centroid' assigns\n",
      "    \n",
      "        .. math::\n",
      "           dist(s,t) = ||c_s-c_t||_2\n",
      "    \n",
      "        where :math:`c_s` and :math:`c_t` are the centroids of\n",
      "        clusters :math:`s` and :math:`t`, respectively. When two\n",
      "        clusters :math:`s` and :math:`t` are combined into a new\n",
      "        cluster :math:`u`, the new centroid is computed over all the\n",
      "        original objects in clusters :math:`s` and :math:`t`. The\n",
      "        distance then becomes the Euclidean distance between the\n",
      "        centroid of :math:`u` and the centroid of a remaining cluster\n",
      "        :math:`v` in the forest. This is also known as the UPGMC\n",
      "        algorithm.\n",
      "    \n",
      "      * method='median' assigns :math:`d(s,t)` like the ``centroid``\n",
      "        method. When two clusters :math:`s` and :math:`t` are combined\n",
      "        into a new cluster :math:`u`, the average of centroids s and t\n",
      "        give the new centroid :math:`u`. This is also known as the\n",
      "        WPGMC algorithm.\n",
      "    \n",
      "      * method='ward' uses the Ward variance minimization algorithm.\n",
      "        The new entry :math:`d(u,v)` is computed as follows,\n",
      "    \n",
      "        .. math::\n",
      "    \n",
      "           d(u,v) = \\sqrt{\\frac{|v|+|s|}\n",
      "                               {T}d(v,s)^2\n",
      "                        + \\frac{|v|+|t|}\n",
      "                               {T}d(v,t)^2\n",
      "                        - \\frac{|v|}\n",
      "                               {T}d(s,t)^2}\n",
      "    \n",
      "        where :math:`u` is the newly joined cluster consisting of\n",
      "        clusters :math:`s` and :math:`t`, :math:`v` is an unused\n",
      "        cluster in the forest, :math:`T=|v|+|s|+|t|`, and\n",
      "        :math:`|*|` is the cardinality of its argument. This is also\n",
      "        known as the incremental algorithm.\n",
      "    \n",
      "    Warning: When the minimum distance pair in the forest is chosen, there\n",
      "    may be two or more pairs with the same minimum distance. This\n",
      "    implementation may chose a different minimum than the MATLAB\n",
      "    version.\n",
      "    \n",
      "    Parameters\n",
      "    ----------\n",
      "    y : ndarray\n",
      "        A condensed distance matrix. A condensed distance matrix\n",
      "        is a flat array containing the upper triangular of the distance matrix.\n",
      "        This is the form that ``pdist`` returns. Alternatively, a collection of\n",
      "        :math:`m` observation vectors in :math:`n` dimensions may be passed as an\n",
      "        :math:`m` by :math:`n` array. All elements of the condensed distance matrix\n",
      "        must be finite, i.e. no NaNs or infs.\n",
      "    method : str, optional\n",
      "        The linkage algorithm to use. See the ``Linkage Methods`` section below\n",
      "        for full descriptions.\n",
      "    metric : str or function, optional\n",
      "        The distance metric to use in the case that y is a collection of\n",
      "        observation vectors; ignored otherwise. See the ``pdist``\n",
      "        function for a list of valid distance metrics. A custom distance\n",
      "        function can also be used.\n",
      "    \n",
      "    Returns\n",
      "    -------\n",
      "    Z : ndarray\n",
      "        The hierarchical clustering encoded as a linkage matrix.\n",
      "    \n",
      "    Notes\n",
      "    -----\n",
      "    1. For method 'single' an optimized algorithm based on minimum spanning\n",
      "       tree is implemented. It has time complexity :math:`O(n^2)`.\n",
      "       For methods 'complete', 'average', 'weighted' and 'ward' an algorithm\n",
      "       called nearest-neighbors chain is implemented. It also has time\n",
      "       complexity :math:`O(n^2)`.\n",
      "       For other methods a naive algorithm is implemented with :math:`O(n^3)`\n",
      "       time complexity.\n",
      "       All algorithms use :math:`O(n^2)` memory.\n",
      "       Refer to [1]_ for details about the algorithms.\n",
      "    2. Methods 'centroid', 'median' and 'ward' are correctly defined only if\n",
      "       Euclidean pairwise metric is used. If `y` is passed as precomputed\n",
      "       pairwise distances, then it is a user responsibility to assure that\n",
      "       these distances are in fact Euclidean, otherwise the produced result\n",
      "       will be incorrect.\n",
      "    \n",
      "    See Also\n",
      "    --------\n",
      "    scipy.spatial.distance.pdist : pairwise distance metrics\n",
      "    \n",
      "    References\n",
      "    ----------\n",
      "    .. [1] Daniel Mullner, \"Modern hierarchical, agglomerative clustering\n",
      "           algorithms\", :arXiv:`1109.2378v1`.\n",
      "\n"
     ]
    }
   ],
   "source": [
    "help(linkage)"
   ]
  },
  {
   "cell_type": "code",
   "execution_count": 27,
   "metadata": {
    "collapsed": true
   },
   "outputs": [
    {
     "data": {
      "text/plain": [
       "array([[  7.00000000e+00,   1.10000000e+01,   1.87232099e-01,\n",
       "          2.00000000e+00],\n",
       "       [  7.70000000e+01,   8.30000000e+01,   1.98256726e-01,\n",
       "          2.00000000e+00],\n",
       "       [  4.40000000e+01,   4.80000000e+01,   2.71788001e-01,\n",
       "          2.00000000e+00],\n",
       "       [  2.50000000e+01,   4.20000000e+01,   2.83789570e-01,\n",
       "          2.00000000e+00],\n",
       "       [  1.60000000e+01,   6.40000000e+01,   2.83828351e-01,\n",
       "          2.00000000e+00],\n",
       "       [  2.80000000e+01,   7.40000000e+01,   2.94112259e-01,\n",
       "          2.00000000e+00],\n",
       "       [  3.00000000e+01,   5.10000000e+01,   3.00871621e-01,\n",
       "          2.00000000e+00],\n",
       "       [  3.80000000e+01,   7.50000000e+01,   3.14873822e-01,\n",
       "          2.00000000e+00],\n",
       "       [  2.70000000e+01,   4.00000000e+01,   3.19940633e-01,\n",
       "          2.00000000e+00],\n",
       "       [  1.00000000e+00,   4.10000000e+01,   3.24595296e-01,\n",
       "          2.00000000e+00],\n",
       "       [  8.50000000e+01,   9.80000000e+01,   3.29125471e-01,\n",
       "          2.00000000e+00],\n",
       "       [  2.20000000e+01,   6.80000000e+01,   3.31958031e-01,\n",
       "          2.00000000e+00],\n",
       "       [  2.30000000e+01,   6.00000000e+01,   3.46615820e-01,\n",
       "          2.00000000e+00],\n",
       "       [  4.00000000e+00,   5.70000000e+01,   3.49901073e-01,\n",
       "          2.00000000e+00],\n",
       "       [  9.00000000e+00,   4.60000000e+01,   3.53541889e-01,\n",
       "          2.00000000e+00],\n",
       "       [  3.70000000e+01,   8.40000000e+01,   3.55310806e-01,\n",
       "          2.00000000e+00],\n",
       "       [  5.90000000e+01,   8.00000000e+01,   3.57030840e-01,\n",
       "          2.00000000e+00],\n",
       "       [  5.00000000e+00,   1.80000000e+01,   3.57363126e-01,\n",
       "          2.00000000e+00],\n",
       "       [  2.40000000e+01,   7.80000000e+01,   3.71262936e-01,\n",
       "          2.00000000e+00],\n",
       "       [  8.10000000e+01,   1.06000000e+02,   3.75920161e-01,\n",
       "          3.00000000e+00],\n",
       "       [  6.00000000e+00,   9.40000000e+01,   3.76300147e-01,\n",
       "          2.00000000e+00],\n",
       "       [  3.20000000e+01,   3.90000000e+01,   3.79222442e-01,\n",
       "          2.00000000e+00],\n",
       "       [  1.20000000e+01,   6.30000000e+01,   3.80784445e-01,\n",
       "          2.00000000e+00],\n",
       "       [  3.60000000e+01,   8.80000000e+01,   3.85451913e-01,\n",
       "          2.00000000e+00],\n",
       "       [  5.00000000e+01,   1.08000000e+02,   3.85517445e-01,\n",
       "          3.00000000e+00],\n",
       "       [  7.20000000e+01,   1.05000000e+02,   3.89014712e-01,\n",
       "          3.00000000e+00],\n",
       "       [  2.00000000e+00,   5.50000000e+01,   4.06717800e-01,\n",
       "          2.00000000e+00],\n",
       "       [  1.40000000e+01,   1.07000000e+02,   4.11359317e-01,\n",
       "          3.00000000e+00],\n",
       "       [  8.60000000e+01,   1.19000000e+02,   4.17693451e-01,\n",
       "          4.00000000e+00],\n",
       "       [  9.50000000e+01,   1.20000000e+02,   4.17960256e-01,\n",
       "          3.00000000e+00],\n",
       "       [  7.00000000e+01,   9.30000000e+01,   4.23269018e-01,\n",
       "          2.00000000e+00],\n",
       "       [  3.10000000e+01,   9.70000000e+01,   4.38620990e-01,\n",
       "          2.00000000e+00],\n",
       "       [  8.00000000e+00,   1.01000000e+02,   4.43660232e-01,\n",
       "          3.00000000e+00],\n",
       "       [  6.90000000e+01,   1.26000000e+02,   4.44394337e-01,\n",
       "          3.00000000e+00],\n",
       "       [  2.90000000e+01,   5.80000000e+01,   4.48365274e-01,\n",
       "          2.00000000e+00],\n",
       "       [  3.40000000e+01,   6.20000000e+01,   4.51328549e-01,\n",
       "          2.00000000e+00],\n",
       "       [  4.70000000e+01,   7.60000000e+01,   4.52234733e-01,\n",
       "          2.00000000e+00],\n",
       "       [  2.00000000e+01,   4.90000000e+01,   4.52266685e-01,\n",
       "          2.00000000e+00],\n",
       "       [  3.00000000e+00,   8.90000000e+01,   4.57919309e-01,\n",
       "          2.00000000e+00],\n",
       "       [  2.10000000e+01,   7.30000000e+01,   4.60883061e-01,\n",
       "          2.00000000e+00],\n",
       "       [  1.02000000e+02,   1.21000000e+02,   4.76337870e-01,\n",
       "          4.00000000e+00],\n",
       "       [  3.50000000e+01,   1.00000000e+02,   4.77883839e-01,\n",
       "          3.00000000e+00],\n",
       "       [  1.00000000e+01,   9.10000000e+01,   4.81175888e-01,\n",
       "          2.00000000e+00],\n",
       "       [  2.60000000e+01,   5.20000000e+01,   4.84837470e-01,\n",
       "          2.00000000e+00],\n",
       "       [  1.50000000e+01,   1.22000000e+02,   4.91255526e-01,\n",
       "          3.00000000e+00],\n",
       "       [  1.90000000e+01,   1.35000000e+02,   4.92205458e-01,\n",
       "          3.00000000e+00],\n",
       "       [  1.30000000e+01,   1.11000000e+02,   4.98359418e-01,\n",
       "          3.00000000e+00],\n",
       "       [  3.30000000e+01,   1.13000000e+02,   5.26402976e-01,\n",
       "          3.00000000e+00],\n",
       "       [  4.50000000e+01,   1.36000000e+02,   5.28541278e-01,\n",
       "          3.00000000e+00],\n",
       "       [  6.60000000e+01,   1.38000000e+02,   5.30302123e-01,\n",
       "          3.00000000e+00],\n",
       "       [  0.00000000e+00,   1.09000000e+02,   5.30484073e-01,\n",
       "          3.00000000e+00],\n",
       "       [  4.30000000e+01,   5.40000000e+01,   5.53444217e-01,\n",
       "          2.00000000e+00],\n",
       "       [  1.70000000e+01,   9.00000000e+01,   5.59945691e-01,\n",
       "          2.00000000e+00],\n",
       "       [  8.70000000e+01,   1.17000000e+02,   5.62612351e-01,\n",
       "          3.00000000e+00],\n",
       "       [  8.20000000e+01,   1.15000000e+02,   5.73245782e-01,\n",
       "          3.00000000e+00],\n",
       "       [  9.20000000e+01,   1.47000000e+02,   5.78138133e-01,\n",
       "          4.00000000e+00],\n",
       "       [  9.60000000e+01,   1.44000000e+02,   5.88276949e-01,\n",
       "          4.00000000e+00],\n",
       "       [  6.50000000e+01,   6.70000000e+01,   5.91978115e-01,\n",
       "          2.00000000e+00],\n",
       "       [  1.18000000e+02,   1.39000000e+02,   5.99941065e-01,\n",
       "          4.00000000e+00],\n",
       "       [  1.28000000e+02,   1.43000000e+02,   6.00181979e-01,\n",
       "          6.00000000e+00],\n",
       "       [  1.10000000e+02,   1.27000000e+02,   6.11555273e-01,\n",
       "          5.00000000e+00],\n",
       "       [  6.10000000e+01,   7.90000000e+01,   6.15680177e-01,\n",
       "          2.00000000e+00],\n",
       "       [  1.30000000e+02,   1.37000000e+02,   6.37283409e-01,\n",
       "          4.00000000e+00],\n",
       "       [  1.33000000e+02,   1.58000000e+02,   6.43743893e-01,\n",
       "          7.00000000e+00],\n",
       "       [  7.10000000e+01,   1.24000000e+02,   6.51169176e-01,\n",
       "          4.00000000e+00],\n",
       "       [  1.32000000e+02,   1.55000000e+02,   6.51630799e-01,\n",
       "          7.00000000e+00],\n",
       "       [  9.90000000e+01,   1.45000000e+02,   6.59582611e-01,\n",
       "          4.00000000e+00],\n",
       "       [  5.60000000e+01,   1.34000000e+02,   6.61716099e-01,\n",
       "          3.00000000e+00],\n",
       "       [  1.12000000e+02,   1.31000000e+02,   6.78986882e-01,\n",
       "          4.00000000e+00],\n",
       "       [  1.04000000e+02,   1.42000000e+02,   6.81812809e-01,\n",
       "          4.00000000e+00],\n",
       "       [  5.30000000e+01,   1.54000000e+02,   6.89374245e-01,\n",
       "          4.00000000e+00],\n",
       "       [  1.41000000e+02,   1.49000000e+02,   7.04320289e-01,\n",
       "          6.00000000e+00],\n",
       "       [  1.16000000e+02,   1.60000000e+02,   7.07732575e-01,\n",
       "          7.00000000e+00],\n",
       "       [  1.48000000e+02,   1.61000000e+02,   7.10214667e-01,\n",
       "          5.00000000e+00],\n",
       "       [  1.03000000e+02,   1.14000000e+02,   7.14588264e-01,\n",
       "          4.00000000e+00],\n",
       "       [  1.46000000e+02,   1.51000000e+02,   7.25143685e-01,\n",
       "          5.00000000e+00],\n",
       "       [  1.25000000e+02,   1.67000000e+02,   7.27645324e-01,\n",
       "          6.00000000e+00],\n",
       "       [  1.29000000e+02,   1.59000000e+02,   7.38071958e-01,\n",
       "          9.00000000e+00],\n",
       "       [  1.56000000e+02,   1.70000000e+02,   7.76241494e-01,\n",
       "          8.00000000e+00],\n",
       "       [  1.50000000e+02,   1.69000000e+02,   7.80671885e-01,\n",
       "          7.00000000e+00],\n",
       "       [  1.52000000e+02,   1.57000000e+02,   7.84382989e-01,\n",
       "          4.00000000e+00],\n",
       "       [  1.40000000e+02,   1.53000000e+02,   7.97096484e-01,\n",
       "          7.00000000e+00],\n",
       "       [  1.66000000e+02,   1.72000000e+02,   8.13788653e-01,\n",
       "          1.10000000e+01],\n",
       "       [  1.23000000e+02,   1.68000000e+02,   8.62524246e-01,\n",
       "          6.00000000e+00],\n",
       "       [  1.78000000e+02,   1.79000000e+02,   8.66440597e-01,\n",
       "          1.50000000e+01],\n",
       "       [  1.71000000e+02,   1.76000000e+02,   8.67644293e-01,\n",
       "          1.20000000e+01],\n",
       "       [  1.65000000e+02,   1.77000000e+02,   8.79310594e-01,\n",
       "          1.60000000e+01],\n",
       "       [  1.73000000e+02,   1.74000000e+02,   8.86582466e-01,\n",
       "          9.00000000e+00],\n",
       "       [  1.81000000e+02,   1.83000000e+02,   8.99854585e-01,\n",
       "          1.30000000e+01],\n",
       "       [  1.62000000e+02,   1.80000000e+02,   9.06405322e-01,\n",
       "          8.00000000e+00],\n",
       "       [  1.64000000e+02,   1.87000000e+02,   9.24683811e-01,\n",
       "          1.30000000e+01],\n",
       "       [  1.84000000e+02,   1.89000000e+02,   9.27728927e-01,\n",
       "          2.30000000e+01],\n",
       "       [  1.75000000e+02,   1.85000000e+02,   9.44398975e-01,\n",
       "          1.70000000e+01],\n",
       "       [  1.63000000e+02,   1.86000000e+02,   9.47536715e-01,\n",
       "          2.30000000e+01],\n",
       "       [  1.82000000e+02,   1.90000000e+02,   9.55560625e-01,\n",
       "          2.40000000e+01],\n",
       "       [  1.91000000e+02,   1.92000000e+02,   9.56804509e-01,\n",
       "          4.00000000e+01],\n",
       "       [  1.88000000e+02,   1.93000000e+02,   9.80037554e-01,\n",
       "          3.60000000e+01],\n",
       "       [  1.95000000e+02,   1.96000000e+02,   9.89926501e-01,\n",
       "          7.60000000e+01],\n",
       "       [  1.94000000e+02,   1.97000000e+02,   9.98907227e-01,\n",
       "          1.00000000e+02]])"
      ]
     },
     "execution_count": 27,
     "metadata": {},
     "output_type": "execute_result"
    }
   ],
   "source": [
    "result1 = linkage(data, metric = 'chebyshev', method = 'complete')\n",
    "result1"
   ]
  },
  {
   "cell_type": "code",
   "execution_count": 25,
   "metadata": {},
   "outputs": [
    {
     "data": {
      "image/png": "[encoded data removed]",
      "text/plain": [
       "<matplotlib.figure.Figure at 0x1f97826fe48>"
      ]
     },
     "metadata": {},
     "output_type": "display_data"
    }
   ],
   "source": [
    "dendrogram(result1)\n",
    "show()"
   ]
  },
  {
   "cell_type": "code",
   "execution_count": 26,
   "metadata": {},
   "outputs": [
    {
     "data": {
      "image/png": "[encoded data removed]",
      "text/plain": [
       "<matplotlib.figure.Figure at 0x1f97841d588>"
      ]
     },
     "metadata": {},
     "output_type": "display_data"
    }
   ],
   "source": [
    "result1 = linkage(data, metric = 'euclidean', method = 'average')\n",
    "dendrogram(result1)\n",
    "show()"
   ]
  },
  {
   "cell_type": "code",
   "execution_count": 28,
   "metadata": {},
   "outputs": [
    {
     "data": {
      "image/png": "[encoded data removed]",
      "text/plain": [
       "<matplotlib.figure.Figure at 0x1f9782ce2e8>"
      ]
     },
     "metadata": {},
     "output_type": "display_data"
    }
   ],
   "source": [
    "dendrogram(result1, p=10, truncate_mode='lastp')\n",
    "show()"
   ]
  },
  {
   "cell_type": "code",
   "execution_count": 30,
   "metadata": {},
   "outputs": [
    {
     "ename": "AttributeError",
     "evalue": "'list' object has no attribute 'ix'",
     "output_type": "error",
     "traceback": [
      "\u001b[1;31m---------------------------------------------------------------------------\u001b[0m",
      "\u001b[1;31mAttributeError\u001b[0m                            Traceback (most recent call last)",
      "\u001b[1;32m<ipython-input-30-38152827b6e5>\u001b[0m in \u001b[0;36m<module>\u001b[1;34m()\u001b[0m\n\u001b[1;32m----> 1\u001b[1;33m \u001b[0mdf\u001b[0m\u001b[1;33m.\u001b[0m\u001b[0mrowclust\u001b[0m \u001b[1;33m=\u001b[0m \u001b[0mdata\u001b[0m\u001b[1;33m.\u001b[0m\u001b[0mix\u001b[0m\u001b[1;33m[\u001b[0m\u001b[0mrow_dendr\u001b[0m\u001b[1;33m[\u001b[0m\u001b[1;34m'leaves'\u001b[0m\u001b[1;33m]\u001b[0m\u001b[1;33m[\u001b[0m\u001b[1;33m:\u001b[0m\u001b[1;33m:\u001b[0m\u001b[1;36m1\u001b[0m\u001b[1;33m]\u001b[0m\u001b[1;33m]\u001b[0m\u001b[1;33m\u001b[0m\u001b[0m\n\u001b[0m",
      "\u001b[1;31mAttributeError\u001b[0m: 'list' object has no attribute 'ix'"
     ]
    }
   ],
   "source": [
    "df.rowclust = data.ix[row_dendr['leaves'][::1]]"
   ]
  },
  {
   "cell_type": "code",
   "execution_count": 10,
   "metadata": {
    "collapsed": true
   },
   "outputs": [],
   "source": [
    "dArray1 = distance.pdist(data, metric = 'chebyshev')\n",
    "result2 = linkage(dArray1, method = 'average')\n",
    " \n",
    "assert (result1 == result2).all()#同じ結果"
   ]
  },
  {
   "cell_type": "code",
   "execution_count": 11,
   "metadata": {
    "collapsed": true
   },
   "outputs": [],
   "source": [
    "dArray2 = []\n",
    "for i in range(n - 1):\n",
    "  for j in range(i + 1, n):\n",
    "    dArray2.append(distance.chebyshev(data[i], data[j]));\n",
    " \n",
    "assert (dArray1 == dArray2).all()#同じもの"
   ]
  },
  {
   "cell_type": "code",
   "execution_count": 12,
   "metadata": {
    "collapsed": true
   },
   "outputs": [],
   "source": [
    "dMatrix1 = numpy.zeros([n, n])\n",
    "for i in range(n):\n",
    "  for j in range(n):\n",
    "    dMatrix1[i, j] = distance.chebyshev(data[i], data[j])\n",
    " \n",
    "dArray3 = distance.squareform(dMatrix1)\n",
    "assert (dArray1 == dArray3).all()#同じもの"
   ]
  },
  {
   "cell_type": "code",
   "execution_count": 13,
   "metadata": {
    "collapsed": true
   },
   "outputs": [],
   "source": [
    "dMatrix2 = distance.squareform(dArray1)\n",
    "assert (dMatrix1 == dMatrix2).all()#同じもの"
   ]
  },
  {
   "cell_type": "markdown",
   "metadata": {},
   "source": [
    "[python - scipy pdist() on a pandas DataFrame - Stack Overflow](https://stackoverflow.com/questions/32946241/scipy-pdist-on-a-pandas-dataframe)"
   ]
  },
  {
   "cell_type": "code",
   "execution_count": 15,
   "metadata": {
    "collapsed": true
   },
   "outputs": [],
   "source": [
    "import pandas as pd\n",
    "df = pd.DataFrame({ 'A' : [0, 0, 1],\n",
    "                    'B' : [2, 3, 4],\n",
    "                    'C' : [5, 0, 1],\n",
    "                    'D' : [1, 1, 0]},\n",
    "                    columns= ['A','B', 'C', 'D'], index=['first', 'second', 'third'])"
   ]
  },
  {
   "cell_type": "code",
   "execution_count": 16,
   "metadata": {},
   "outputs": [
    {
     "ename": "TypeError",
     "evalue": "'numpy.ndarray' object is not callable",
     "output_type": "error",
     "traceback": [
      "\u001b[1;31m---------------------------------------------------------------------------\u001b[0m",
      "\u001b[1;31mTypeError\u001b[0m                                 Traceback (most recent call last)",
      "\u001b[1;32m<ipython-input-16-41a05526f457>\u001b[0m in \u001b[0;36m<module>\u001b[1;34m()\u001b[0m\n\u001b[0;32m      1\u001b[0m \u001b[1;32mfrom\u001b[0m \u001b[0mscipy\u001b[0m\u001b[1;33m.\u001b[0m\u001b[0mspatial\u001b[0m\u001b[1;33m.\u001b[0m\u001b[0mdistance\u001b[0m \u001b[1;32mimport\u001b[0m \u001b[0msquareform\u001b[0m\u001b[1;33m\u001b[0m\u001b[0m\n\u001b[1;32m----> 2\u001b[1;33m \u001b[0mres\u001b[0m \u001b[1;33m=\u001b[0m \u001b[0mpdist\u001b[0m\u001b[1;33m(\u001b[0m\u001b[0mdf\u001b[0m\u001b[1;33m,\u001b[0m \u001b[1;34m'cityblock'\u001b[0m\u001b[1;33m)\u001b[0m\u001b[1;33m\u001b[0m\u001b[0m\n\u001b[0m\u001b[0;32m      3\u001b[0m \u001b[0msquareform\u001b[0m\u001b[1;33m(\u001b[0m\u001b[0mres\u001b[0m\u001b[1;33m)\u001b[0m\u001b[1;33m\u001b[0m\u001b[0m\n\u001b[0;32m      4\u001b[0m \u001b[0mpd\u001b[0m\u001b[1;33m.\u001b[0m\u001b[0mDataFrame\u001b[0m\u001b[1;33m(\u001b[0m\u001b[0msquareform\u001b[0m\u001b[1;33m(\u001b[0m\u001b[0mres\u001b[0m\u001b[1;33m)\u001b[0m\u001b[1;33m,\u001b[0m \u001b[0mindex\u001b[0m\u001b[1;33m=\u001b[0m\u001b[0mdf\u001b[0m\u001b[1;33m.\u001b[0m\u001b[0mindex\u001b[0m\u001b[1;33m,\u001b[0m \u001b[0mcolumns\u001b[0m\u001b[1;33m=\u001b[0m \u001b[0mdf\u001b[0m\u001b[1;33m.\u001b[0m\u001b[0mindex\u001b[0m\u001b[1;33m)\u001b[0m\u001b[1;33m\u001b[0m\u001b[0m\n",
      "\u001b[1;31mTypeError\u001b[0m: 'numpy.ndarray' object is not callable"
     ]
    }
   ],
   "source": [
    "from scipy.spatial.distance import squareform\n",
    "res = pdist(df, 'cityblock')\n",
    "squareform(res)\n",
    "pd.DataFrame(squareform(res), index=df.index, columns= df.index)"
   ]
  },
  {
   "cell_type": "code",
   "execution_count": 17,
   "metadata": {},
   "outputs": [
    {
     "data": {
      "text/plain": [
       "<function scipy.spatial.distance.cityblock>"
      ]
     },
     "execution_count": 17,
     "metadata": {},
     "output_type": "execute_result"
    }
   ],
   "source": [
    "scipy.spatial.distance.cityblock"
   ]
  },
  {
   "cell_type": "markdown",
   "metadata": {},
   "source": [
    "# クラスタを階層木として構成する"
   ]
  },
  {
   "cell_type": "code",
   "execution_count": 33,
   "metadata": {},
   "outputs": [
    {
     "data": {
      "text/html": [
       "<div>\n",
       "<style>\n",
       "    .dataframe thead tr:only-child th {\n",
       "        text-align: right;\n",
       "    }\n",
       "\n",
       "    .dataframe thead th {\n",
       "        text-align: left;\n",
       "    }\n",
       "\n",
       "    .dataframe tbody tr th {\n",
       "        vertical-align: top;\n",
       "    }\n",
       "</style>\n",
       "<table border=\"1\" class=\"dataframe\">\n",
       "  <thead>\n",
       "    <tr style=\"text-align: right;\">\n",
       "      <th></th>\n",
       "      <th>X</th>\n",
       "      <th>Y</th>\n",
       "      <th>Z</th>\n",
       "    </tr>\n",
       "  </thead>\n",
       "  <tbody>\n",
       "    <tr>\n",
       "      <th>ID_0</th>\n",
       "      <td>6.964692</td>\n",
       "      <td>2.861393</td>\n",
       "      <td>2.268515</td>\n",
       "    </tr>\n",
       "    <tr>\n",
       "      <th>ID_1</th>\n",
       "      <td>5.513148</td>\n",
       "      <td>7.194690</td>\n",
       "      <td>4.231065</td>\n",
       "    </tr>\n",
       "    <tr>\n",
       "      <th>ID_2</th>\n",
       "      <td>9.807642</td>\n",
       "      <td>6.848297</td>\n",
       "      <td>4.809319</td>\n",
       "    </tr>\n",
       "    <tr>\n",
       "      <th>ID_3</th>\n",
       "      <td>3.921175</td>\n",
       "      <td>3.431780</td>\n",
       "      <td>7.290497</td>\n",
       "    </tr>\n",
       "    <tr>\n",
       "      <th>ID_4</th>\n",
       "      <td>4.385722</td>\n",
       "      <td>0.596779</td>\n",
       "      <td>3.980443</td>\n",
       "    </tr>\n",
       "  </tbody>\n",
       "</table>\n",
       "</div>"
      ],
      "text/plain": [
       "             X         Y         Z\n",
       "ID_0  6.964692  2.861393  2.268515\n",
       "ID_1  5.513148  7.194690  4.231065\n",
       "ID_2  9.807642  6.848297  4.809319\n",
       "ID_3  3.921175  3.431780  7.290497\n",
       "ID_4  4.385722  0.596779  3.980443"
      ]
     },
     "execution_count": 33,
     "metadata": {},
     "output_type": "execute_result"
    }
   ],
   "source": [
    "import pandas as pd\n",
    "import numpy as np\n",
    "np.random.seed(123)\n",
    "variables = ['X', 'Y', 'Z']\n",
    "labels = ['ID_0', 'ID_1', 'ID_2', 'ID_3', 'ID_4']\n",
    "X = np.random.random_sample([5, 3]) * 10\n",
    "df = pd.DataFrame(X, columns = variables, index = labels)\n",
    "df"
   ]
  },
  {
   "cell_type": "markdown",
   "metadata": {},
   "source": [
    "# 距離行列で階層的クラスタリングを実行する"
   ]
  },
  {
   "cell_type": "code",
   "execution_count": 34,
   "metadata": {},
   "outputs": [
    {
     "data": {
      "text/html": [
       "<div>\n",
       "<style>\n",
       "    .dataframe thead tr:only-child th {\n",
       "        text-align: right;\n",
       "    }\n",
       "\n",
       "    .dataframe thead th {\n",
       "        text-align: left;\n",
       "    }\n",
       "\n",
       "    .dataframe tbody tr th {\n",
       "        vertical-align: top;\n",
       "    }\n",
       "</style>\n",
       "<table border=\"1\" class=\"dataframe\">\n",
       "  <thead>\n",
       "    <tr style=\"text-align: right;\">\n",
       "      <th></th>\n",
       "      <th>ID_0</th>\n",
       "      <th>ID_1</th>\n",
       "      <th>ID_2</th>\n",
       "      <th>ID_3</th>\n",
       "      <th>ID_4</th>\n",
       "    </tr>\n",
       "  </thead>\n",
       "  <tbody>\n",
       "    <tr>\n",
       "      <th>ID_0</th>\n",
       "      <td>0.000000</td>\n",
       "      <td>4.973534</td>\n",
       "      <td>5.516653</td>\n",
       "      <td>5.899885</td>\n",
       "      <td>3.835396</td>\n",
       "    </tr>\n",
       "    <tr>\n",
       "      <th>ID_1</th>\n",
       "      <td>4.973534</td>\n",
       "      <td>0.000000</td>\n",
       "      <td>4.347073</td>\n",
       "      <td>5.104311</td>\n",
       "      <td>6.698233</td>\n",
       "    </tr>\n",
       "    <tr>\n",
       "      <th>ID_2</th>\n",
       "      <td>5.516653</td>\n",
       "      <td>4.347073</td>\n",
       "      <td>0.000000</td>\n",
       "      <td>7.244262</td>\n",
       "      <td>8.316594</td>\n",
       "    </tr>\n",
       "    <tr>\n",
       "      <th>ID_3</th>\n",
       "      <td>5.899885</td>\n",
       "      <td>5.104311</td>\n",
       "      <td>7.244262</td>\n",
       "      <td>0.000000</td>\n",
       "      <td>4.382864</td>\n",
       "    </tr>\n",
       "    <tr>\n",
       "      <th>ID_4</th>\n",
       "      <td>3.835396</td>\n",
       "      <td>6.698233</td>\n",
       "      <td>8.316594</td>\n",
       "      <td>4.382864</td>\n",
       "      <td>0.000000</td>\n",
       "    </tr>\n",
       "  </tbody>\n",
       "</table>\n",
       "</div>"
      ],
      "text/plain": [
       "          ID_0      ID_1      ID_2      ID_3      ID_4\n",
       "ID_0  0.000000  4.973534  5.516653  5.899885  3.835396\n",
       "ID_1  4.973534  0.000000  4.347073  5.104311  6.698233\n",
       "ID_2  5.516653  4.347073  0.000000  7.244262  8.316594\n",
       "ID_3  5.899885  5.104311  7.244262  0.000000  4.382864\n",
       "ID_4  3.835396  6.698233  8.316594  4.382864  0.000000"
      ]
     },
     "execution_count": 34,
     "metadata": {},
     "output_type": "execute_result"
    }
   ],
   "source": [
    "from scipy.spatial.distance import pdist, squareform\n",
    "row_dist = pd.DataFrame(squareform(pdist(df, metric = 'euclidean')),\n",
    "                       columns=labels, index=labels)\n",
    "row_dist"
   ]
  },
  {
   "cell_type": "code",
   "execution_count": 35,
   "metadata": {
    "collapsed": true
   },
   "outputs": [
    {
     "name": "stdout",
     "output_type": "stream",
     "text": [
      "Help on function linkage in module scipy.cluster.hierarchy:\n",
      "\n",
      "linkage(y, method='single', metric='euclidean')\n",
      "    Performs hierarchical/agglomerative clustering.\n",
      "    \n",
      "    The input y may be either a 1d compressed distance matrix\n",
      "    or a 2d array of observation vectors.\n",
      "    \n",
      "    If y is a 1d compressed distance matrix,\n",
      "    then y must be a :math:`{n \\choose 2}` sized\n",
      "    vector where n is the number of original observations paired\n",
      "    in the distance matrix. The behavior of this function is very\n",
      "    similar to the MATLAB linkage function.\n",
      "    \n",
      "    A :math:`(n-1)` by 4 matrix ``Z`` is returned. At the\n",
      "    :math:`i`-th iteration, clusters with indices ``Z[i, 0]`` and\n",
      "    ``Z[i, 1]`` are combined to form cluster :math:`n + i`. A\n",
      "    cluster with an index less than :math:`n` corresponds to one of\n",
      "    the :math:`n` original observations. The distance between\n",
      "    clusters ``Z[i, 0]`` and ``Z[i, 1]`` is given by ``Z[i, 2]``. The\n",
      "    fourth value ``Z[i, 3]`` represents the number of original\n",
      "    observations in the newly formed cluster.\n",
      "    \n",
      "    The following linkage methods are used to compute the distance\n",
      "    :math:`d(s, t)` between two clusters :math:`s` and\n",
      "    :math:`t`. The algorithm begins with a forest of clusters that\n",
      "    have yet to be used in the hierarchy being formed. When two\n",
      "    clusters :math:`s` and :math:`t` from this forest are combined\n",
      "    into a single cluster :math:`u`, :math:`s` and :math:`t` are\n",
      "    removed from the forest, and :math:`u` is added to the\n",
      "    forest. When only one cluster remains in the forest, the algorithm\n",
      "    stops, and this cluster becomes the root.\n",
      "    \n",
      "    A distance matrix is maintained at each iteration. The ``d[i,j]``\n",
      "    entry corresponds to the distance between cluster :math:`i` and\n",
      "    :math:`j` in the original forest.\n",
      "    \n",
      "    At each iteration, the algorithm must update the distance matrix\n",
      "    to reflect the distance of the newly formed cluster u with the\n",
      "    remaining clusters in the forest.\n",
      "    \n",
      "    Suppose there are :math:`|u|` original observations\n",
      "    :math:`u[0], \\ldots, u[|u|-1]` in cluster :math:`u` and\n",
      "    :math:`|v|` original objects :math:`v[0], \\ldots, v[|v|-1]` in\n",
      "    cluster :math:`v`. Recall :math:`s` and :math:`t` are\n",
      "    combined to form cluster :math:`u`. Let :math:`v` be any\n",
      "    remaining cluster in the forest that is not :math:`u`.\n",
      "    \n",
      "    The following are methods for calculating the distance between the\n",
      "    newly formed cluster :math:`u` and each :math:`v`.\n",
      "    \n",
      "      * method='single' assigns\n",
      "    \n",
      "        .. math::\n",
      "           d(u,v) = \\min(dist(u[i],v[j]))\n",
      "    \n",
      "        for all points :math:`i` in cluster :math:`u` and\n",
      "        :math:`j` in cluster :math:`v`. This is also known as the\n",
      "        Nearest Point Algorithm.\n",
      "    \n",
      "      * method='complete' assigns\n",
      "    \n",
      "        .. math::\n",
      "           d(u, v) = \\max(dist(u[i],v[j]))\n",
      "    \n",
      "        for all points :math:`i` in cluster u and :math:`j` in\n",
      "        cluster :math:`v`. This is also known by the Farthest Point\n",
      "        Algorithm or Voor Hees Algorithm.\n",
      "    \n",
      "      * method='average' assigns\n",
      "    \n",
      "        .. math::\n",
      "           d(u,v) = \\sum_{ij} \\frac{d(u[i], v[j])}\n",
      "                                   {(|u|*|v|)}\n",
      "    \n",
      "        for all points :math:`i` and :math:`j` where :math:`|u|`\n",
      "        and :math:`|v|` are the cardinalities of clusters :math:`u`\n",
      "        and :math:`v`, respectively. This is also called the UPGMA\n",
      "        algorithm.\n",
      "    \n",
      "      * method='weighted' assigns\n",
      "    \n",
      "        .. math::\n",
      "           d(u,v) = (dist(s,v) + dist(t,v))/2\n",
      "    \n",
      "        where cluster u was formed with cluster s and t and v\n",
      "        is a remaining cluster in the forest. (also called WPGMA)\n",
      "    \n",
      "      * method='centroid' assigns\n",
      "    \n",
      "        .. math::\n",
      "           dist(s,t) = ||c_s-c_t||_2\n",
      "    \n",
      "        where :math:`c_s` and :math:`c_t` are the centroids of\n",
      "        clusters :math:`s` and :math:`t`, respectively. When two\n",
      "        clusters :math:`s` and :math:`t` are combined into a new\n",
      "        cluster :math:`u`, the new centroid is computed over all the\n",
      "        original objects in clusters :math:`s` and :math:`t`. The\n",
      "        distance then becomes the Euclidean distance between the\n",
      "        centroid of :math:`u` and the centroid of a remaining cluster\n",
      "        :math:`v` in the forest. This is also known as the UPGMC\n",
      "        algorithm.\n",
      "    \n",
      "      * method='median' assigns :math:`d(s,t)` like the ``centroid``\n",
      "        method. When two clusters :math:`s` and :math:`t` are combined\n",
      "        into a new cluster :math:`u`, the average of centroids s and t\n",
      "        give the new centroid :math:`u`. This is also known as the\n",
      "        WPGMC algorithm.\n",
      "    \n",
      "      * method='ward' uses the Ward variance minimization algorithm.\n",
      "        The new entry :math:`d(u,v)` is computed as follows,\n",
      "    \n",
      "        .. math::\n",
      "    \n",
      "           d(u,v) = \\sqrt{\\frac{|v|+|s|}\n",
      "                               {T}d(v,s)^2\n",
      "                        + \\frac{|v|+|t|}\n",
      "                               {T}d(v,t)^2\n",
      "                        - \\frac{|v|}\n",
      "                               {T}d(s,t)^2}\n",
      "    \n",
      "        where :math:`u` is the newly joined cluster consisting of\n",
      "        clusters :math:`s` and :math:`t`, :math:`v` is an unused\n",
      "        cluster in the forest, :math:`T=|v|+|s|+|t|`, and\n",
      "        :math:`|*|` is the cardinality of its argument. This is also\n",
      "        known as the incremental algorithm.\n",
      "    \n",
      "    Warning: When the minimum distance pair in the forest is chosen, there\n",
      "    may be two or more pairs with the same minimum distance. This\n",
      "    implementation may chose a different minimum than the MATLAB\n",
      "    version.\n",
      "    \n",
      "    Parameters\n",
      "    ----------\n",
      "    y : ndarray\n",
      "        A condensed distance matrix. A condensed distance matrix\n",
      "        is a flat array containing the upper triangular of the distance matrix.\n",
      "        This is the form that ``pdist`` returns. Alternatively, a collection of\n",
      "        :math:`m` observation vectors in :math:`n` dimensions may be passed as an\n",
      "        :math:`m` by :math:`n` array. All elements of the condensed distance matrix\n",
      "        must be finite, i.e. no NaNs or infs.\n",
      "    method : str, optional\n",
      "        The linkage algorithm to use. See the ``Linkage Methods`` section below\n",
      "        for full descriptions.\n",
      "    metric : str or function, optional\n",
      "        The distance metric to use in the case that y is a collection of\n",
      "        observation vectors; ignored otherwise. See the ``pdist``\n",
      "        function for a list of valid distance metrics. A custom distance\n",
      "        function can also be used.\n",
      "    \n",
      "    Returns\n",
      "    -------\n",
      "    Z : ndarray\n",
      "        The hierarchical clustering encoded as a linkage matrix.\n",
      "    \n",
      "    Notes\n",
      "    -----\n",
      "    1. For method 'single' an optimized algorithm based on minimum spanning\n",
      "       tree is implemented. It has time complexity :math:`O(n^2)`.\n",
      "       For methods 'complete', 'average', 'weighted' and 'ward' an algorithm\n",
      "       called nearest-neighbors chain is implemented. It also has time\n",
      "       complexity :math:`O(n^2)`.\n",
      "       For other methods a naive algorithm is implemented with :math:`O(n^3)`\n",
      "       time complexity.\n",
      "       All algorithms use :math:`O(n^2)` memory.\n",
      "       Refer to [1]_ for details about the algorithms.\n",
      "    2. Methods 'centroid', 'median' and 'ward' are correctly defined only if\n",
      "       Euclidean pairwise metric is used. If `y` is passed as precomputed\n",
      "       pairwise distances, then it is a user responsibility to assure that\n",
      "       these distances are in fact Euclidean, otherwise the produced result\n",
      "       will be incorrect.\n",
      "    \n",
      "    See Also\n",
      "    --------\n",
      "    scipy.spatial.distance.pdist : pairwise distance metrics\n",
      "    \n",
      "    References\n",
      "    ----------\n",
      "    .. [1] Daniel Mullner, \"Modern hierarchical, agglomerative clustering\n",
      "           algorithms\", :arXiv:`1109.2378v1`.\n",
      "\n"
     ]
    }
   ],
   "source": [
    "from scipy.cluster.hierarchy import linkage\n",
    "help(linkage)"
   ]
  },
  {
   "cell_type": "code",
   "execution_count": 37,
   "metadata": {
    "collapsed": true
   },
   "outputs": [],
   "source": [
    "from scipy.cluster.hierarchy import linkage"
   ]
  },
  {
   "cell_type": "code",
   "execution_count": 41,
   "metadata": {
    "collapsed": true
   },
   "outputs": [],
   "source": [
    "row_clusters = linkage(pdist(df, metric='euclidean'), method='complete')"
   ]
  },
  {
   "cell_type": "code",
   "execution_count": 42,
   "metadata": {
    "collapsed": true
   },
   "outputs": [],
   "source": [
    "row_clusters = linkage(df.values, method='complete', metric='euclidean')"
   ]
  },
  {
   "cell_type": "code",
   "execution_count": 52,
   "metadata": {},
   "outputs": [
    {
     "data": {
      "text/html": [
       "<div>\n",
       "<style>\n",
       "    .dataframe thead tr:only-child th {\n",
       "        text-align: right;\n",
       "    }\n",
       "\n",
       "    .dataframe thead th {\n",
       "        text-align: left;\n",
       "    }\n",
       "\n",
       "    .dataframe tbody tr th {\n",
       "        vertical-align: top;\n",
       "    }\n",
       "</style>\n",
       "<table border=\"1\" class=\"dataframe\">\n",
       "  <thead>\n",
       "    <tr style=\"text-align: right;\">\n",
       "      <th></th>\n",
       "      <th>row label 1</th>\n",
       "      <th>row label 2</th>\n",
       "      <th>distance</th>\n",
       "      <th>no. of tems in clust.</th>\n",
       "    </tr>\n",
       "  </thead>\n",
       "  <tbody>\n",
       "    <tr>\n",
       "      <th>cluster 1</th>\n",
       "      <td>0.0</td>\n",
       "      <td>4.0</td>\n",
       "      <td>3.835396</td>\n",
       "      <td>2.0</td>\n",
       "    </tr>\n",
       "    <tr>\n",
       "      <th>cluster 2</th>\n",
       "      <td>1.0</td>\n",
       "      <td>2.0</td>\n",
       "      <td>4.347073</td>\n",
       "      <td>2.0</td>\n",
       "    </tr>\n",
       "    <tr>\n",
       "      <th>cluster 3</th>\n",
       "      <td>3.0</td>\n",
       "      <td>5.0</td>\n",
       "      <td>5.899885</td>\n",
       "      <td>3.0</td>\n",
       "    </tr>\n",
       "    <tr>\n",
       "      <th>cluster 4</th>\n",
       "      <td>6.0</td>\n",
       "      <td>7.0</td>\n",
       "      <td>8.316594</td>\n",
       "      <td>5.0</td>\n",
       "    </tr>\n",
       "  </tbody>\n",
       "</table>\n",
       "</div>"
      ],
      "text/plain": [
       "           row label 1  row label 2  distance  no. of tems in clust.\n",
       "cluster 1          0.0          4.0  3.835396                    2.0\n",
       "cluster 2          1.0          2.0  4.347073                    2.0\n",
       "cluster 3          3.0          5.0  5.899885                    3.0\n",
       "cluster 4          6.0          7.0  8.316594                    5.0"
      ]
     },
     "execution_count": 52,
     "metadata": {},
     "output_type": "execute_result"
    }
   ],
   "source": [
    "pd.DataFrame(row_clusters, columns= ['row label 1', 'row label 2', 'distance', 'no. of tems in clust.'],\n",
    "            index=['cluster %d' % (i + 1) for i in range(row_clusters.shape[0])])"
   ]
  },
  {
   "cell_type": "code",
   "execution_count": 54,
   "metadata": {},
   "outputs": [
    {
     "data": {
      "image/png": "[encoded data removed]",
      "text/plain": [
       "<matplotlib.figure.Figure at 0x1f978feb780>"
      ]
     },
     "metadata": {},
     "output_type": "display_data"
    }
   ],
   "source": [
    "from scipy.cluster.hierarchy import dendrogram\n",
    "row_dendr = dendrogram(row_clusters, labels=labels,)\n",
    "plt.ylabel('Euclidean distance')\n",
    "plt.show()"
   ]
  },
  {
   "cell_type": "markdown",
   "metadata": {},
   "source": [
    "# 樹形図をヒートマップと組み合わせる"
   ]
  },
  {
   "cell_type": "code",
   "execution_count": 44,
   "metadata": {
    "collapsed": true
   },
   "outputs": [],
   "source": [
    "import matplotlib.pyplot as plt\n",
    "fig = plt.figure(figsize=(8,8), facecolor='white')\n",
    "axd = fig.add_axes([0.09, 0.1, 0.2, 0.6])\n",
    "row_dendr = dendrogram(row_clusters, orientation='right')"
   ]
  },
  {
   "cell_type": "code",
   "execution_count": 45,
   "metadata": {},
   "outputs": [
    {
     "name": "stderr",
     "output_type": "stream",
     "text": [
      "C:\\Users\\tateno\\AppData\\Local\\conda\\conda\\envs\\py35\\lib\\site-packages\\ipykernel_launcher.py:1: DeprecationWarning: \n",
      ".ix is deprecated. Please use\n",
      ".loc for label based indexing or\n",
      ".iloc for positional indexing\n",
      "\n",
      "See the documentation here:\n",
      "http://pandas.pydata.org/pandas-docs/stable/indexing.html#deprecate_ix\n",
      "  \"\"\"Entry point for launching an IPython kernel.\n"
     ]
    }
   ],
   "source": [
    "df_rowclust = df.ix[row_dendr['leaves'][::-1]]"
   ]
  },
  {
   "cell_type": "code",
   "execution_count": 48,
   "metadata": {},
   "outputs": [
    {
     "data": {
      "text/html": [
       "<div>\n",
       "<style>\n",
       "    .dataframe thead tr:only-child th {\n",
       "        text-align: right;\n",
       "    }\n",
       "\n",
       "    .dataframe thead th {\n",
       "        text-align: left;\n",
       "    }\n",
       "\n",
       "    .dataframe tbody tr th {\n",
       "        vertical-align: top;\n",
       "    }\n",
       "</style>\n",
       "<table border=\"1\" class=\"dataframe\">\n",
       "  <thead>\n",
       "    <tr style=\"text-align: right;\">\n",
       "      <th></th>\n",
       "      <th>X</th>\n",
       "      <th>Y</th>\n",
       "      <th>Z</th>\n",
       "    </tr>\n",
       "  </thead>\n",
       "  <tbody>\n",
       "    <tr>\n",
       "      <th>ID_4</th>\n",
       "      <td>4.385722</td>\n",
       "      <td>0.596779</td>\n",
       "      <td>3.980443</td>\n",
       "    </tr>\n",
       "    <tr>\n",
       "      <th>ID_0</th>\n",
       "      <td>6.964692</td>\n",
       "      <td>2.861393</td>\n",
       "      <td>2.268515</td>\n",
       "    </tr>\n",
       "    <tr>\n",
       "      <th>ID_3</th>\n",
       "      <td>3.921175</td>\n",
       "      <td>3.431780</td>\n",
       "      <td>7.290497</td>\n",
       "    </tr>\n",
       "    <tr>\n",
       "      <th>ID_2</th>\n",
       "      <td>9.807642</td>\n",
       "      <td>6.848297</td>\n",
       "      <td>4.809319</td>\n",
       "    </tr>\n",
       "    <tr>\n",
       "      <th>ID_1</th>\n",
       "      <td>5.513148</td>\n",
       "      <td>7.194690</td>\n",
       "      <td>4.231065</td>\n",
       "    </tr>\n",
       "  </tbody>\n",
       "</table>\n",
       "</div>"
      ],
      "text/plain": [
       "             X         Y         Z\n",
       "ID_4  4.385722  0.596779  3.980443\n",
       "ID_0  6.964692  2.861393  2.268515\n",
       "ID_3  3.921175  3.431780  7.290497\n",
       "ID_2  9.807642  6.848297  4.809319\n",
       "ID_1  5.513148  7.194690  4.231065"
      ]
     },
     "execution_count": 48,
     "metadata": {},
     "output_type": "execute_result"
    }
   ],
   "source": [
    "df_rowclust"
   ]
  },
  {
   "cell_type": "code",
   "execution_count": 46,
   "metadata": {
    "collapsed": true
   },
   "outputs": [],
   "source": [
    "axm = fig.add_axes([0.23, 0.1, 0.6, 0.6])\n",
    "cax = axm.matshow(df_rowclust, interpolation='nearest', cmap= 'hot_r')"
   ]
  },
  {
   "cell_type": "code",
   "execution_count": 47,
   "metadata": {},
   "outputs": [
    {
     "data": {
      "image/png": "[encoded data removed]",
      "text/plain": [
       "<matplotlib.figure.Figure at 0x1f9785d1b38>"
      ]
     },
     "metadata": {},
     "output_type": "display_data"
    }
   ],
   "source": [
    "axd.set_xticks([])\n",
    "axd.set_yticks([])\n",
    "for i in axd.spines.values():\n",
    "    i.set_visible(False)\n",
    "    \n",
    "fig.colorbar(cax)\n",
    "axm.set_xticklabels([''] + list(df_rowclust.columns))\n",
    "axm.set_yticklabels([''] + list(df_rowclust.index))\n",
    "plt.show()"
   ]
  },
  {
   "cell_type": "markdown",
   "metadata": {},
   "source": [
    "# 凝集型階層的クラスタリングを適用する"
   ]
  },
  {
   "cell_type": "code",
   "execution_count": 50,
   "metadata": {},
   "outputs": [
    {
     "name": "stdout",
     "output_type": "stream",
     "text": [
      "Cluster labels: [0 1 1 0 0]\n"
     ]
    }
   ],
   "source": [
    "from sklearn.cluster import AgglomerativeClustering\n",
    "ac = AgglomerativeClustering(n_clusters = 2, affinity='euclidean', linkage='complete')\n",
    "labels = ac.fit_predict(X)\n",
    "print('Cluster labels: %s' % labels)"
   ]
  },
  {
   "cell_type": "markdown",
   "metadata": {},
   "source": [
    "# Python - NVD3\n",
    "[areski/python-nvd3: Python Wrapper for NVD3 - It's time for beautiful charts](https://github.com/areski/python-nvd3)\n",
    "# stackedAreaChart\n"
   ]
  },
  {
   "cell_type": "code",
   "execution_count": 1,
   "metadata": {},
   "outputs": [
    {
     "name": "stdout",
     "output_type": "stream",
     "text": [
      "loaded nvd3 IPython extension\n",
      "run nvd3.ipynb.initialize_javascript() to set up the notebook\n",
      "help(nvd3.ipynb.initialize_javascript) for options\n"
     ]
    }
   ],
   "source": [
    "#!/usr/bin/python\n",
    "# -*- coding: utf-8 -*-\n",
    "\n",
    "\"\"\"\n",
    "Examples for Python-nvd3 is a Python wrapper for NVD3 graph library.\n",
    "NVD3 is an attempt to build re-usable charts and chart components\n",
    "for d3.js without taking away the power that d3.js gives you.\n",
    "\n",
    "Project location : https://github.com/areski/python-nvd3\n",
    "\"\"\"\n",
    "\n",
    "from nvd3 import stackedAreaChart\n",
    "\n",
    "# Open File for test\n",
    "output_file = open('test_StackedAreaChart.html', 'w')\n",
    "\n",
    "chart = stackedAreaChart(name='stackedAreaChart', height=400, width=400)\n",
    "\n",
    "xdata = [100, 101, 102, 103, 104, 105, 106]\n",
    "ydata = [6, 11, 12, 7, 11, 10, 11]\n",
    "ydata2 = [8, 20, 16, 12, 20, 28, 28]\n",
    "\n",
    "extra_serie = {\"tooltip\": {\"y_start\": \"There is \", \"y_end\": \" min\"}}\n",
    "chart.add_serie(name=\"Serie 1\", y=ydata, x=xdata, extra=extra_serie)\n",
    "chart.add_serie(name=\"Serie 2\", y=ydata2, x=xdata, extra=extra_serie)\n",
    "chart.buildhtml()\n",
    "\n",
    "output_file.write(chart.htmlcontent)\n",
    "\n",
    "output_file.close()\n"
   ]
  },
  {
   "cell_type": "markdown",
   "metadata": {},
   "source": [
    "[test_StackedAreaChart.html](test_StackedAreaChart.html)"
   ]
  },
  {
   "cell_type": "code",
   "execution_count": 2,
   "metadata": {
    "collapsed": true
   },
   "outputs": [],
   "source": [
    "#!/usr/bin/python\n",
    "# -*- coding: utf-8 -*-\n",
    "\n",
    "\"\"\"\n",
    "Examples for Python-nvd3 is a Python wrapper for NVD3 graph library.\n",
    "NVD3 is an attempt to build re-usable charts and chart components\n",
    "for d3.js without taking away the power that d3.js gives you.\n",
    "\n",
    "Project location : https://github.com/areski/python-nvd3\n",
    "\"\"\"\n",
    "\n",
    "from nvd3 import linePlusBarChart\n",
    "import random\n",
    "import datetime\n",
    "import time\n",
    "\n",
    "\n",
    "start_time = int(time.mktime(datetime.datetime(2012, 6, 1).timetuple()) * 1000)\n",
    "nb_element = 100\n",
    "\n",
    "\n",
    "output_file = open('test_linePlusBarChart.html', 'w')\n",
    "type = \"linePlusBarChart\"\n",
    "chart = linePlusBarChart(name=type, height=350, width=750,\n",
    "                         x_is_date=True, x_axis_format=\"%d %b %Y\",\n",
    "                         focus_enable=True)\n",
    "chart.set_containerheader(\"\\n\\n<h2>\" + type + \"</h2>\\n\\n\")\n",
    "\n",
    "xdata = list(range(nb_element))\n",
    "xdata = [start_time + x * 1000000000 for x in xdata]\n",
    "ydata = [i + random.randint(1, 10) for i in range(nb_element)]\n",
    "ydata2 = [i + random.randint(1, 10) for i in reversed(list(range(nb_element)))]\n",
    "kwargs = {}\n",
    "kwargs['bar'] = True\n",
    "extra_serie = {\"tooltip\": {\"y_start\": \"$ \", \"y_end\": \"\"}}\n",
    "chart.add_serie(name=\"Count\", y=ydata, x=xdata, extra=extra_serie, **kwargs)\n",
    "extra_serie = {\"tooltip\": {\"y_start\": \"\", \"y_end\": \" min\"}}\n",
    "chart.add_serie(name=\"Duration\", y=ydata2, x=xdata, extra=extra_serie)\n",
    "\n",
    "chart.buildhtml()\n",
    "output_file.write(chart.htmlcontent)\n",
    "# ---------------------------------------\n",
    "\n",
    "# close Html file\n",
    "output_file.close()\n"
   ]
  },
  {
   "cell_type": "markdown",
   "metadata": {},
   "source": [
    "[test_linePlusBarChart.html](test_linePlusBarChart.html)"
   ]
  },
  {
   "cell_type": "code",
   "execution_count": 3,
   "metadata": {
    "collapsed": true
   },
   "outputs": [],
   "source": [
    "#!/usr/bin/python\n",
    "# -*- coding: utf-8 -*-\n",
    "\n",
    "\"\"\"\n",
    "Examples for Python-nvd3 is a Python wrapper for NVD3 graph library.\n",
    "NVD3 is an attempt to build re-usable charts and chart components\n",
    "for d3.js without taking away the power that d3.js gives you.\n",
    "\n",
    "Project location : https://github.com/areski/python-nvd3\n",
    "\"\"\"\n",
    "\n",
    "from nvd3 import multiBarChart\n",
    "import random\n",
    "\n",
    "# Open File for test\n",
    "output_file = open('test_multiBarChart.html', 'w')\n",
    "\n",
    "type = \"multiBarChart\"\n",
    "chart = multiBarChart(name=type, height=350)\n",
    "chart.set_containerheader(\"\\n\\n<h2>\" + type + \"</h2>\\n\\n\")\n",
    "chart.callback = '''\n",
    "                    function(){\n",
    "                    d3.selectAll(\".nv-bar\").on('click',\n",
    "                        function(d){\n",
    "                        console.log(\"barchart_callback_test: clicked on bar \" + JSON.stringify(d));\n",
    "                        console.log('/app/call?x='.concat(d['x']));\n",
    "                    }\n",
    "                '''\n",
    "nb_element = 10\n",
    "\n",
    "# On multiBarChart the xdata needs to be numeric,\n",
    "# if you want to use 'string' you should use discreteBarChart\n",
    "xdata = list(range(nb_element))\n",
    "ydata = [random.randint(1, 10) for i in range(nb_element)]\n",
    "ydata2 = [x * 2 for x in ydata]\n",
    "\n",
    "extra_serie = {\"tooltip\": {\"y_start\": \"\", \"y_end\": \" call\"}}\n",
    "chart.add_serie(name=\"Count\", y=ydata, x=xdata, extra=extra_serie)\n",
    "extra_serie = {\"tooltip\": {\"y_start\": \"\", \"y_end\": \" min\"}}\n",
    "chart.add_serie(name=\"Duration\", y=ydata2, x=xdata, extra=extra_serie)\n",
    "chart.buildhtml()\n",
    "\n",
    "output_file.write(chart.htmlcontent)\n",
    "# ---------------------------------------\n",
    "\n",
    "# close Html file\n",
    "output_file.close()\n"
   ]
  },
  {
   "cell_type": "markdown",
   "metadata": {},
   "source": [
    "[test_multiBarChart.html](test_multiBarChart.html)"
   ]
  },
  {
   "cell_type": "code",
   "execution_count": 4,
   "metadata": {
    "collapsed": true
   },
   "outputs": [],
   "source": [
    "#!/usr/bin/python\n",
    "# -*- coding: utf-8 -*-\n",
    "\n",
    "\"\"\"\n",
    "Examples for Python-nvd3 is a Python wrapper for NVD3 graph library.\n",
    "NVD3 is an attempt to build re-usable charts and chart components\n",
    "for d3.js without taking away the power that d3.js gives you.\n",
    "\n",
    "Project location : https://github.com/areski/python-nvd3\n",
    "\"\"\"\n",
    "\n",
    "from nvd3 import multiBarChart\n",
    "import random\n",
    "import time\n",
    "import datetime\n",
    "\n",
    "# Open File for test\n",
    "output_file = open('test_multiBarChart_date.html', 'w')\n",
    "\n",
    "type = \"multiBarChart\"\n",
    "\n",
    "chart = multiBarChart(name=type, height=350, x_is_date=True)\n",
    "chart.set_containerheader(\"\\n\\n<h2>\" + type + \"</h2>\\n\\n\")\n",
    "\n",
    "nb_element = 100\n",
    "start_time = int(time.mktime(datetime.datetime(2013, 6, 1).timetuple()) * 1000)\n",
    "xdata = range(nb_element)\n",
    "xdata = list(map(lambda x: start_time + x * 100000000, xdata))\n",
    "ydata = [i + random.randint(1, 10) for i in range(nb_element)]\n",
    "ydata2 = list(map(lambda x: x * 2, ydata))\n",
    "\n",
    "tooltip_date = \"%d %b %Y %H:%M:%S %p\"\n",
    "extra_serie = {\"tooltip\": {\"y_start\": \"There are \", \"y_end\": \" calls\"},\n",
    "               \"date_format\": tooltip_date}\n",
    "\n",
    "chart.add_serie(name=\"Count\", y=ydata, x=xdata, extra=extra_serie)\n",
    "\n",
    "extra_serie = {\"tooltip\": {\"y_start\": \"There are \", \"y_end\": \" duration\"},\n",
    "               \"date_format\": tooltip_date}\n",
    "chart.add_serie(name=\"Duration\", y=ydata2, x=xdata, extra=extra_serie)\n",
    "chart.buildhtml()\n",
    "\n",
    "output_file.write(chart.htmlcontent)\n",
    "# ---------------------------------------\n",
    "\n",
    "# close Html file\n",
    "output_file.close()\n"
   ]
  },
  {
   "cell_type": "markdown",
   "metadata": {},
   "source": [
    "[test_multiBarChart_date.html](test_multiBarChart_date.html)"
   ]
  },
  {
   "cell_type": "code",
   "execution_count": null,
   "metadata": {
    "collapsed": true
   },
   "outputs": [],
   "source": []
  }
 ],
 "metadata": {
  "kernelspec": {
   "display_name": "Python 3",
   "language": "python",
   "name": "python3"
  },
  "language_info": {
   "codemirror_mode": {
    "name": "ipython",
    "version": 3
   },
   "file_extension": ".py",
   "mimetype": "text/x-python",
   "name": "python",
   "nbconvert_exporter": "python",
   "pygments_lexer": "ipython3",
   "version": "3.5.3"
  }
 },
 "nbformat": 4,
 "nbformat_minor": 2
}
