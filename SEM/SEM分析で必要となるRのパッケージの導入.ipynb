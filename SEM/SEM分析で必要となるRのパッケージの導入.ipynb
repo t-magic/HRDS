{
 "cells": [
  {
   "cell_type": "markdown",
   "metadata": {},
   "source": [
    "# SEM分析で必要となるRのパッケージの導入\n",
    "openxlsx、psych、GPArotation、lavaan、semPlotの五つを導入します。たとえば、openxlsxは、「openxlsx R package」で検索すると、openxlsxのパッケージが登録されている [CRAN - Package openxlsx](https://cran.r-project.org/web/packages/openxlsx/index.html) を見つけることができます。この中で、Windows用のバイナリーファイルは「Windows binaries」の「r-release」のところにあります。Mac用のバイナリーファイルは「OS X El Capitan binaries」の「r-releaseのところにあります。古い版もこのページから辿ることができます。以下は五つのパッケージの登録されている場所(URL)です。\n",
    "\n",
    "1. [openxlsx](https://cran.r-project.org/web/packages/openxlsx/index.html)\n",
    "1. [psych](https://cran.r-project.org/web/packages/psych/index.html)\n",
    "1. [GPArotation](https://cran.r-project.org/web/packages/GPArotation/index.html)\n",
    "1. [lavaan](https://cran.r-project.org/web/packages/lavaan/index.html)\n",
    "1. [semPlot](https://cran.r-project.org/web/packages/semPlot/index.html)"
   ]
  },
  {
   "cell_type": "markdown",
   "metadata": {},
   "source": [
    "このノートブックと同じフォルダーにr-releaseがあり、その下にOS別の三つのフォルダーがあります。\n",
    "\n",
    "* r-release\n",
    "    * win-binary\n",
    "    * mac-binary\n",
    "    * source\n",
    "    \n",
    "そのそれぞれの下に、上記の五つのパッケージが置いてあります。\n",
    "ここでは、Windows版のパッケージのインストール方法を示します。"
   ]
  },
  {
   "cell_type": "markdown",
   "metadata": {},
   "source": [
    "### 1. 現在のフォルダーを確認します。"
   ]
  },
  {
   "cell_type": "code",
   "execution_count": 1,
   "metadata": {},
   "outputs": [
    {
     "data": {
      "text/html": [
       "'G:/GitHub/DSPR/SEM'"
      ],
      "text/latex": [
       "'G:/GitHub/DSPR/SEM'"
      ],
      "text/markdown": [
       "'G:/GitHub/DSPR/SEM'"
      ],
      "text/plain": [
       "[1] \"G:/GitHub/DSPR/SEM\""
      ]
     },
     "metadata": {},
     "output_type": "display_data"
    }
   ],
   "source": [
    "getwd()"
   ]
  },
  {
   "cell_type": "markdown",
   "metadata": {},
   "source": [
    "### 2. Windows版のパッケージのフォルダーに移動します。"
   ]
  },
  {
   "cell_type": "code",
   "execution_count": 2,
   "metadata": {},
   "outputs": [],
   "source": [
    "setwd(\"r-release/win-binary\")"
   ]
  },
  {
   "cell_type": "markdown",
   "metadata": {},
   "source": [
    "### 3. 五つのパッケージをインストールします。"
   ]
  },
  {
   "cell_type": "code",
   "execution_count": 3,
   "metadata": {},
   "outputs": [
    {
     "name": "stderr",
     "output_type": "stream",
     "text": [
      "Installing packages into 'C:/work/R/win-library/3.3'\n",
      "(as 'lib' is unspecified)\n"
     ]
    },
    {
     "name": "stdout",
     "output_type": "stream",
     "text": [
      "package 'openxlsx' successfully unpacked and MD5 sums checked\n",
      "package 'psych' successfully unpacked and MD5 sums checked\n",
      "package 'GPArotation' successfully unpacked and MD5 sums checked\n",
      "package 'lavaan' successfully unpacked and MD5 sums checked\n",
      "package 'semPlot' successfully unpacked and MD5 sums checked\n"
     ]
    }
   ],
   "source": [
    "install.packages(c(\"openxlsx_4.0.17.zip\", \"psych_1.7.5.zip\", \"GPArotation_2014.11-1.zip\", \n",
    "                   \"lavaan_0.5-23.1097.zip\", \"semPlot_1.1.zip\"), \n",
    "                 repos = NULL, conrib.url=\"win.binary\", type = \"win.binary\")"
   ]
  },
  {
   "cell_type": "markdown",
   "metadata": {},
   "source": [
    "### 4. 現在のフォルダーの位置を元にもどします。"
   ]
  },
  {
   "cell_type": "code",
   "execution_count": 4,
   "metadata": {},
   "outputs": [
    {
     "data": {
      "text/html": [
       "'G:/GitHub/DSPR/SEM'"
      ],
      "text/latex": [
       "'G:/GitHub/DSPR/SEM'"
      ],
      "text/markdown": [
       "'G:/GitHub/DSPR/SEM'"
      ],
      "text/plain": [
       "[1] \"G:/GitHub/DSPR/SEM\""
      ]
     },
     "metadata": {},
     "output_type": "display_data"
    }
   ],
   "source": [
    "setwd(\"../..\")\n",
    "getwd()"
   ]
  },
  {
   "cell_type": "markdown",
   "metadata": {},
   "source": [
    "### Macの場合\n",
    "* [R for Mac OS X FAQ](https://cran.r-project.org/bin/macosx/RMacOSX-FAQ.html#Installation-of-packages)を参考にしてください。(Macの場合は、ソースからのインストールもありです。)"
   ]
  },
  {
   "cell_type": "markdown",
   "metadata": {},
   "source": [
    "### 参考(その他)\n",
    "* Winodws\n",
    "    * [オフラインでRにパッケージをインストールする - researchmap](http://researchmap.jp/jofdl1aug-1781589/)\n",
    "* Mac\n",
    "    * [MacでRパッケージをインストールする際のトラブル対応（メモ） - Qiita](http://qiita.com/sjuny/items/18d992056b14d36fc442)"
   ]
  },
  {
   "cell_type": "markdown",
   "metadata": {},
   "source": [
    "## インストールがうまくできたら [ここ](SEM_R.ipynb)をクリックして SEM_R.ipynb を立ち上げてください。\n",
    "\n",
    "----"
   ]
  },
  {
   "cell_type": "markdown",
   "metadata": {},
   "source": [
    "### 備忘録\n",
    "* semPlotは動作確認していません。\n",
    "    * [CRAN - Package semPlot](https://cran.r-project.org/web/packages/semPlot/index.html)\n",
    "* インストールがうまくいかない場合(install.packageで書き込みができない場合があるようなので)、管理者でコマンドプロンプトを立ち上げて、 jupyter notebook を起動してみてください。"
   ]
  },
  {
   "cell_type": "markdown",
   "metadata": {},
   "source": [
    "### JupyterでのRのアップデート\n",
    "* jupyter notebookのRで\n",
    "```\n",
    "update.packages() \n",
    "```\n",
    "はできないようです。コマンドプロンプトで\n",
    "```\n",
    "conda update --all\n",
    "```\n",
    "によりアップデートします。\n",
    "* 参考\n",
    "    * 「r jupyter update.packages」で検索\n",
    "        * [Updating R that is used within IPython/ Jupyter - Stack Overflow](https://stackoverflow.com/questions/36341820/updating-r-that-is-used-within-ipython-jupyter)  "
   ]
  },
  {
   "cell_type": "markdown",
   "metadata": {},
   "source": [
    "### ネット経由でパッケージをインストールする場合\n",
    "普通はネット経由でパッケージをインストールしますが、ネット上のリポジトリーの指定がうまくいかない場合があります。日本にあるリポジトリーは  https://cran.ism.ac.jp ですので、\n",
    "```\n",
    "repos = \"https://cran.ism.ac.jp\"\n",
    "lib = \"C:/ProgramData/Anaconda2/R/library\"\n",
    "\n",
    "install.packages(\"openxlsx\", dependencies= T, repos=repos, lib = lib)\n",
    "install.packages(\"psych\", dependencies= T, repos = repos, lib = lib)\n",
    "install.packages(\"GPArotation\", dependencies= T, repos = repos, lib = lib)\n",
    "install.packages(\"lavaan\", dependencies= T, repos=repos, lib = lib)\n",
    "```\n",
    "のように指定することができますが、 https://cran.ism.ac.jp はときどき落ちています。\n",
    "* (as 'lib' is unspecified)となる場合に lib を各PCの状況に合わせて変更します。"
   ]
  },
  {
   "cell_type": "code",
   "execution_count": null,
   "metadata": {
    "collapsed": true
   },
   "outputs": [],
   "source": []
  }
 ],
 "metadata": {
  "kernelspec": {
   "display_name": "R",
   "language": "R",
   "name": "ir"
  },
  "language_info": {
   "codemirror_mode": "r",
   "file_extension": ".r",
   "mimetype": "text/x-r-source",
   "name": "R",
   "pygments_lexer": "r",
   "version": "3.3.2"
  }
 },
 "nbformat": 4,
 "nbformat_minor": 2
}
