{
    "cells": [
        {
            "cell_type": "markdown", 
            "source": "# [Simple Logistic Regression for Employee Attrition | Kaggle](https://www.kaggle.com/emadafaqkhan/simple-logistic-regression-for-employee-attrition)", 
            "metadata": {
                "collapsed": true
            }
        }, 
        {
            "cell_type": "code", 
            "execution_count": 2, 
            "metadata": {}, 
            "outputs": [], 
            "source": "# This Python 3 environment comes with many helpful analytics libraries installed\n# It is defined by the kaggle/python docker image: https://github.com/kaggle/docker-python\n# For example, here's several helpful packages to load in \n\nimport numpy as np # linear algebra\nimport pandas as pd # data processing, CSV file I/O (e.g. pd.read_csv)\nimport tensorflow as tf\nimport statsmodels.api as sm\nimport pylab as pl\nimport matplotlib.pyplot as plt\nfrom patsy import dmatrices\nfrom sklearn.linear_model import LogisticRegression\nfrom sklearn.cross_validation import train_test_split\nfrom sklearn import metrics\nfrom sklearn.cross_validation import cross_val_score\n# Input data files are available in the \"../input/\" directory.\n# For example, running this (by clicking run or pressing Shift+Enter) will list the files in the input directory\n\nfrom subprocess import check_output\n#print(check_output([\"ls\", \"../input\"]).decode(\"utf8\"))\n\n# Any results you write to the current directory are saved as output."
        }, 
        {
            "cell_type": "code", 
            "execution_count": 4, 
            "metadata": {}, 
            "outputs": [
                {
                    "execution_count": 4, 
                    "metadata": {}, 
                    "output_type": "execute_result", 
                    "data": {
                        "text/html": "<div>\n<table border=\"1\" class=\"dataframe\">\n  <thead>\n    <tr style=\"text-align: right;\">\n      <th></th>\n      <th>Age</th>\n      <th>Attrition</th>\n      <th>BusinessTravel</th>\n      <th>DailyRate</th>\n      <th>Department</th>\n      <th>DistanceFromHome</th>\n      <th>Education</th>\n      <th>EducationField</th>\n      <th>EmployeeCount</th>\n      <th>EmployeeNumber</th>\n      <th>...</th>\n      <th>RelationshipSatisfaction</th>\n      <th>StandardHours</th>\n      <th>StockOptionLevel</th>\n      <th>TotalWorkingYears</th>\n      <th>TrainingTimesLastYear</th>\n      <th>WorkLifeBalance</th>\n      <th>YearsAtCompany</th>\n      <th>YearsInCurrentRole</th>\n      <th>YearsSinceLastPromotion</th>\n      <th>YearsWithCurrManager</th>\n    </tr>\n  </thead>\n  <tbody>\n    <tr>\n      <th>0</th>\n      <td>41</td>\n      <td>Yes</td>\n      <td>Travel_Rarely</td>\n      <td>1102</td>\n      <td>Sales</td>\n      <td>1</td>\n      <td>2</td>\n      <td>Life Sciences</td>\n      <td>1</td>\n      <td>1</td>\n      <td>...</td>\n      <td>1</td>\n      <td>80</td>\n      <td>0</td>\n      <td>8</td>\n      <td>0</td>\n      <td>1</td>\n      <td>6</td>\n      <td>4</td>\n      <td>0</td>\n      <td>5</td>\n    </tr>\n    <tr>\n      <th>1</th>\n      <td>49</td>\n      <td>No</td>\n      <td>Travel_Frequently</td>\n      <td>279</td>\n      <td>Research &amp; Development</td>\n      <td>8</td>\n      <td>1</td>\n      <td>Life Sciences</td>\n      <td>1</td>\n      <td>2</td>\n      <td>...</td>\n      <td>4</td>\n      <td>80</td>\n      <td>1</td>\n      <td>10</td>\n      <td>3</td>\n      <td>3</td>\n      <td>10</td>\n      <td>7</td>\n      <td>1</td>\n      <td>7</td>\n    </tr>\n    <tr>\n      <th>2</th>\n      <td>37</td>\n      <td>Yes</td>\n      <td>Travel_Rarely</td>\n      <td>1373</td>\n      <td>Research &amp; Development</td>\n      <td>2</td>\n      <td>2</td>\n      <td>Other</td>\n      <td>1</td>\n      <td>4</td>\n      <td>...</td>\n      <td>2</td>\n      <td>80</td>\n      <td>0</td>\n      <td>7</td>\n      <td>3</td>\n      <td>3</td>\n      <td>0</td>\n      <td>0</td>\n      <td>0</td>\n      <td>0</td>\n    </tr>\n    <tr>\n      <th>3</th>\n      <td>33</td>\n      <td>No</td>\n      <td>Travel_Frequently</td>\n      <td>1392</td>\n      <td>Research &amp; Development</td>\n      <td>3</td>\n      <td>4</td>\n      <td>Life Sciences</td>\n      <td>1</td>\n      <td>5</td>\n      <td>...</td>\n      <td>3</td>\n      <td>80</td>\n      <td>0</td>\n      <td>8</td>\n      <td>3</td>\n      <td>3</td>\n      <td>8</td>\n      <td>7</td>\n      <td>3</td>\n      <td>0</td>\n    </tr>\n    <tr>\n      <th>4</th>\n      <td>27</td>\n      <td>No</td>\n      <td>Travel_Rarely</td>\n      <td>591</td>\n      <td>Research &amp; Development</td>\n      <td>2</td>\n      <td>1</td>\n      <td>Medical</td>\n      <td>1</td>\n      <td>7</td>\n      <td>...</td>\n      <td>4</td>\n      <td>80</td>\n      <td>1</td>\n      <td>6</td>\n      <td>3</td>\n      <td>3</td>\n      <td>2</td>\n      <td>2</td>\n      <td>2</td>\n      <td>2</td>\n    </tr>\n  </tbody>\n</table>\n<p>5 rows \u00d7 35 columns</p>\n</div>", 
                        "text/plain": "   Age Attrition     BusinessTravel  DailyRate              Department  \\\n0   41       Yes      Travel_Rarely       1102                   Sales   \n1   49        No  Travel_Frequently        279  Research & Development   \n2   37       Yes      Travel_Rarely       1373  Research & Development   \n3   33        No  Travel_Frequently       1392  Research & Development   \n4   27        No      Travel_Rarely        591  Research & Development   \n\n   DistanceFromHome  Education EducationField  EmployeeCount  EmployeeNumber  \\\n0                 1          2  Life Sciences              1               1   \n1                 8          1  Life Sciences              1               2   \n2                 2          2          Other              1               4   \n3                 3          4  Life Sciences              1               5   \n4                 2          1        Medical              1               7   \n\n           ...           RelationshipSatisfaction StandardHours  \\\n0          ...                                  1            80   \n1          ...                                  4            80   \n2          ...                                  2            80   \n3          ...                                  3            80   \n4          ...                                  4            80   \n\n   StockOptionLevel  TotalWorkingYears  TrainingTimesLastYear WorkLifeBalance  \\\n0                 0                  8                      0               1   \n1                 1                 10                      3               3   \n2                 0                  7                      3               3   \n3                 0                  8                      3               3   \n4                 1                  6                      3               3   \n\n   YearsAtCompany YearsInCurrentRole  YearsSinceLastPromotion  \\\n0               6                  4                        0   \n1              10                  7                        1   \n2               0                  0                        0   \n3               8                  7                        3   \n4               2                  2                        2   \n\n   YearsWithCurrManager  \n0                     5  \n1                     7  \n2                     0  \n3                     0  \n4                     2  \n\n[5 rows x 35 columns]"
                    }
                }
            ], 
            "source": "# The code was removed by DSX for sharing."
        }, 
        {
            "cell_type": "code", 
            "execution_count": 5, 
            "metadata": {}, 
            "outputs": [
                {
                    "output_type": "stream", 
                    "text": "['Age' 'Attrition' 'BusinessTravel' 'DailyRate' 'Department'\n 'DistanceFromHome' 'Education' 'EducationField' 'EmployeeCount'\n 'EmployeeNumber' 'EnvironmentSatisfaction' 'Gender' 'HourlyRate'\n 'JobInvolvement' 'JobLevel' 'JobRole' 'JobSatisfaction' 'MaritalStatus'\n 'MonthlyIncome' 'MonthlyRate' 'NumCompaniesWorked' 'Over18' 'OverTime'\n 'PercentSalaryHike' 'PerformanceRating' 'RelationshipSatisfaction'\n 'StandardHours' 'StockOptionLevel' 'TotalWorkingYears'\n 'TrainingTimesLastYear' 'WorkLifeBalance' 'YearsAtCompany'\n 'YearsInCurrentRole' 'YearsSinceLastPromotion' 'YearsWithCurrManager']\n", 
                    "name": "stdout"
                }
            ], 
            "source": "names = dataframe.columns.values \nprint(names)"
        }, 
        {
            "cell_type": "code", 
            "execution_count": 6, 
            "metadata": {}, 
            "outputs": [
                {
                    "execution_count": 6, 
                    "metadata": {}, 
                    "output_type": "execute_result", 
                    "data": {
                        "text/html": "<div>\n<table border=\"1\" class=\"dataframe\">\n  <thead>\n    <tr style=\"text-align: right;\">\n      <th></th>\n      <th>Age</th>\n      <th>DailyRate</th>\n      <th>DistanceFromHome</th>\n      <th>Education</th>\n      <th>EmployeeCount</th>\n      <th>EmployeeNumber</th>\n      <th>EnvironmentSatisfaction</th>\n      <th>HourlyRate</th>\n      <th>JobInvolvement</th>\n      <th>JobLevel</th>\n      <th>...</th>\n      <th>RelationshipSatisfaction</th>\n      <th>StandardHours</th>\n      <th>StockOptionLevel</th>\n      <th>TotalWorkingYears</th>\n      <th>TrainingTimesLastYear</th>\n      <th>WorkLifeBalance</th>\n      <th>YearsAtCompany</th>\n      <th>YearsInCurrentRole</th>\n      <th>YearsSinceLastPromotion</th>\n      <th>YearsWithCurrManager</th>\n    </tr>\n  </thead>\n  <tbody>\n    <tr>\n      <th>count</th>\n      <td>1470.000000</td>\n      <td>1470.000000</td>\n      <td>1470.000000</td>\n      <td>1470.000000</td>\n      <td>1470.0</td>\n      <td>1470.000000</td>\n      <td>1470.000000</td>\n      <td>1470.000000</td>\n      <td>1470.000000</td>\n      <td>1470.000000</td>\n      <td>...</td>\n      <td>1470.000000</td>\n      <td>1470.0</td>\n      <td>1470.000000</td>\n      <td>1470.000000</td>\n      <td>1470.000000</td>\n      <td>1470.000000</td>\n      <td>1470.000000</td>\n      <td>1470.000000</td>\n      <td>1470.000000</td>\n      <td>1470.000000</td>\n    </tr>\n    <tr>\n      <th>mean</th>\n      <td>36.923810</td>\n      <td>802.485714</td>\n      <td>9.192517</td>\n      <td>2.912925</td>\n      <td>1.0</td>\n      <td>1024.865306</td>\n      <td>2.721769</td>\n      <td>65.891156</td>\n      <td>2.729932</td>\n      <td>2.063946</td>\n      <td>...</td>\n      <td>2.712245</td>\n      <td>80.0</td>\n      <td>0.793878</td>\n      <td>11.279592</td>\n      <td>2.799320</td>\n      <td>2.761224</td>\n      <td>7.008163</td>\n      <td>4.229252</td>\n      <td>2.187755</td>\n      <td>4.123129</td>\n    </tr>\n    <tr>\n      <th>std</th>\n      <td>9.135373</td>\n      <td>403.509100</td>\n      <td>8.106864</td>\n      <td>1.024165</td>\n      <td>0.0</td>\n      <td>602.024335</td>\n      <td>1.093082</td>\n      <td>20.329428</td>\n      <td>0.711561</td>\n      <td>1.106940</td>\n      <td>...</td>\n      <td>1.081209</td>\n      <td>0.0</td>\n      <td>0.852077</td>\n      <td>7.780782</td>\n      <td>1.289271</td>\n      <td>0.706476</td>\n      <td>6.126525</td>\n      <td>3.623137</td>\n      <td>3.222430</td>\n      <td>3.568136</td>\n    </tr>\n    <tr>\n      <th>min</th>\n      <td>18.000000</td>\n      <td>102.000000</td>\n      <td>1.000000</td>\n      <td>1.000000</td>\n      <td>1.0</td>\n      <td>1.000000</td>\n      <td>1.000000</td>\n      <td>30.000000</td>\n      <td>1.000000</td>\n      <td>1.000000</td>\n      <td>...</td>\n      <td>1.000000</td>\n      <td>80.0</td>\n      <td>0.000000</td>\n      <td>0.000000</td>\n      <td>0.000000</td>\n      <td>1.000000</td>\n      <td>0.000000</td>\n      <td>0.000000</td>\n      <td>0.000000</td>\n      <td>0.000000</td>\n    </tr>\n    <tr>\n      <th>25%</th>\n      <td>30.000000</td>\n      <td>465.000000</td>\n      <td>2.000000</td>\n      <td>2.000000</td>\n      <td>1.0</td>\n      <td>491.250000</td>\n      <td>2.000000</td>\n      <td>48.000000</td>\n      <td>2.000000</td>\n      <td>1.000000</td>\n      <td>...</td>\n      <td>2.000000</td>\n      <td>80.0</td>\n      <td>0.000000</td>\n      <td>6.000000</td>\n      <td>2.000000</td>\n      <td>2.000000</td>\n      <td>3.000000</td>\n      <td>2.000000</td>\n      <td>0.000000</td>\n      <td>2.000000</td>\n    </tr>\n    <tr>\n      <th>50%</th>\n      <td>36.000000</td>\n      <td>802.000000</td>\n      <td>7.000000</td>\n      <td>3.000000</td>\n      <td>1.0</td>\n      <td>1020.500000</td>\n      <td>3.000000</td>\n      <td>66.000000</td>\n      <td>3.000000</td>\n      <td>2.000000</td>\n      <td>...</td>\n      <td>3.000000</td>\n      <td>80.0</td>\n      <td>1.000000</td>\n      <td>10.000000</td>\n      <td>3.000000</td>\n      <td>3.000000</td>\n      <td>5.000000</td>\n      <td>3.000000</td>\n      <td>1.000000</td>\n      <td>3.000000</td>\n    </tr>\n    <tr>\n      <th>75%</th>\n      <td>43.000000</td>\n      <td>1157.000000</td>\n      <td>14.000000</td>\n      <td>4.000000</td>\n      <td>1.0</td>\n      <td>1555.750000</td>\n      <td>4.000000</td>\n      <td>83.750000</td>\n      <td>3.000000</td>\n      <td>3.000000</td>\n      <td>...</td>\n      <td>4.000000</td>\n      <td>80.0</td>\n      <td>1.000000</td>\n      <td>15.000000</td>\n      <td>3.000000</td>\n      <td>3.000000</td>\n      <td>9.000000</td>\n      <td>7.000000</td>\n      <td>3.000000</td>\n      <td>7.000000</td>\n    </tr>\n    <tr>\n      <th>max</th>\n      <td>60.000000</td>\n      <td>1499.000000</td>\n      <td>29.000000</td>\n      <td>5.000000</td>\n      <td>1.0</td>\n      <td>2068.000000</td>\n      <td>4.000000</td>\n      <td>100.000000</td>\n      <td>4.000000</td>\n      <td>5.000000</td>\n      <td>...</td>\n      <td>4.000000</td>\n      <td>80.0</td>\n      <td>3.000000</td>\n      <td>40.000000</td>\n      <td>6.000000</td>\n      <td>4.000000</td>\n      <td>40.000000</td>\n      <td>18.000000</td>\n      <td>15.000000</td>\n      <td>17.000000</td>\n    </tr>\n  </tbody>\n</table>\n<p>8 rows \u00d7 26 columns</p>\n</div>", 
                        "text/plain": "               Age    DailyRate  DistanceFromHome    Education  EmployeeCount  \\\ncount  1470.000000  1470.000000       1470.000000  1470.000000         1470.0   \nmean     36.923810   802.485714          9.192517     2.912925            1.0   \nstd       9.135373   403.509100          8.106864     1.024165            0.0   \nmin      18.000000   102.000000          1.000000     1.000000            1.0   \n25%      30.000000   465.000000          2.000000     2.000000            1.0   \n50%      36.000000   802.000000          7.000000     3.000000            1.0   \n75%      43.000000  1157.000000         14.000000     4.000000            1.0   \nmax      60.000000  1499.000000         29.000000     5.000000            1.0   \n\n       EmployeeNumber  EnvironmentSatisfaction   HourlyRate  JobInvolvement  \\\ncount     1470.000000              1470.000000  1470.000000     1470.000000   \nmean      1024.865306                 2.721769    65.891156        2.729932   \nstd        602.024335                 1.093082    20.329428        0.711561   \nmin          1.000000                 1.000000    30.000000        1.000000   \n25%        491.250000                 2.000000    48.000000        2.000000   \n50%       1020.500000                 3.000000    66.000000        3.000000   \n75%       1555.750000                 4.000000    83.750000        3.000000   \nmax       2068.000000                 4.000000   100.000000        4.000000   \n\n          JobLevel          ...           RelationshipSatisfaction  \\\ncount  1470.000000          ...                        1470.000000   \nmean      2.063946          ...                           2.712245   \nstd       1.106940          ...                           1.081209   \nmin       1.000000          ...                           1.000000   \n25%       1.000000          ...                           2.000000   \n50%       2.000000          ...                           3.000000   \n75%       3.000000          ...                           4.000000   \nmax       5.000000          ...                           4.000000   \n\n       StandardHours  StockOptionLevel  TotalWorkingYears  \\\ncount         1470.0       1470.000000        1470.000000   \nmean            80.0          0.793878          11.279592   \nstd              0.0          0.852077           7.780782   \nmin             80.0          0.000000           0.000000   \n25%             80.0          0.000000           6.000000   \n50%             80.0          1.000000          10.000000   \n75%             80.0          1.000000          15.000000   \nmax             80.0          3.000000          40.000000   \n\n       TrainingTimesLastYear  WorkLifeBalance  YearsAtCompany  \\\ncount            1470.000000      1470.000000     1470.000000   \nmean                2.799320         2.761224        7.008163   \nstd                 1.289271         0.706476        6.126525   \nmin                 0.000000         1.000000        0.000000   \n25%                 2.000000         2.000000        3.000000   \n50%                 3.000000         3.000000        5.000000   \n75%                 3.000000         3.000000        9.000000   \nmax                 6.000000         4.000000       40.000000   \n\n       YearsInCurrentRole  YearsSinceLastPromotion  YearsWithCurrManager  \ncount         1470.000000              1470.000000           1470.000000  \nmean             4.229252                 2.187755              4.123129  \nstd              3.623137                 3.222430              3.568136  \nmin              0.000000                 0.000000              0.000000  \n25%              2.000000                 0.000000              2.000000  \n50%              3.000000                 1.000000              3.000000  \n75%              7.000000                 3.000000              7.000000  \nmax             18.000000                15.000000             17.000000  \n\n[8 rows x 26 columns]"
                    }
                }
            ], 
            "source": "dataframe.describe()"
        }, 
        {
            "cell_type": "code", 
            "execution_count": 7, 
            "metadata": {}, 
            "outputs": [
                {
                    "output_type": "stream", 
                    "text": "<class 'pandas.core.frame.DataFrame'>\nRangeIndex: 1470 entries, 0 to 1469\nData columns (total 35 columns):\nAge                         1470 non-null int64\nAttrition                   1470 non-null object\nBusinessTravel              1470 non-null object\nDailyRate                   1470 non-null int64\nDepartment                  1470 non-null object\nDistanceFromHome            1470 non-null int64\nEducation                   1470 non-null int64\nEducationField              1470 non-null object\nEmployeeCount               1470 non-null int64\nEmployeeNumber              1470 non-null int64\nEnvironmentSatisfaction     1470 non-null int64\nGender                      1470 non-null object\nHourlyRate                  1470 non-null int64\nJobInvolvement              1470 non-null int64\nJobLevel                    1470 non-null int64\nJobRole                     1470 non-null object\nJobSatisfaction             1470 non-null int64\nMaritalStatus               1470 non-null object\nMonthlyIncome               1470 non-null int64\nMonthlyRate                 1470 non-null int64\nNumCompaniesWorked          1470 non-null int64\nOver18                      1470 non-null object\nOverTime                    1470 non-null object\nPercentSalaryHike           1470 non-null int64\nPerformanceRating           1470 non-null int64\nRelationshipSatisfaction    1470 non-null int64\nStandardHours               1470 non-null int64\nStockOptionLevel            1470 non-null int64\nTotalWorkingYears           1470 non-null int64\nTrainingTimesLastYear       1470 non-null int64\nWorkLifeBalance             1470 non-null int64\nYearsAtCompany              1470 non-null int64\nYearsInCurrentRole          1470 non-null int64\nYearsSinceLastPromotion     1470 non-null int64\nYearsWithCurrManager        1470 non-null int64\ndtypes: int64(26), object(9)\nmemory usage: 402.0+ KB\n", 
                    "name": "stdout"
                }
            ], 
            "source": "dataframe.info()"
        }, 
        {
            "cell_type": "code", 
            "execution_count": 8, 
            "metadata": {}, 
            "outputs": [
                {
                    "execution_count": 8, 
                    "metadata": {}, 
                    "output_type": "execute_result", 
                    "data": {
                        "text/plain": "Index(['Age', 'Attrition', 'BusinessTravel', 'DailyRate', 'Department',\n       'DistanceFromHome', 'Education', 'EducationField', 'EmployeeCount',\n       'EmployeeNumber', 'EnvironmentSatisfaction', 'Gender', 'HourlyRate',\n       'JobInvolvement', 'JobLevel', 'JobRole', 'JobSatisfaction',\n       'MaritalStatus', 'MonthlyIncome', 'MonthlyRate', 'NumCompaniesWorked',\n       'Over18', 'OverTime', 'PercentSalaryHike', 'PerformanceRating',\n       'RelationshipSatisfaction', 'StandardHours', 'StockOptionLevel',\n       'TotalWorkingYears', 'TrainingTimesLastYear', 'WorkLifeBalance',\n       'YearsAtCompany', 'YearsInCurrentRole', 'YearsSinceLastPromotion',\n       'YearsWithCurrManager'],\n      dtype='object')"
                    }
                }
            ], 
            "source": "dataframe.columns"
        }, 
        {
            "cell_type": "code", 
            "execution_count": 9, 
            "metadata": {}, 
            "outputs": [
                {
                    "execution_count": 9, 
                    "metadata": {}, 
                    "output_type": "execute_result", 
                    "data": {
                        "text/plain": "Age                            9.135373\nDailyRate                    403.509100\nDistanceFromHome               8.106864\nEducation                      1.024165\nEmployeeCount                  0.000000\nEmployeeNumber               602.024335\nEnvironmentSatisfaction        1.093082\nHourlyRate                    20.329428\nJobInvolvement                 0.711561\nJobLevel                       1.106940\nJobSatisfaction                1.102846\nMonthlyIncome               4707.956783\nMonthlyRate                 7117.786044\nNumCompaniesWorked             2.498009\nPercentSalaryHike              3.659938\nPerformanceRating              0.360824\nRelationshipSatisfaction       1.081209\nStandardHours                  0.000000\nStockOptionLevel               0.852077\nTotalWorkingYears              7.780782\nTrainingTimesLastYear          1.289271\nWorkLifeBalance                0.706476\nYearsAtCompany                 6.126525\nYearsInCurrentRole             3.623137\nYearsSinceLastPromotion        3.222430\nYearsWithCurrManager           3.568136\ndtype: float64"
                    }
                }
            ], 
            "source": "dataframe.std()"
        }, 
        {
            "cell_type": "code", 
            "execution_count": 10, 
            "metadata": {}, 
            "outputs": [
                {
                    "execution_count": 10, 
                    "metadata": {}, 
                    "output_type": "execute_result", 
                    "data": {
                        "text/plain": "No     1233\nYes     237\nName: Attrition, dtype: int64"
                    }
                }
            ], 
            "source": "dataframe['Attrition'].value_counts()"
        }, 
        {
            "cell_type": "code", 
            "execution_count": 11, 
            "metadata": {}, 
            "outputs": [
                {
                    "execution_count": 11, 
                    "metadata": {}, 
                    "output_type": "execute_result", 
                    "data": {
                        "text/plain": "dtype('O')"
                    }
                }
            ], 
            "source": "dataframe['Attrition'].dtypes"
        }, 
        {
            "cell_type": "code", 
            "execution_count": 12, 
            "metadata": {}, 
            "outputs": [], 
            "source": "dataframe['Attrition'].replace('Yes',1, inplace=True)\ndataframe['Attrition'].replace('No',0, inplace=True)"
        }, 
        {
            "cell_type": "code", 
            "execution_count": 13, 
            "metadata": {}, 
            "outputs": [
                {
                    "execution_count": 13, 
                    "metadata": {}, 
                    "output_type": "execute_result", 
                    "data": {
                        "text/html": "<div>\n<table border=\"1\" class=\"dataframe\">\n  <thead>\n    <tr style=\"text-align: right;\">\n      <th></th>\n      <th>Age</th>\n      <th>Attrition</th>\n      <th>BusinessTravel</th>\n      <th>DailyRate</th>\n      <th>Department</th>\n      <th>DistanceFromHome</th>\n      <th>Education</th>\n      <th>EducationField</th>\n      <th>EmployeeCount</th>\n      <th>EmployeeNumber</th>\n      <th>...</th>\n      <th>RelationshipSatisfaction</th>\n      <th>StandardHours</th>\n      <th>StockOptionLevel</th>\n      <th>TotalWorkingYears</th>\n      <th>TrainingTimesLastYear</th>\n      <th>WorkLifeBalance</th>\n      <th>YearsAtCompany</th>\n      <th>YearsInCurrentRole</th>\n      <th>YearsSinceLastPromotion</th>\n      <th>YearsWithCurrManager</th>\n    </tr>\n  </thead>\n  <tbody>\n    <tr>\n      <th>0</th>\n      <td>41</td>\n      <td>1</td>\n      <td>Travel_Rarely</td>\n      <td>1102</td>\n      <td>Sales</td>\n      <td>1</td>\n      <td>2</td>\n      <td>Life Sciences</td>\n      <td>1</td>\n      <td>1</td>\n      <td>...</td>\n      <td>1</td>\n      <td>80</td>\n      <td>0</td>\n      <td>8</td>\n      <td>0</td>\n      <td>1</td>\n      <td>6</td>\n      <td>4</td>\n      <td>0</td>\n      <td>5</td>\n    </tr>\n    <tr>\n      <th>1</th>\n      <td>49</td>\n      <td>0</td>\n      <td>Travel_Frequently</td>\n      <td>279</td>\n      <td>Research &amp; Development</td>\n      <td>8</td>\n      <td>1</td>\n      <td>Life Sciences</td>\n      <td>1</td>\n      <td>2</td>\n      <td>...</td>\n      <td>4</td>\n      <td>80</td>\n      <td>1</td>\n      <td>10</td>\n      <td>3</td>\n      <td>3</td>\n      <td>10</td>\n      <td>7</td>\n      <td>1</td>\n      <td>7</td>\n    </tr>\n    <tr>\n      <th>2</th>\n      <td>37</td>\n      <td>1</td>\n      <td>Travel_Rarely</td>\n      <td>1373</td>\n      <td>Research &amp; Development</td>\n      <td>2</td>\n      <td>2</td>\n      <td>Other</td>\n      <td>1</td>\n      <td>4</td>\n      <td>...</td>\n      <td>2</td>\n      <td>80</td>\n      <td>0</td>\n      <td>7</td>\n      <td>3</td>\n      <td>3</td>\n      <td>0</td>\n      <td>0</td>\n      <td>0</td>\n      <td>0</td>\n    </tr>\n    <tr>\n      <th>3</th>\n      <td>33</td>\n      <td>0</td>\n      <td>Travel_Frequently</td>\n      <td>1392</td>\n      <td>Research &amp; Development</td>\n      <td>3</td>\n      <td>4</td>\n      <td>Life Sciences</td>\n      <td>1</td>\n      <td>5</td>\n      <td>...</td>\n      <td>3</td>\n      <td>80</td>\n      <td>0</td>\n      <td>8</td>\n      <td>3</td>\n      <td>3</td>\n      <td>8</td>\n      <td>7</td>\n      <td>3</td>\n      <td>0</td>\n    </tr>\n    <tr>\n      <th>4</th>\n      <td>27</td>\n      <td>0</td>\n      <td>Travel_Rarely</td>\n      <td>591</td>\n      <td>Research &amp; Development</td>\n      <td>2</td>\n      <td>1</td>\n      <td>Medical</td>\n      <td>1</td>\n      <td>7</td>\n      <td>...</td>\n      <td>4</td>\n      <td>80</td>\n      <td>1</td>\n      <td>6</td>\n      <td>3</td>\n      <td>3</td>\n      <td>2</td>\n      <td>2</td>\n      <td>2</td>\n      <td>2</td>\n    </tr>\n    <tr>\n      <th>5</th>\n      <td>32</td>\n      <td>0</td>\n      <td>Travel_Frequently</td>\n      <td>1005</td>\n      <td>Research &amp; Development</td>\n      <td>2</td>\n      <td>2</td>\n      <td>Life Sciences</td>\n      <td>1</td>\n      <td>8</td>\n      <td>...</td>\n      <td>3</td>\n      <td>80</td>\n      <td>0</td>\n      <td>8</td>\n      <td>2</td>\n      <td>2</td>\n      <td>7</td>\n      <td>7</td>\n      <td>3</td>\n      <td>6</td>\n    </tr>\n    <tr>\n      <th>6</th>\n      <td>59</td>\n      <td>0</td>\n      <td>Travel_Rarely</td>\n      <td>1324</td>\n      <td>Research &amp; Development</td>\n      <td>3</td>\n      <td>3</td>\n      <td>Medical</td>\n      <td>1</td>\n      <td>10</td>\n      <td>...</td>\n      <td>1</td>\n      <td>80</td>\n      <td>3</td>\n      <td>12</td>\n      <td>3</td>\n      <td>2</td>\n      <td>1</td>\n      <td>0</td>\n      <td>0</td>\n      <td>0</td>\n    </tr>\n    <tr>\n      <th>7</th>\n      <td>30</td>\n      <td>0</td>\n      <td>Travel_Rarely</td>\n      <td>1358</td>\n      <td>Research &amp; Development</td>\n      <td>24</td>\n      <td>1</td>\n      <td>Life Sciences</td>\n      <td>1</td>\n      <td>11</td>\n      <td>...</td>\n      <td>2</td>\n      <td>80</td>\n      <td>1</td>\n      <td>1</td>\n      <td>2</td>\n      <td>3</td>\n      <td>1</td>\n      <td>0</td>\n      <td>0</td>\n      <td>0</td>\n    </tr>\n    <tr>\n      <th>8</th>\n      <td>38</td>\n      <td>0</td>\n      <td>Travel_Frequently</td>\n      <td>216</td>\n      <td>Research &amp; Development</td>\n      <td>23</td>\n      <td>3</td>\n      <td>Life Sciences</td>\n      <td>1</td>\n      <td>12</td>\n      <td>...</td>\n      <td>2</td>\n      <td>80</td>\n      <td>0</td>\n      <td>10</td>\n      <td>2</td>\n      <td>3</td>\n      <td>9</td>\n      <td>7</td>\n      <td>1</td>\n      <td>8</td>\n    </tr>\n    <tr>\n      <th>9</th>\n      <td>36</td>\n      <td>0</td>\n      <td>Travel_Rarely</td>\n      <td>1299</td>\n      <td>Research &amp; Development</td>\n      <td>27</td>\n      <td>3</td>\n      <td>Medical</td>\n      <td>1</td>\n      <td>13</td>\n      <td>...</td>\n      <td>2</td>\n      <td>80</td>\n      <td>2</td>\n      <td>17</td>\n      <td>3</td>\n      <td>2</td>\n      <td>7</td>\n      <td>7</td>\n      <td>7</td>\n      <td>7</td>\n    </tr>\n  </tbody>\n</table>\n<p>10 rows \u00d7 35 columns</p>\n</div>", 
                        "text/plain": "   Age  Attrition     BusinessTravel  DailyRate              Department  \\\n0   41          1      Travel_Rarely       1102                   Sales   \n1   49          0  Travel_Frequently        279  Research & Development   \n2   37          1      Travel_Rarely       1373  Research & Development   \n3   33          0  Travel_Frequently       1392  Research & Development   \n4   27          0      Travel_Rarely        591  Research & Development   \n5   32          0  Travel_Frequently       1005  Research & Development   \n6   59          0      Travel_Rarely       1324  Research & Development   \n7   30          0      Travel_Rarely       1358  Research & Development   \n8   38          0  Travel_Frequently        216  Research & Development   \n9   36          0      Travel_Rarely       1299  Research & Development   \n\n   DistanceFromHome  Education EducationField  EmployeeCount  EmployeeNumber  \\\n0                 1          2  Life Sciences              1               1   \n1                 8          1  Life Sciences              1               2   \n2                 2          2          Other              1               4   \n3                 3          4  Life Sciences              1               5   \n4                 2          1        Medical              1               7   \n5                 2          2  Life Sciences              1               8   \n6                 3          3        Medical              1              10   \n7                24          1  Life Sciences              1              11   \n8                23          3  Life Sciences              1              12   \n9                27          3        Medical              1              13   \n\n           ...           RelationshipSatisfaction StandardHours  \\\n0          ...                                  1            80   \n1          ...                                  4            80   \n2          ...                                  2            80   \n3          ...                                  3            80   \n4          ...                                  4            80   \n5          ...                                  3            80   \n6          ...                                  1            80   \n7          ...                                  2            80   \n8          ...                                  2            80   \n9          ...                                  2            80   \n\n   StockOptionLevel  TotalWorkingYears  TrainingTimesLastYear WorkLifeBalance  \\\n0                 0                  8                      0               1   \n1                 1                 10                      3               3   \n2                 0                  7                      3               3   \n3                 0                  8                      3               3   \n4                 1                  6                      3               3   \n5                 0                  8                      2               2   \n6                 3                 12                      3               2   \n7                 1                  1                      2               3   \n8                 0                 10                      2               3   \n9                 2                 17                      3               2   \n\n   YearsAtCompany YearsInCurrentRole  YearsSinceLastPromotion  \\\n0               6                  4                        0   \n1              10                  7                        1   \n2               0                  0                        0   \n3               8                  7                        3   \n4               2                  2                        2   \n5               7                  7                        3   \n6               1                  0                        0   \n7               1                  0                        0   \n8               9                  7                        1   \n9               7                  7                        7   \n\n   YearsWithCurrManager  \n0                     5  \n1                     7  \n2                     0  \n3                     0  \n4                     2  \n5                     6  \n6                     0  \n7                     0  \n8                     8  \n9                     7  \n\n[10 rows x 35 columns]"
                    }
                }
            ], 
            "source": "dataframe.head(10)"
        }, 
        {
            "cell_type": "code", 
            "execution_count": 14, 
            "metadata": {}, 
            "outputs": [], 
            "source": "dataframe['EducationField'].replace('Life Sciences',1, inplace=True)\ndataframe['EducationField'].replace('Medical',2, inplace=True)\ndataframe['EducationField'].replace('Marketing', 3, inplace=True)\ndataframe['EducationField'].replace('Other',4, inplace=True)\ndataframe['EducationField'].replace('Technical Degree',5, inplace=True)\ndataframe['EducationField'].replace('Human Resources', 6, inplace=True)"
        }, 
        {
            "cell_type": "code", 
            "execution_count": 15, 
            "metadata": {}, 
            "outputs": [
                {
                    "execution_count": 15, 
                    "metadata": {}, 
                    "output_type": "execute_result", 
                    "data": {
                        "text/plain": "1    606\n2    464\n3    159\n5    132\n4     82\n6     27\nName: EducationField, dtype: int64"
                    }
                }
            ], 
            "source": "dataframe['EducationField'].value_counts()"
        }, 
        {
            "cell_type": "code", 
            "execution_count": 16, 
            "metadata": {}, 
            "outputs": [
                {
                    "execution_count": 16, 
                    "metadata": {}, 
                    "output_type": "execute_result", 
                    "data": {
                        "text/plain": "Research & Development    961\nSales                     446\nHuman Resources            63\nName: Department, dtype: int64"
                    }
                }
            ], 
            "source": "dataframe['Department'].value_counts()"
        }, 
        {
            "cell_type": "code", 
            "execution_count": 17, 
            "metadata": {}, 
            "outputs": [
                {
                    "execution_count": 17, 
                    "metadata": {}, 
                    "output_type": "execute_result", 
                    "data": {
                        "text/html": "<div>\n<table border=\"1\" class=\"dataframe\">\n  <thead>\n    <tr style=\"text-align: right;\">\n      <th></th>\n      <th>Age</th>\n      <th>Attrition</th>\n      <th>BusinessTravel</th>\n      <th>DailyRate</th>\n      <th>Department</th>\n      <th>DistanceFromHome</th>\n      <th>Education</th>\n      <th>EducationField</th>\n      <th>EmployeeCount</th>\n      <th>EmployeeNumber</th>\n      <th>...</th>\n      <th>RelationshipSatisfaction</th>\n      <th>StandardHours</th>\n      <th>StockOptionLevel</th>\n      <th>TotalWorkingYears</th>\n      <th>TrainingTimesLastYear</th>\n      <th>WorkLifeBalance</th>\n      <th>YearsAtCompany</th>\n      <th>YearsInCurrentRole</th>\n      <th>YearsSinceLastPromotion</th>\n      <th>YearsWithCurrManager</th>\n    </tr>\n  </thead>\n  <tbody>\n    <tr>\n      <th>0</th>\n      <td>41</td>\n      <td>1</td>\n      <td>Travel_Rarely</td>\n      <td>1102</td>\n      <td>Sales</td>\n      <td>1</td>\n      <td>2</td>\n      <td>1</td>\n      <td>1</td>\n      <td>1</td>\n      <td>...</td>\n      <td>1</td>\n      <td>80</td>\n      <td>0</td>\n      <td>8</td>\n      <td>0</td>\n      <td>1</td>\n      <td>6</td>\n      <td>4</td>\n      <td>0</td>\n      <td>5</td>\n    </tr>\n    <tr>\n      <th>1</th>\n      <td>49</td>\n      <td>0</td>\n      <td>Travel_Frequently</td>\n      <td>279</td>\n      <td>Research &amp; Development</td>\n      <td>8</td>\n      <td>1</td>\n      <td>1</td>\n      <td>1</td>\n      <td>2</td>\n      <td>...</td>\n      <td>4</td>\n      <td>80</td>\n      <td>1</td>\n      <td>10</td>\n      <td>3</td>\n      <td>3</td>\n      <td>10</td>\n      <td>7</td>\n      <td>1</td>\n      <td>7</td>\n    </tr>\n    <tr>\n      <th>2</th>\n      <td>37</td>\n      <td>1</td>\n      <td>Travel_Rarely</td>\n      <td>1373</td>\n      <td>Research &amp; Development</td>\n      <td>2</td>\n      <td>2</td>\n      <td>4</td>\n      <td>1</td>\n      <td>4</td>\n      <td>...</td>\n      <td>2</td>\n      <td>80</td>\n      <td>0</td>\n      <td>7</td>\n      <td>3</td>\n      <td>3</td>\n      <td>0</td>\n      <td>0</td>\n      <td>0</td>\n      <td>0</td>\n    </tr>\n    <tr>\n      <th>3</th>\n      <td>33</td>\n      <td>0</td>\n      <td>Travel_Frequently</td>\n      <td>1392</td>\n      <td>Research &amp; Development</td>\n      <td>3</td>\n      <td>4</td>\n      <td>1</td>\n      <td>1</td>\n      <td>5</td>\n      <td>...</td>\n      <td>3</td>\n      <td>80</td>\n      <td>0</td>\n      <td>8</td>\n      <td>3</td>\n      <td>3</td>\n      <td>8</td>\n      <td>7</td>\n      <td>3</td>\n      <td>0</td>\n    </tr>\n    <tr>\n      <th>4</th>\n      <td>27</td>\n      <td>0</td>\n      <td>Travel_Rarely</td>\n      <td>591</td>\n      <td>Research &amp; Development</td>\n      <td>2</td>\n      <td>1</td>\n      <td>2</td>\n      <td>1</td>\n      <td>7</td>\n      <td>...</td>\n      <td>4</td>\n      <td>80</td>\n      <td>1</td>\n      <td>6</td>\n      <td>3</td>\n      <td>3</td>\n      <td>2</td>\n      <td>2</td>\n      <td>2</td>\n      <td>2</td>\n    </tr>\n    <tr>\n      <th>5</th>\n      <td>32</td>\n      <td>0</td>\n      <td>Travel_Frequently</td>\n      <td>1005</td>\n      <td>Research &amp; Development</td>\n      <td>2</td>\n      <td>2</td>\n      <td>1</td>\n      <td>1</td>\n      <td>8</td>\n      <td>...</td>\n      <td>3</td>\n      <td>80</td>\n      <td>0</td>\n      <td>8</td>\n      <td>2</td>\n      <td>2</td>\n      <td>7</td>\n      <td>7</td>\n      <td>3</td>\n      <td>6</td>\n    </tr>\n    <tr>\n      <th>6</th>\n      <td>59</td>\n      <td>0</td>\n      <td>Travel_Rarely</td>\n      <td>1324</td>\n      <td>Research &amp; Development</td>\n      <td>3</td>\n      <td>3</td>\n      <td>2</td>\n      <td>1</td>\n      <td>10</td>\n      <td>...</td>\n      <td>1</td>\n      <td>80</td>\n      <td>3</td>\n      <td>12</td>\n      <td>3</td>\n      <td>2</td>\n      <td>1</td>\n      <td>0</td>\n      <td>0</td>\n      <td>0</td>\n    </tr>\n    <tr>\n      <th>7</th>\n      <td>30</td>\n      <td>0</td>\n      <td>Travel_Rarely</td>\n      <td>1358</td>\n      <td>Research &amp; Development</td>\n      <td>24</td>\n      <td>1</td>\n      <td>1</td>\n      <td>1</td>\n      <td>11</td>\n      <td>...</td>\n      <td>2</td>\n      <td>80</td>\n      <td>1</td>\n      <td>1</td>\n      <td>2</td>\n      <td>3</td>\n      <td>1</td>\n      <td>0</td>\n      <td>0</td>\n      <td>0</td>\n    </tr>\n    <tr>\n      <th>8</th>\n      <td>38</td>\n      <td>0</td>\n      <td>Travel_Frequently</td>\n      <td>216</td>\n      <td>Research &amp; Development</td>\n      <td>23</td>\n      <td>3</td>\n      <td>1</td>\n      <td>1</td>\n      <td>12</td>\n      <td>...</td>\n      <td>2</td>\n      <td>80</td>\n      <td>0</td>\n      <td>10</td>\n      <td>2</td>\n      <td>3</td>\n      <td>9</td>\n      <td>7</td>\n      <td>1</td>\n      <td>8</td>\n    </tr>\n    <tr>\n      <th>9</th>\n      <td>36</td>\n      <td>0</td>\n      <td>Travel_Rarely</td>\n      <td>1299</td>\n      <td>Research &amp; Development</td>\n      <td>27</td>\n      <td>3</td>\n      <td>2</td>\n      <td>1</td>\n      <td>13</td>\n      <td>...</td>\n      <td>2</td>\n      <td>80</td>\n      <td>2</td>\n      <td>17</td>\n      <td>3</td>\n      <td>2</td>\n      <td>7</td>\n      <td>7</td>\n      <td>7</td>\n      <td>7</td>\n    </tr>\n  </tbody>\n</table>\n<p>10 rows \u00d7 35 columns</p>\n</div>", 
                        "text/plain": "   Age  Attrition     BusinessTravel  DailyRate              Department  \\\n0   41          1      Travel_Rarely       1102                   Sales   \n1   49          0  Travel_Frequently        279  Research & Development   \n2   37          1      Travel_Rarely       1373  Research & Development   \n3   33          0  Travel_Frequently       1392  Research & Development   \n4   27          0      Travel_Rarely        591  Research & Development   \n5   32          0  Travel_Frequently       1005  Research & Development   \n6   59          0      Travel_Rarely       1324  Research & Development   \n7   30          0      Travel_Rarely       1358  Research & Development   \n8   38          0  Travel_Frequently        216  Research & Development   \n9   36          0      Travel_Rarely       1299  Research & Development   \n\n   DistanceFromHome  Education  EducationField  EmployeeCount  EmployeeNumber  \\\n0                 1          2               1              1               1   \n1                 8          1               1              1               2   \n2                 2          2               4              1               4   \n3                 3          4               1              1               5   \n4                 2          1               2              1               7   \n5                 2          2               1              1               8   \n6                 3          3               2              1              10   \n7                24          1               1              1              11   \n8                23          3               1              1              12   \n9                27          3               2              1              13   \n\n           ...           RelationshipSatisfaction StandardHours  \\\n0          ...                                  1            80   \n1          ...                                  4            80   \n2          ...                                  2            80   \n3          ...                                  3            80   \n4          ...                                  4            80   \n5          ...                                  3            80   \n6          ...                                  1            80   \n7          ...                                  2            80   \n8          ...                                  2            80   \n9          ...                                  2            80   \n\n   StockOptionLevel  TotalWorkingYears  TrainingTimesLastYear WorkLifeBalance  \\\n0                 0                  8                      0               1   \n1                 1                 10                      3               3   \n2                 0                  7                      3               3   \n3                 0                  8                      3               3   \n4                 1                  6                      3               3   \n5                 0                  8                      2               2   \n6                 3                 12                      3               2   \n7                 1                  1                      2               3   \n8                 0                 10                      2               3   \n9                 2                 17                      3               2   \n\n   YearsAtCompany YearsInCurrentRole  YearsSinceLastPromotion  \\\n0               6                  4                        0   \n1              10                  7                        1   \n2               0                  0                        0   \n3               8                  7                        3   \n4               2                  2                        2   \n5               7                  7                        3   \n6               1                  0                        0   \n7               1                  0                        0   \n8               9                  7                        1   \n9               7                  7                        7   \n\n   YearsWithCurrManager  \n0                     5  \n1                     7  \n2                     0  \n3                     0  \n4                     2  \n5                     6  \n6                     0  \n7                     0  \n8                     8  \n9                     7  \n\n[10 rows x 35 columns]"
                    }
                }
            ], 
            "source": "dataframe.head(10)"
        }, 
        {
            "cell_type": "code", 
            "execution_count": 18, 
            "metadata": {}, 
            "outputs": [
                {
                    "execution_count": 18, 
                    "metadata": {}, 
                    "output_type": "execute_result", 
                    "data": {
                        "text/plain": "Travel_Rarely        1043\nTravel_Frequently     277\nNon-Travel            150\nName: BusinessTravel, dtype: int64"
                    }
                }
            ], 
            "source": "dataframe['BusinessTravel'].value_counts()"
        }, 
        {
            "cell_type": "code", 
            "execution_count": 19, 
            "metadata": {}, 
            "outputs": [], 
            "source": "dataframe['BusinessTravel'].replace('Travel_Rarely',1, inplace=True)\ndataframe['BusinessTravel'].replace('Travel_Frequently',2, inplace=True)\ndataframe['BusinessTravel'].replace('Non-Travel',3, inplace=True)"
        }, 
        {
            "cell_type": "code", 
            "execution_count": 20, 
            "metadata": {}, 
            "outputs": [
                {
                    "execution_count": 20, 
                    "metadata": {}, 
                    "output_type": "execute_result", 
                    "data": {
                        "text/plain": "1    1043\n2     277\n3     150\nName: BusinessTravel, dtype: int64"
                    }
                }
            ], 
            "source": "dataframe['BusinessTravel'].value_counts()"
        }, 
        {
            "cell_type": "code", 
            "execution_count": 21, 
            "metadata": {}, 
            "outputs": [
                {
                    "execution_count": 21, 
                    "metadata": {}, 
                    "output_type": "execute_result", 
                    "data": {
                        "text/plain": "0       Female\n1         Male\n2         Male\n3       Female\n4         Male\n5         Male\n6       Female\n7         Male\n8         Male\n9         Male\n10        Male\n11      Female\n12        Male\n13        Male\n14        Male\n15      Female\n16        Male\n17        Male\n18      Female\n19        Male\n20      Female\n21        Male\n22      Female\n23        Male\n24        Male\n25      Female\n26      Female\n27        Male\n28      Female\n29      Female\n         ...  \n1440    Female\n1441      Male\n1442      Male\n1443      Male\n1444      Male\n1445    Female\n1446    Female\n1447      Male\n1448      Male\n1449      Male\n1450    Female\n1451    Female\n1452      Male\n1453    Female\n1454    Female\n1455      Male\n1456      Male\n1457    Female\n1458    Female\n1459      Male\n1460    Female\n1461      Male\n1462    Female\n1463      Male\n1464    Female\n1465      Male\n1466      Male\n1467      Male\n1468      Male\n1469      Male\nName: Gender, dtype: object"
                    }
                }
            ], 
            "source": "dataframe['Gender']"
        }, 
        {
            "cell_type": "code", 
            "execution_count": 22, 
            "metadata": {}, 
            "outputs": [
                {
                    "execution_count": 22, 
                    "metadata": {}, 
                    "output_type": "execute_result", 
                    "data": {
                        "text/plain": "0       0\n1       1\n2       1\n3       0\n4       1\n5       1\n6       0\n7       1\n8       1\n9       1\n10      1\n11      0\n12      1\n13      1\n14      1\n15      0\n16      1\n17      1\n18      0\n19      1\n20      0\n21      1\n22      0\n23      1\n24      1\n25      0\n26      0\n27      1\n28      0\n29      0\n       ..\n1440    0\n1441    1\n1442    1\n1443    1\n1444    1\n1445    0\n1446    0\n1447    1\n1448    1\n1449    1\n1450    0\n1451    0\n1452    1\n1453    0\n1454    0\n1455    1\n1456    1\n1457    0\n1458    0\n1459    1\n1460    0\n1461    1\n1462    0\n1463    1\n1464    0\n1465    1\n1466    1\n1467    1\n1468    1\n1469    1\nName: Gender, dtype: int64"
                    }
                }
            ], 
            "source": "dataframe['Gender'].replace('Male',1, inplace=True)\ndataframe['Gender'].replace('Female',0, inplace=True)\ndataframe['Gender']"
        }, 
        {
            "cell_type": "code", 
            "execution_count": 23, 
            "metadata": {}, 
            "outputs": [
                {
                    "execution_count": 23, 
                    "metadata": {}, 
                    "output_type": "execute_result", 
                    "data": {
                        "text/plain": "Age                          int64\nAttrition                    int64\nBusinessTravel               int64\nDailyRate                    int64\nDepartment                  object\nDistanceFromHome             int64\nEducation                    int64\nEducationField               int64\nEmployeeCount                int64\nEmployeeNumber               int64\nEnvironmentSatisfaction      int64\nGender                       int64\nHourlyRate                   int64\nJobInvolvement               int64\nJobLevel                     int64\nJobRole                     object\nJobSatisfaction              int64\nMaritalStatus               object\nMonthlyIncome                int64\nMonthlyRate                  int64\nNumCompaniesWorked           int64\nOver18                      object\nOverTime                    object\nPercentSalaryHike            int64\nPerformanceRating            int64\nRelationshipSatisfaction     int64\nStandardHours                int64\nStockOptionLevel             int64\nTotalWorkingYears            int64\nTrainingTimesLastYear        int64\nWorkLifeBalance              int64\nYearsAtCompany               int64\nYearsInCurrentRole           int64\nYearsSinceLastPromotion      int64\nYearsWithCurrManager         int64\ndtype: object"
                    }
                }
            ], 
            "source": "dataframe.dtypes"
        }, 
        {
            "cell_type": "code", 
            "execution_count": 24, 
            "metadata": {}, 
            "outputs": [
                {
                    "execution_count": 24, 
                    "metadata": {}, 
                    "output_type": "execute_result", 
                    "data": {
                        "text/plain": "Index(['Age', 'Attrition', 'BusinessTravel', 'DailyRate', 'DistanceFromHome',\n       'Education', 'EducationField', 'EmployeeCount', 'EmployeeNumber',\n       'EnvironmentSatisfaction', 'Gender', 'HourlyRate', 'JobInvolvement',\n       'JobLevel', 'JobSatisfaction', 'MonthlyIncome', 'MonthlyRate',\n       'NumCompaniesWorked', 'PercentSalaryHike', 'PerformanceRating',\n       'RelationshipSatisfaction', 'StandardHours', 'StockOptionLevel',\n       'TotalWorkingYears', 'TrainingTimesLastYear', 'WorkLifeBalance',\n       'YearsAtCompany', 'YearsInCurrentRole', 'YearsSinceLastPromotion',\n       'YearsWithCurrManager'],\n      dtype='object')"
                    }
                }
            ], 
            "source": "x=dataframe.select_dtypes(include=['int64'])\nx.dtypes\nx.columns"
        }, 
        {
            "cell_type": "code", 
            "execution_count": 25, 
            "metadata": {}, 
            "outputs": [], 
            "source": "L = dataframe.columns[1:]\ny=dataframe['Attrition']"
        }, 
        {
            "cell_type": "code", 
            "execution_count": 26, 
            "metadata": {}, 
            "outputs": [
                {
                    "output_type": "stream", 
                    "text": "Index(['Intercept', 'Department[T.Research & Development]',\n       'Department[T.Sales]', 'Age', 'BusinessTravel', 'DailyRate',\n       'DistanceFromHome', 'Education', 'EducationField', 'YearsAtCompany'],\n      dtype='object')\n", 
                    "name": "stdout"
                }
            ], 
            "source": "y, x = dmatrices('Attrition ~ Age + BusinessTravel + DailyRate + Department + \\\n                  DistanceFromHome + Education + EducationField + YearsAtCompany',\n                  dataframe, return_type=\"dataframe\")\nprint (x.columns)"
        }, 
        {
            "cell_type": "code", 
            "execution_count": 27, 
            "metadata": {}, 
            "outputs": [], 
            "source": "y = np.ravel(y)"
        }, 
        {
            "cell_type": "code", 
            "execution_count": 28, 
            "metadata": {}, 
            "outputs": [
                {
                    "execution_count": 28, 
                    "metadata": {}, 
                    "output_type": "execute_result", 
                    "data": {
                        "text/plain": "0.84081632653061222"
                    }
                }
            ], 
            "source": "model = LogisticRegression()\nmodel = model.fit(x, y)\n\n# check the accuracy on the training set\nmodel.score(x, y)"
        }, 
        {
            "cell_type": "code", 
            "execution_count": 29, 
            "metadata": {}, 
            "outputs": [
                {
                    "execution_count": 29, 
                    "metadata": {}, 
                    "output_type": "execute_result", 
                    "data": {
                        "text/plain": "0.16122448979591836"
                    }
                }
            ], 
            "source": "y.mean()"
        }, 
        {
            "cell_type": "code", 
            "execution_count": 30, 
            "metadata": {}, 
            "outputs": [
                {
                    "execution_count": 30, 
                    "metadata": {}, 
                    "output_type": "execute_result", 
                    "data": {
                        "text/plain": "LogisticRegression(C=1.0, class_weight=None, dual=False, fit_intercept=True,\n          intercept_scaling=1, max_iter=100, multi_class='ovr', n_jobs=1,\n          penalty='l2', random_state=None, solver='liblinear', tol=0.0001,\n          verbose=0, warm_start=False)"
                    }
                }
            ], 
            "source": "X_train,X_test,y_train,y_test=train_test_split(x,y, test_size=0.3, random_state=0)\nmodel2=LogisticRegression()\nmodel2.fit(X_train, y_train)"
        }, 
        {
            "cell_type": "code", 
            "execution_count": 31, 
            "metadata": {}, 
            "outputs": [
                {
                    "output_type": "stream", 
                    "text": "[ 0.  0.  0.  0.  0.  0.  0.  0.  0.  0.  0.  0.  0.  0.  0.  0.  0.  0.\n  0.  0.  0.  0.  0.  0.  0.  0.  0.  0.  0.  0.  0.  0.  0.  0.  0.  0.\n  0.  0.  0.  0.  0.  0.  0.  0.  0.  0.  0.  0.  0.  0.  0.  0.  0.  0.\n  0.  0.  0.  0.  0.  0.  0.  0.  0.  0.  0.  0.  0.  0.  0.  0.  0.  0.\n  0.  0.  0.  0.  0.  0.  0.  0.  0.  0.  0.  0.  0.  0.  0.  0.  0.  0.\n  0.  0.  0.  0.  0.  0.  0.  0.  0.  0.  0.  0.  0.  0.  0.  0.  0.  0.\n  0.  0.  0.  0.  0.  0.  0.  0.  0.  0.  0.  0.  0.  0.  0.  0.  0.  0.\n  0.  0.  0.  0.  0.  0.  0.  0.  0.  0.  0.  0.  0.  0.  0.  0.  0.  0.\n  0.  0.  0.  0.  0.  0.  0.  0.  0.  0.  0.  0.  0.  0.  0.  0.  0.  0.\n  0.  0.  0.  0.  0.  0.  0.  0.  0.  0.  0.  0.  0.  0.  0.  0.  0.  0.\n  0.  0.  0.  0.  0.  0.  0.  0.  0.  0.  0.  0.  0.  0.  0.  0.  0.  0.\n  0.  0.  0.  0.  0.  0.  0.  0.  0.  0.  0.  0.  0.  0.  0.  0.  0.  0.\n  0.  0.  0.  0.  0.  0.  0.  0.  0.  0.  0.  0.  0.  0.  0.  0.  0.  0.\n  0.  0.  0.  0.  0.  0.  0.  0.  0.  0.  0.  0.  0.  0.  0.  0.  0.  0.\n  0.  0.  0.  0.  0.  0.  0.  0.  0.  0.  0.  0.  0.  0.  0.  0.  0.  0.\n  0.  0.  0.  0.  0.  0.  0.  0.  0.  0.  0.  0.  0.  0.  0.  0.  0.  0.\n  0.  0.  0.  0.  0.  0.  0.  0.  0.  0.  0.  0.  0.  0.  0.  0.  0.  0.\n  0.  0.  0.  0.  0.  0.  0.  0.  0.  0.  0.  0.  0.  0.  0.  0.  0.  0.\n  0.  0.  0.  0.  0.  0.  0.  0.  0.  0.  0.  0.  0.  0.  0.  0.  0.  0.\n  0.  0.  0.  0.  0.  0.  0.  0.  0.  0.  0.  0.  0.  0.  0.  0.  0.  0.\n  0.  0.  0.  0.  0.  0.  0.  0.  0.  0.  0.  0.  0.  0.  0.  0.  0.  0.\n  0.  0.  0.  0.  0.  0.  0.  1.  0.  0.  0.  0.  0.  0.  0.  0.  0.  0.\n  0.  0.  0.  0.  0.  0.  0.  0.  0.  0.  0.  0.  0.  0.  0.  0.  0.  0.\n  0.  0.  0.  0.  0.  0.  0.  0.  0.  0.  0.  0.  0.  0.  0.  0.  0.  0.\n  0.  0.  0.  0.  0.  0.  0.  0.  0.]\n", 
                    "name": "stdout"
                }
            ], 
            "source": "predicted= model2.predict(X_test)\nprint (predicted)"
        }, 
        {
            "cell_type": "code", 
            "execution_count": 32, 
            "metadata": {}, 
            "outputs": [
                {
                    "output_type": "stream", 
                    "text": "[[ 0.83610105  0.16389895]\n [ 0.80509369  0.19490631]\n [ 0.69964944  0.30035056]\n [ 0.87203594  0.12796406]\n [ 0.72356332  0.27643668]\n [ 0.75604229  0.24395771]\n [ 0.83976565  0.16023435]\n [ 0.86450138  0.13549862]\n [ 0.95151836  0.04848164]\n [ 0.92985775  0.07014225]\n [ 0.96340883  0.03659117]\n [ 0.81244169  0.18755831]\n [ 0.88198354  0.11801646]\n [ 0.86928004  0.13071996]\n [ 0.90114296  0.09885704]\n [ 0.91372585  0.08627415]\n [ 0.88648961  0.11351039]\n [ 0.78921486  0.21078514]\n [ 0.76796682  0.23203318]\n [ 0.89860505  0.10139495]\n [ 0.71370542  0.28629458]\n [ 0.9501217   0.0498783 ]\n [ 0.86035457  0.13964543]\n [ 0.8223818   0.1776182 ]\n [ 0.63435797  0.36564203]\n [ 0.77165887  0.22834113]\n [ 0.91957367  0.08042633]\n [ 0.93675592  0.06324408]\n [ 0.63085626  0.36914374]\n [ 0.85167849  0.14832151]\n [ 0.85708255  0.14291745]\n [ 0.8402673   0.1597327 ]\n [ 0.88023846  0.11976154]\n [ 0.95519088  0.04480912]\n [ 0.87863641  0.12136359]\n [ 0.88337083  0.11662917]\n [ 0.88996727  0.11003273]\n [ 0.68159639  0.31840361]\n [ 0.88911276  0.11088724]\n [ 0.8014536   0.1985464 ]\n [ 0.89702214  0.10297786]\n [ 0.83062094  0.16937906]\n [ 0.92584595  0.07415405]\n [ 0.9053937   0.0946063 ]\n [ 0.90573615  0.09426385]\n [ 0.83322285  0.16677715]\n [ 0.78778445  0.21221555]\n [ 0.85963477  0.14036523]\n [ 0.65499104  0.34500896]\n [ 0.77675249  0.22324751]\n [ 0.9406818   0.0593182 ]\n [ 0.80201839  0.19798161]\n [ 0.80576239  0.19423761]\n [ 0.87175314  0.12824686]\n [ 0.86945381  0.13054619]\n [ 0.75948967  0.24051033]\n [ 0.87985223  0.12014777]\n [ 0.79891932  0.20108068]\n [ 0.81428568  0.18571432]\n [ 0.77811673  0.22188327]\n [ 0.90945381  0.09054619]\n [ 0.73824832  0.26175168]\n [ 0.91881406  0.08118594]\n [ 0.88639359  0.11360641]\n [ 0.77809867  0.22190133]\n [ 0.8739676   0.1260324 ]\n [ 0.92946782  0.07053218]\n [ 0.85768263  0.14231737]\n [ 0.90302951  0.09697049]\n [ 0.71781121  0.28218879]\n [ 0.94980396  0.05019604]\n [ 0.73311333  0.26688667]\n [ 0.84170276  0.15829724]\n [ 0.84437499  0.15562501]\n [ 0.78953502  0.21046498]\n [ 0.74182808  0.25817192]\n [ 0.92127276  0.07872724]\n [ 0.95704643  0.04295357]\n [ 0.76465148  0.23534852]\n [ 0.86286357  0.13713643]\n [ 0.8752219   0.1247781 ]\n [ 0.76684065  0.23315935]\n [ 0.71946175  0.28053825]\n [ 0.81985417  0.18014583]\n [ 0.83678721  0.16321279]\n [ 0.6971924   0.3028076 ]\n [ 0.97773344  0.02226656]\n [ 0.95687872  0.04312128]\n [ 0.90257084  0.09742916]\n [ 0.82850497  0.17149503]\n [ 0.69546836  0.30453164]\n [ 0.85497742  0.14502258]\n [ 0.67393084  0.32606916]\n [ 0.85204208  0.14795792]\n [ 0.87409874  0.12590126]\n [ 0.77231852  0.22768148]\n [ 0.70380788  0.29619212]\n [ 0.59595805  0.40404195]\n [ 0.87622867  0.12377133]\n [ 0.89970427  0.10029573]\n [ 0.76231734  0.23768266]\n [ 0.80267819  0.19732181]\n [ 0.9775645   0.0224355 ]\n [ 0.9197515   0.0802485 ]\n [ 0.78012656  0.21987344]\n [ 0.94013829  0.05986171]\n [ 0.87024496  0.12975504]\n [ 0.76994799  0.23005201]\n [ 0.88248788  0.11751212]\n [ 0.86549752  0.13450248]\n [ 0.86019665  0.13980335]\n [ 0.95430222  0.04569778]\n [ 0.93437782  0.06562218]\n [ 0.78790522  0.21209478]\n [ 0.83044673  0.16955327]\n [ 0.89996254  0.10003746]\n [ 0.91309776  0.08690224]\n [ 0.83405017  0.16594983]\n [ 0.95641767  0.04358233]\n [ 0.92862786  0.07137214]\n [ 0.88762527  0.11237473]\n [ 0.86515561  0.13484439]\n [ 0.84136534  0.15863466]\n [ 0.72233007  0.27766993]\n [ 0.88446979  0.11553021]\n [ 0.95625607  0.04374393]\n [ 0.95208868  0.04791132]\n [ 0.81952336  0.18047664]\n [ 0.89439285  0.10560715]\n [ 0.74793932  0.25206068]\n [ 0.97531552  0.02468448]\n [ 0.88909333  0.11090667]\n [ 0.82825432  0.17174568]\n [ 0.8407885   0.1592115 ]\n [ 0.96148938  0.03851062]\n [ 0.96326275  0.03673725]\n [ 0.66035518  0.33964482]\n [ 0.94055169  0.05944831]\n [ 0.73536302  0.26463698]\n [ 0.7923129   0.2076871 ]\n [ 0.82261555  0.17738445]\n [ 0.91698278  0.08301722]\n [ 0.77136497  0.22863503]\n [ 0.90832265  0.09167735]\n [ 0.92134405  0.07865595]\n [ 0.91908528  0.08091472]\n [ 0.96128335  0.03871665]\n [ 0.93993109  0.06006891]\n [ 0.91565968  0.08434032]\n [ 0.68280382  0.31719618]\n [ 0.85898534  0.14101466]\n [ 0.82653274  0.17346726]\n [ 0.79537141  0.20462859]\n [ 0.96597368  0.03402632]\n [ 0.93371217  0.06628783]\n [ 0.93974368  0.06025632]\n [ 0.9779371   0.0220629 ]\n [ 0.72899577  0.27100423]\n [ 0.86119285  0.13880715]\n [ 0.87729717  0.12270283]\n [ 0.93928908  0.06071092]\n [ 0.93726423  0.06273577]\n [ 0.76137049  0.23862951]\n [ 0.72980982  0.27019018]\n [ 0.94900586  0.05099414]\n [ 0.88161515  0.11838485]\n [ 0.79918354  0.20081646]\n [ 0.8086435   0.1913565 ]\n [ 0.7769165   0.2230835 ]\n [ 0.93517875  0.06482125]\n [ 0.88759945  0.11240055]\n [ 0.92767792  0.07232208]\n [ 0.93328473  0.06671527]\n [ 0.70796925  0.29203075]\n [ 0.94566622  0.05433378]\n [ 0.77418554  0.22581446]\n [ 0.78472461  0.21527539]\n [ 0.931389    0.068611  ]\n [ 0.83703061  0.16296939]\n [ 0.79371748  0.20628252]\n [ 0.68064357  0.31935643]\n [ 0.91380439  0.08619561]\n [ 0.9321921   0.0678079 ]\n [ 0.87255318  0.12744682]\n [ 0.94454835  0.05545165]\n [ 0.66823726  0.33176274]\n [ 0.88735691  0.11264309]\n [ 0.83484568  0.16515432]\n [ 0.78375702  0.21624298]\n [ 0.55180706  0.44819294]\n [ 0.71962019  0.28037981]\n [ 0.76603264  0.23396736]\n [ 0.84885108  0.15114892]\n [ 0.84721295  0.15278705]\n [ 0.80254153  0.19745847]\n [ 0.85714868  0.14285132]\n [ 0.72717722  0.27282278]\n [ 0.92630347  0.07369653]\n [ 0.83412765  0.16587235]\n [ 0.90326162  0.09673838]\n [ 0.88642537  0.11357463]\n [ 0.77080454  0.22919546]\n [ 0.68913764  0.31086236]\n [ 0.8659889   0.1340111 ]\n [ 0.78082696  0.21917304]\n [ 0.77435755  0.22564245]\n [ 0.7895968   0.2104032 ]\n [ 0.91044822  0.08955178]\n [ 0.66272526  0.33727474]\n [ 0.86433055  0.13566945]\n [ 0.86779372  0.13220628]\n [ 0.79413034  0.20586966]\n [ 0.8481764   0.1518236 ]\n [ 0.70070218  0.29929782]\n [ 0.93624047  0.06375953]\n [ 0.86834866  0.13165134]\n [ 0.9506023   0.0493977 ]\n [ 0.84669603  0.15330397]\n [ 0.83008619  0.16991381]\n [ 0.85513147  0.14486853]\n [ 0.8841835   0.1158165 ]\n [ 0.57265313  0.42734687]\n [ 0.57611556  0.42388444]\n [ 0.98766331  0.01233669]\n [ 0.61587133  0.38412867]\n [ 0.92717156  0.07282844]\n [ 0.91612972  0.08387028]\n [ 0.73924777  0.26075223]\n [ 0.57737668  0.42262332]\n [ 0.79415388  0.20584612]\n [ 0.95496504  0.04503496]\n [ 0.86983858  0.13016142]\n [ 0.87260788  0.12739212]\n [ 0.91831258  0.08168742]\n [ 0.90611561  0.09388439]\n [ 0.7959999   0.2040001 ]\n [ 0.79435664  0.20564336]\n [ 0.93623236  0.06376764]\n [ 0.76968689  0.23031311]\n [ 0.93125212  0.06874788]\n [ 0.90010289  0.09989711]\n [ 0.69066217  0.30933783]\n [ 0.98184305  0.01815695]\n [ 0.85640064  0.14359936]\n [ 0.88858541  0.11141459]\n [ 0.81548075  0.18451925]\n [ 0.85789966  0.14210034]\n [ 0.90480731  0.09519269]\n [ 0.89093161  0.10906839]\n [ 0.90016257  0.09983743]\n [ 0.80199095  0.19800905]\n [ 0.86978602  0.13021398]\n [ 0.53299397  0.46700603]\n [ 0.88585307  0.11414693]\n [ 0.92447868  0.07552132]\n [ 0.8537336   0.1462664 ]\n [ 0.98679551  0.01320449]\n [ 0.79395396  0.20604604]\n [ 0.65999611  0.34000389]\n [ 0.84921746  0.15078254]\n [ 0.84126487  0.15873513]\n [ 0.85109367  0.14890633]\n [ 0.85152208  0.14847792]\n [ 0.71033862  0.28966138]\n [ 0.87915048  0.12084952]\n [ 0.91065349  0.08934651]\n [ 0.81842689  0.18157311]\n [ 0.85338549  0.14661451]\n [ 0.76160782  0.23839218]\n [ 0.88956809  0.11043191]\n [ 0.78108611  0.21891389]\n [ 0.86485488  0.13514512]\n [ 0.64695876  0.35304124]\n [ 0.88146056  0.11853944]\n [ 0.85904792  0.14095208]\n [ 0.92389959  0.07610041]\n [ 0.83011911  0.16988089]\n [ 0.90951376  0.09048624]\n [ 0.89976033  0.10023967]\n [ 0.82380466  0.17619534]\n [ 0.70232818  0.29767182]\n [ 0.87558749  0.12441251]\n [ 0.77527863  0.22472137]\n [ 0.82434909  0.17565091]\n [ 0.99187862  0.00812138]\n [ 0.86742159  0.13257841]\n [ 0.90269911  0.09730089]\n [ 0.8090894   0.1909106 ]\n [ 0.9328185   0.0671815 ]\n [ 0.84534969  0.15465031]\n [ 0.8727303   0.1272697 ]\n [ 0.78559501  0.21440499]\n [ 0.89145082  0.10854918]\n [ 0.85140517  0.14859483]\n [ 0.87311197  0.12688803]\n [ 0.79536807  0.20463193]\n [ 0.72679271  0.27320729]\n [ 0.89757493  0.10242507]\n [ 0.61175649  0.38824351]\n [ 0.95668726  0.04331274]\n [ 0.87975559  0.12024441]\n [ 0.70504098  0.29495902]\n [ 0.67122203  0.32877797]\n [ 0.8775438   0.1224562 ]\n [ 0.8759138   0.1240862 ]\n [ 0.9785809   0.0214191 ]\n [ 0.86949106  0.13050894]\n [ 0.62521536  0.37478464]\n [ 0.9306183   0.0693817 ]\n [ 0.76796988  0.23203012]\n [ 0.86827699  0.13172301]\n [ 0.89682817  0.10317183]\n [ 0.86926153  0.13073847]\n [ 0.86915068  0.13084932]\n [ 0.762483    0.237517  ]\n [ 0.84869692  0.15130308]\n [ 0.87977265  0.12022735]\n [ 0.75730057  0.24269943]\n [ 0.72703805  0.27296195]\n [ 0.89549802  0.10450198]\n [ 0.53535645  0.46464355]\n [ 0.91562503  0.08437497]\n [ 0.66515367  0.33484633]\n [ 0.62465615  0.37534385]\n [ 0.90826041  0.09173959]\n [ 0.93736895  0.06263105]\n [ 0.86869155  0.13130845]\n [ 0.89183004  0.10816996]\n [ 0.9625182   0.0374818 ]\n [ 0.9141346   0.0858654 ]\n [ 0.93546768  0.06453232]\n [ 0.80630498  0.19369502]\n [ 0.85911686  0.14088314]\n [ 0.79001762  0.20998238]\n [ 0.81596247  0.18403753]\n [ 0.95555639  0.04444361]\n [ 0.84543122  0.15456878]\n [ 0.92756217  0.07243783]\n [ 0.85068872  0.14931128]\n [ 0.8657835   0.1342165 ]\n [ 0.80044554  0.19955446]\n [ 0.83027566  0.16972434]\n [ 0.77866629  0.22133371]\n [ 0.83143944  0.16856056]\n [ 0.9156928   0.0843072 ]\n [ 0.92175222  0.07824778]\n [ 0.66910627  0.33089373]\n [ 0.98980032  0.01019968]\n [ 0.76831291  0.23168709]\n [ 0.82871425  0.17128575]\n [ 0.77827882  0.22172118]\n [ 0.65922425  0.34077575]\n [ 0.74754499  0.25245501]\n [ 0.83986155  0.16013845]\n [ 0.83676694  0.16323306]\n [ 0.85464922  0.14535078]\n [ 0.86225198  0.13774802]\n [ 0.82209346  0.17790654]\n [ 0.89644027  0.10355973]\n [ 0.86912595  0.13087405]\n [ 0.9820197   0.0179803 ]\n [ 0.88829563  0.11170437]\n [ 0.92464013  0.07535987]\n [ 0.87632046  0.12367954]\n [ 0.7834928   0.2165072 ]\n [ 0.94081839  0.05918161]\n [ 0.95163052  0.04836948]\n [ 0.72165807  0.27834193]\n [ 0.91273897  0.08726103]\n [ 0.84565165  0.15434835]\n [ 0.95527822  0.04472178]\n [ 0.88972348  0.11027652]\n [ 0.78428278  0.21571722]\n [ 0.91826478  0.08173522]\n [ 0.7287117   0.2712883 ]\n [ 0.93656618  0.06343382]\n [ 0.92406749  0.07593251]\n [ 0.91043322  0.08956678]\n [ 0.69819658  0.30180342]\n [ 0.91660338  0.08339662]\n [ 0.7650565   0.2349435 ]\n [ 0.91840723  0.08159277]\n [ 0.90124963  0.09875037]\n [ 0.74844922  0.25155078]\n [ 0.88747603  0.11252397]\n [ 0.49139894  0.50860106]\n [ 0.95292408  0.04707592]\n [ 0.65331329  0.34668671]\n [ 0.84974693  0.15025307]\n [ 0.7676766   0.2323234 ]\n [ 0.86033738  0.13966262]\n [ 0.96807206  0.03192794]\n [ 0.83626403  0.16373597]\n [ 0.86727221  0.13272779]\n [ 0.53661495  0.46338505]\n [ 0.82899506  0.17100494]\n [ 0.92796471  0.07203529]\n [ 0.81857731  0.18142269]\n [ 0.8992497   0.1007503 ]\n [ 0.87436346  0.12563654]\n [ 0.63622436  0.36377564]\n [ 0.85839311  0.14160689]\n [ 0.97260142  0.02739858]\n [ 0.90098391  0.09901609]\n [ 0.89842578  0.10157422]\n [ 0.88130799  0.11869201]\n [ 0.82635289  0.17364711]\n [ 0.88898921  0.11101079]\n [ 0.87011769  0.12988231]\n [ 0.86457591  0.13542409]\n [ 0.82405933  0.17594067]\n [ 0.94055947  0.05944053]\n [ 0.85066752  0.14933248]\n [ 0.72733536  0.27266464]\n [ 0.68214725  0.31785275]\n [ 0.80786952  0.19213048]\n [ 0.7876663   0.2123337 ]\n [ 0.82339724  0.17660276]\n [ 0.89939768  0.10060232]\n [ 0.89881276  0.10118724]\n [ 0.86301741  0.13698259]\n [ 0.70415284  0.29584716]\n [ 0.96916866  0.03083134]\n [ 0.94739807  0.05260193]\n [ 0.91552953  0.08447047]\n [ 0.88708625  0.11291375]\n [ 0.88203412  0.11796588]\n [ 0.7920057   0.2079943 ]\n [ 0.66274764  0.33725236]\n [ 0.95160703  0.04839297]\n [ 0.62465198  0.37534802]\n [ 0.65812272  0.34187728]\n [ 0.95248349  0.04751651]\n [ 0.79832066  0.20167934]\n [ 0.88102502  0.11897498]\n [ 0.78828184  0.21171816]\n [ 0.87436455  0.12563545]\n [ 0.84374076  0.15625924]\n [ 0.66356344  0.33643656]\n [ 0.91992017  0.08007983]\n [ 0.88369491  0.11630509]]\n", 
                    "name": "stdout"
                }
            ], 
            "source": "probs = model2.predict_proba(X_test)\nprint (probs)"
        }, 
        {
            "cell_type": "code", 
            "execution_count": 33, 
            "metadata": {}, 
            "outputs": [
                {
                    "output_type": "stream", 
                    "text": "0.843537414966\n0.65379283789\n", 
                    "name": "stdout"
                }
            ], 
            "source": "print (metrics.accuracy_score(y_test, predicted))\nprint (metrics.roc_auc_score(y_test, probs[:, 1]))"
        }, 
        {
            "cell_type": "code", 
            "execution_count": 34, 
            "metadata": {}, 
            "outputs": [
                {
                    "output_type": "stream", 
                    "text": "[[371   0]\n [ 69   1]]\n             precision    recall  f1-score   support\n\n        0.0       0.84      1.00      0.91       371\n        1.0       1.00      0.01      0.03        70\n\navg / total       0.87      0.84      0.77       441\n\n", 
                    "name": "stdout"
                }
            ], 
            "source": "print (metrics.confusion_matrix(y_test, predicted))\nprint (metrics.classification_report(y_test, predicted))"
        }, 
        {
            "cell_type": "code", 
            "execution_count": 35, 
            "metadata": {}, 
            "outputs": [
                {
                    "output_type": "stream", 
                    "text": "      Intercept  Department[T.Research & Development]  Department[T.Sales]  \\\n338         1.0                                   0.0                  1.0   \n363         1.0                                   0.0                  1.0   \n759         1.0                                   0.0                  0.0   \n793         1.0                                   1.0                  0.0   \n581         1.0                                   1.0                  0.0   \n320         1.0                                   0.0                  1.0   \n452         1.0                                   0.0                  1.0   \n195         1.0                                   1.0                  0.0   \n776         1.0                                   0.0                  1.0   \n1295        1.0                                   0.0                  1.0   \n70          1.0                                   0.0                  1.0   \n1135        1.0                                   0.0                  1.0   \n1011        1.0                                   0.0                  1.0   \n10          1.0                                   1.0                  0.0   \n1265        1.0                                   1.0                  0.0   \n1270        1.0                                   0.0                  1.0   \n1257        1.0                                   0.0                  1.0   \n271         1.0                                   1.0                  0.0   \n858         1.0                                   1.0                  0.0   \n790         1.0                                   1.0                  0.0   \n1290        1.0                                   1.0                  0.0   \n915         1.0                                   1.0                  0.0   \n64          1.0                                   1.0                  0.0   \n959         1.0                                   1.0                  0.0   \n1274        1.0                                   0.0                  1.0   \n1394        1.0                                   1.0                  0.0   \n1109        1.0                                   0.0                  1.0   \n416         1.0                                   1.0                  0.0   \n1234        1.0                                   0.0                  1.0   \n687         1.0                                   1.0                  0.0   \n...         ...                                   ...                  ...   \n1445        1.0                                   1.0                  0.0   \n1201        1.0                                   1.0                  0.0   \n99          1.0                                   1.0                  0.0   \n850         1.0                                   0.0                  1.0   \n448         1.0                                   1.0                  0.0   \n755         1.0                                   0.0                  1.0   \n976         1.0                                   1.0                  0.0   \n115         1.0                                   0.0                  1.0   \n777         1.0                                   1.0                  0.0   \n72          1.0                                   1.0                  0.0   \n845         1.0                                   1.0                  0.0   \n537         1.0                                   1.0                  0.0   \n849         1.0                                   0.0                  1.0   \n174         1.0                                   0.0                  1.0   \n87          1.0                                   1.0                  0.0   \n551         1.0                                   0.0                  0.0   \n705         1.0                                   0.0                  1.0   \n314         1.0                                   1.0                  0.0   \n1420        1.0                                   1.0                  0.0   \n600         1.0                                   1.0                  0.0   \n1094        1.0                                   0.0                  1.0   \n599         1.0                                   0.0                  0.0   \n277         1.0                                   0.0                  1.0   \n1033        1.0                                   1.0                  0.0   \n1383        1.0                                   1.0                  0.0   \n763         1.0                                   0.0                  1.0   \n835         1.0                                   0.0                  0.0   \n1216        1.0                                   0.0                  1.0   \n559         1.0                                   1.0                  0.0   \n684         1.0                                   0.0                  1.0   \n\n       Age  BusinessTravel  DailyRate  DistanceFromHome  Education  \\\n338   30.0             1.0      570.0               5.0        3.0   \n363   33.0             1.0      350.0               5.0        3.0   \n759   45.0             1.0      788.0              24.0        4.0   \n793   28.0             1.0      895.0              15.0        2.0   \n581   30.0             1.0      921.0               1.0        3.0   \n320   27.0             1.0     1377.0               2.0        3.0   \n452   45.0             1.0      561.0               2.0        3.0   \n195   37.0             1.0      290.0              21.0        3.0   \n776   20.0             2.0      769.0               9.0        3.0   \n1295  41.0             1.0      796.0               4.0        1.0   \n70    59.0             2.0     1225.0               1.0        1.0   \n1135  46.0             1.0      563.0               1.0        4.0   \n1011  36.0             1.0     1174.0               3.0        4.0   \n10    35.0             1.0      809.0              16.0        3.0   \n1265  33.0             3.0      775.0               4.0        3.0   \n1270  34.0             1.0      511.0               3.0        2.0   \n1257  31.0             1.0     1079.0              16.0        4.0   \n271   47.0             3.0      666.0              29.0        4.0   \n858   53.0             1.0     1223.0               7.0        2.0   \n790   33.0             1.0      654.0               5.0        3.0   \n1290  34.0             2.0      234.0               9.0        4.0   \n915   21.0             2.0      251.0              10.0        2.0   \n64    36.0             1.0     1223.0               8.0        3.0   \n959   40.0             1.0      523.0               2.0        3.0   \n1274  31.0             1.0      196.0              29.0        4.0   \n1394  32.0             1.0     1373.0               5.0        4.0   \n1109  30.0             1.0     1288.0              29.0        4.0   \n416   38.0             2.0     1490.0               2.0        2.0   \n1234  47.0             3.0      543.0               2.0        4.0   \n687   36.0             1.0      938.0               2.0        4.0   \n...    ...             ...        ...               ...        ...   \n1445  41.0             1.0      582.0              28.0        4.0   \n1201  23.0             1.0     1320.0               8.0        1.0   \n99    44.0             3.0      489.0              23.0        3.0   \n850   32.0             3.0      862.0               2.0        1.0   \n448   40.0             1.0      302.0               6.0        3.0   \n755   45.0             1.0     1234.0              11.0        2.0   \n976   56.0             1.0     1369.0              23.0        3.0   \n115   37.0             1.0     1189.0               3.0        3.0   \n777   21.0             1.0     1334.0              10.0        3.0   \n72    31.0             1.0     1082.0               1.0        4.0   \n845   40.0             2.0      902.0              26.0        2.0   \n537   27.0             2.0      294.0              10.0        2.0   \n849   43.0             1.0     1372.0               9.0        3.0   \n174   45.0             1.0     1268.0               4.0        2.0   \n87    51.0             1.0      432.0               9.0        4.0   \n551   39.0             1.0      141.0               3.0        3.0   \n705   39.0             1.0      903.0               2.0        5.0   \n314   39.0             1.0      117.0              10.0        1.0   \n1420  41.0             1.0      642.0               1.0        3.0   \n600   32.0             1.0      859.0               4.0        3.0   \n1094  40.0             1.0     1342.0               9.0        2.0   \n599   36.0             1.0     1041.0              13.0        3.0   \n277   38.0             1.0      322.0               7.0        2.0   \n1033  31.0             2.0     1445.0               1.0        5.0   \n1383  36.0             3.0     1351.0               9.0        4.0   \n763   34.0             1.0     1333.0              10.0        4.0   \n835   35.0             1.0      528.0               8.0        4.0   \n1216  43.0             1.0     1179.0               2.0        3.0   \n559   38.0             1.0      268.0               2.0        5.0   \n684   40.0             1.0      658.0              10.0        4.0   \n\n      EducationField  YearsAtCompany  \n338              3.0            10.0  \n363              3.0             1.0  \n759              2.0             6.0  \n793              1.0             4.0  \n581              1.0             2.0  \n320              1.0             5.0  \n452              4.0             8.0  \n195              1.0             8.0  \n776              3.0             2.0  \n1295             3.0            22.0  \n70               1.0             4.0  \n1135             1.0            26.0  \n1011             3.0             5.0  \n10               2.0             5.0  \n1265             5.0             9.0  \n1270             1.0             2.0  \n1257             3.0             1.0  \n271              1.0            10.0  \n858              2.0             7.0  \n790              1.0             3.0  \n1290             1.0             7.0  \n915              1.0             2.0  \n64               5.0            17.0  \n959              1.0             9.0  \n1274             3.0            12.0  \n1394             1.0             1.0  \n1109             5.0             4.0  \n416              1.0             1.0  \n1234             3.0             1.0  \n687              2.0            11.0  \n...              ...             ...  \n1445             1.0            20.0  \n1201             2.0             5.0  \n99               2.0             3.0  \n850              1.0             1.0  \n448              1.0            20.0  \n755              1.0             9.0  \n976              1.0            19.0  \n115              1.0             5.0  \n777              1.0             1.0  \n72               2.0             1.0  \n845              2.0             1.0  \n537              1.0             9.0  \n849              3.0             4.0  \n174              1.0             5.0  \n87               1.0             4.0  \n551              6.0             8.0  \n705              1.0             8.0  \n314              2.0            21.0  \n1420             1.0             5.0  \n600              1.0            14.0  \n1094             2.0             8.0  \n599              6.0             5.0  \n277              2.0             8.0  \n1033             1.0            10.0  \n1383             1.0             5.0  \n763              1.0             1.0  \n835              5.0             5.0  \n1216             2.0            10.0  \n559              2.0             1.0  \n684              3.0             1.0  \n\n[1029 rows x 10 columns]\n", 
                    "name": "stdout"
                }
            ], 
            "source": "print (X_train)"
        }, 
        {
            "cell_type": "code", 
            "execution_count": 39, 
            "metadata": {}, 
            "outputs": [
                {
                    "output_type": "stream", 
                    "text": "[[  1.00000000e+00   1.86644576e-11]]\n", 
                    "name": "stdout"
                }
            ], 
            "source": "#add random values to KK according to the parameters mentioned above to check the proabily of attrition \n#of the employee\n#kk=[[1.0, 23.0, 1.0, 500.0, 3.0, 24.0, 1.0, 1.0, 1.5]]\nkk=[[1.0, 23.0, 1.0, 500.0, 3.0, 24.0, 1.0, 1.0, 1.5, 0.0]]\nprint(model.predict_proba(kk))"
        }, 
        {
            "cell_type": "code", 
            "execution_count": null, 
            "metadata": {}, 
            "outputs": [], 
            "source": ""
        }
    ], 
    "nbformat": 4, 
    "metadata": {
        "kernelspec": {
            "language": "python", 
            "name": "python3-spark21", 
            "display_name": "Python 3.5 (Experimental) with Spark 2.1"
        }, 
        "language_info": {
            "pygments_lexer": "ipython3", 
            "nbconvert_exporter": "python", 
            "mimetype": "text/x-python", 
            "name": "python", 
            "version": "3.5.2", 
            "file_extension": ".py", 
            "codemirror_mode": {
                "version": 3, 
                "name": "ipython"
            }
        }
    }, 
    "nbformat_minor": 1
}