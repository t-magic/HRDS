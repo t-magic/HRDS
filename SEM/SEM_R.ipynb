{
 "cells": [
  {
   "cell_type": "markdown",
   "metadata": {},
   "source": [
    "# SEM_R"
   ]
  },
  {
   "cell_type": "code",
   "execution_count": null,
   "metadata": {
    "collapsed": true
   },
   "outputs": [],
   "source": [
    "# ライブラリーの読み込み\n",
    "library(openxlsx)\n",
    "library(psych)\n",
    "library(GPArotation)\n",
    "library(lavaan)\n",
    "#library(semPlot)"
   ]
  },
  {
   "cell_type": "code",
   "execution_count": null,
   "metadata": {
    "collapsed": true
   },
   "outputs": [],
   "source": [
    "?read.xlsx"
   ]
  },
  {
   "cell_type": "code",
   "execution_count": null,
   "metadata": {
    "collapsed": true
   },
   "outputs": [],
   "source": [
    "getwd()"
   ]
  },
  {
   "cell_type": "code",
   "execution_count": null,
   "metadata": {
    "collapsed": true
   },
   "outputs": [],
   "source": [
    "m1<-read.csv(\"data/hr_test_data3.csv\")\n",
    "head(m1)"
   ]
  },
  {
   "cell_type": "code",
   "execution_count": null,
   "metadata": {
    "collapsed": true
   },
   "outputs": [],
   "source": [
    "cor(m1)  #アンケート設問間の共分散値を確認する（出力する）"
   ]
  },
  {
   "cell_type": "code",
   "execution_count": null,
   "metadata": {
    "collapsed": true
   },
   "outputs": [],
   "source": [
    "cortest.bartlett(m1) #Bartlettテスト"
   ]
  },
  {
   "cell_type": "code",
   "execution_count": null,
   "metadata": {
    "collapsed": true
   },
   "outputs": [],
   "source": [
    "res2<-fa.parallel(m1, fa=\"pc\") #因子数を算出する\n",
    "res3<-fa(m1, fm=\"minres\", nfactors=5, rotate=\"oblimin\", scores=TRUE)\n",
    "print(res3,sort=TRUE,cut=.3)"
   ]
  },
  {
   "cell_type": "code",
   "execution_count": null,
   "metadata": {
    "collapsed": true
   },
   "outputs": [],
   "source": [
    "head(res3$scores)  #因子得点"
   ]
  },
  {
   "cell_type": "code",
   "execution_count": null,
   "metadata": {
    "collapsed": true
   },
   "outputs": [],
   "source": [
    "alpha(m1)  #信頼性係数：クロンバックのα　0.8を超えること\n",
    "\n",
    "#alpha(m1, keys=NULL,cumulative=FALSE, title=NULL, max=10,na.rm = TRUE,\n",
    "#check.keys=FALSE,n.iter=1,delete=TRUE,use=\"pairwise\")\n"
   ]
  },
  {
   "cell_type": "markdown",
   "metadata": {},
   "source": [
    "## OmegaグラフをWebページに描く"
   ]
  },
  {
   "cell_type": "code",
   "execution_count": null,
   "metadata": {
    "collapsed": true
   },
   "outputs": [],
   "source": [
    "?omega"
   ]
  },
  {
   "cell_type": "code",
   "execution_count": null,
   "metadata": {
    "collapsed": true
   },
   "outputs": [],
   "source": [
    "omega(m1, 5)  #信頼性計数：　ω係数"
   ]
  },
  {
   "cell_type": "markdown",
   "metadata": {},
   "source": [
    "## Omegaグラフをファイルに描く"
   ]
  },
  {
   "cell_type": "code",
   "execution_count": null,
   "metadata": {
    "collapsed": true
   },
   "outputs": [],
   "source": [
    "png(\"data/omega_graph.png\", width=1000, height=1000)\n",
    "omega(m1, 5)  #信頼性計数：　ω係数\n",
    "dev.off()"
   ]
  },
  {
   "cell_type": "code",
   "execution_count": null,
   "metadata": {
    "collapsed": true
   },
   "outputs": [],
   "source": [
    "describe(m1)  #各列毎の統計値"
   ]
  },
  {
   "cell_type": "markdown",
   "metadata": {},
   "source": [
    "## SEM分析"
   ]
  },
  {
   "cell_type": "code",
   "execution_count": null,
   "metadata": {
    "collapsed": true
   },
   "outputs": [],
   "source": [
    "#測定モデル 億田モデルがベース 上司関連、潜在意識Aを改造\n",
    "# 1. 潜在意識H~ 潜在意識D+潜在意識F #上司評価を除くモデル\n",
    "#source('data/latency0.R')       # sjis\n",
    "source('R_progs/latency0.R')       # sjis\n",
    "# 値は、 LATENCY_VAR にセットされる。\n",
    "\n",
    "model.test0 <- LATENCY_VAR\n",
    "model.test0"
   ]
  },
  {
   "cell_type": "code",
   "execution_count": null,
   "metadata": {
    "collapsed": true
   },
   "outputs": [],
   "source": [
    "#Rチュートリアルセミナーを参照（山口大学）\n",
    "#関西大学資料参照\n",
    "fit0<-sem(model.test0,data=m1)\n",
    "summary(fit0,standardized=TRUE,fit.measures=TRUE,modindices=TRUE) \n",
    "fitMeasures(fit0,c(\"gfi\",\"agfi\",\"rmr\"))"
   ]
  },
  {
   "cell_type": "code",
   "execution_count": null,
   "metadata": {
    "collapsed": true
   },
   "outputs": [],
   "source": [
    "#fit <- sem(model.test1, sample.cov=wheaton.cov, sample.nobs=1800)\n",
    "summary(fit0, standardized=TRUE)\n",
    "pars <- parameterEstimates(fit0, standardized = TRUE)\n",
    "g<-data.frame(pars$lhs,pars$op,pars$rhs,\" [label=\",signif(pars$std.all,digits=2),\"];\")\n",
    "write.table(g,\"data/sem_out0\",sep=\" \",col.names=FALSE,row.names=FALSE,quote=FALSE, na=\"\")"
   ]
  },
  {
   "cell_type": "markdown",
   "metadata": {},
   "source": [
    "# [ここ](SEM_Py.ipynb)をクリックして、SEM_Py.ipynbを起動しこの後の処理をPythonで続けます。\n",
    "* pythonで、layency.Rとsem_outファイルを入力として、dotファイルに変換し、さらにgraphvizで描画します。\n",
    "\n",
    "----"
   ]
  },
  {
   "cell_type": "markdown",
   "metadata": {},
   "source": [
    "# 以下不要(備忘録)"
   ]
  },
  {
   "cell_type": "code",
   "execution_count": null,
   "metadata": {
    "collapsed": true
   },
   "outputs": [],
   "source": [
    "#Q1～Q70の平均を算出する\n",
    "apply(m1[,1:65],2,mean) "
   ]
  },
  {
   "cell_type": "code",
   "execution_count": null,
   "metadata": {
    "collapsed": true
   },
   "outputs": [],
   "source": [
    "sessionInfo()"
   ]
  },
  {
   "cell_type": "markdown",
   "metadata": {},
   "source": [
    "# obsolete\n",
    "RGuiを立ち上げてやってみた。\n",
    "```\n",
    "> repos = \"https://cran.ism.ac.jp\"\n",
    "> install.packages(\"openxlsx\", dependencies= T, repos=repos)\n",
    " パッケージを ‘C:/work/R/win-library/3.3’ 中にインストールします \n",
    " (‘lib’ が指定されていないため) \n",
    " 依存対象 (dependency) ‘crayon’, ‘praise’, ‘R6’, ‘testthat’ もインストールします \n",
    "\n",
    " URL 'https://cran.ism.ac.jp/bin/windows/contrib/3.3/crayon_1.3.2.zip' を試しています \n",
    "Content type 'application/zip' length 703627 bytes (687 KB)\n",
    "downloaded 687 KB\n",
    "\n",
    " URL 'https://cran.ism.ac.jp/bin/windows/contrib/3.3/praise_1.0.0.zip' を試しています \n",
    "Content type 'application/zip' length 17686 bytes (17 KB)\n",
    "downloaded 17 KB\n",
    "\n",
    " URL 'https://cran.ism.ac.jp/bin/windows/contrib/3.3/R6_2.2.2.zip' を試しています \n",
    "Content type 'application/zip' length 316512 bytes (309 KB)\n",
    "downloaded 309 KB\n",
    "\n",
    " URL 'https://cran.ism.ac.jp/bin/windows/contrib/3.3/testthat_1.0.2.zip' を試しています \n",
    "Content type 'application/zip' length 1057897 bytes (1.0 MB)\n",
    "downloaded 1.0 MB\n",
    "\n",
    " URL 'https://cran.ism.ac.jp/bin/windows/contrib/3.3/openxlsx_4.0.17.zip' を試しています \n",
    "Content type 'application/zip' length 2422904 bytes (2.3 MB)\n",
    "downloaded 2.3 MB\n",
    "\n",
    " パッケージ ‘crayon’ は無事に展開され、MD5 サムもチェックされました \n",
    " パッケージ ‘praise’ は無事に展開され、MD5 サムもチェックされました \n",
    " パッケージ ‘R6’ は無事に展開され、MD5 サムもチェックされました \n",
    " パッケージ ‘testthat’ は無事に展開され、MD5 サムもチェックされました \n",
    " パッケージ ‘openxlsx’ は無事に展開され、MD5 サムもチェックされました \n",
    " 警告:   パッケージ ‘openxlsx’ の既存のインストールを取り除くことが出来ませんでした \n",
    "\n",
    " ダウンロードされたパッケージは、以下にあります \n",
    "        C:\\Users\\tateno\\AppData\\Local\\Temp\\RtmpiIXPhA\\downloaded_packages \n",
    "> install.packages(\"psych\", dependencies= T, repos = repos)\n",
    " パッケージを ‘C:/work/R/win-library/3.3’ 中にインストールします \n",
    " (‘lib’ が指定されていないため) \n",
    " 警告:   依存対象 (dependency) ‘graph’, ‘Rgraphviz’ が利用できません \n",
    " URL 'https://cran.ism.ac.jp/bin/windows/contrib/3.3/psych_1.7.5.zip' を試しています \n",
    "Content type 'application/zip' length 3965953 bytes (3.8 MB)\n",
    "downloaded 3.8 MB\n",
    "\n",
    " パッケージ ‘psych’ は無事に展開され、MD5 サムもチェックされました \n",
    "\n",
    " ダウンロードされたパッケージは、以下にあります \n",
    "        C:\\Users\\tateno\\AppData\\Local\\Temp\\RtmpiIXPhA\\downloaded_packages \n",
    "> install.packages(\"GPArotation\", dependencies= T, repos = repos)\n",
    " パッケージを ‘C:/work/R/win-library/3.3’ 中にインストールします \n",
    " (‘lib’ が指定されていないため) \n",
    " URL 'https://cran.ism.ac.jp/bin/windows/contrib/3.3/GPArotation_2014.11-1.zip' を試しています \n",
    "Content type 'application/zip' length 132205 bytes (129 KB)\n",
    "downloaded 129 KB\n",
    "\n",
    " パッケージ ‘GPArotation’ は無事に展開され、MD5 サムもチェックされました \n",
    "\n",
    " ダウンロードされたパッケージは、以下にあります \n",
    "        C:\\Users\\tateno\\AppData\\Local\\Temp\\RtmpiIXPhA\\downloaded_packages \n",
    "> install.packages(\"lavaan\", dependencies= T, repos=repos)\n",
    " パッケージを ‘C:/work/R/win-library/3.3’ 中にインストールします \n",
    " (‘lib’ が指定されていないため) \n",
    " 依存対象 (dependency) ‘numDeriv’ もインストールします \n",
    "\n",
    " URL 'https://cran.ism.ac.jp/bin/windows/contrib/3.3/numDeriv_2016.8-1.zip' を試しています \n",
    "Content type 'application/zip' length 110553 bytes (107 KB)\n",
    "downloaded 107 KB\n",
    "\n",
    " URL 'https://cran.ism.ac.jp/bin/windows/contrib/3.3/lavaan_0.5-23.1097.zip' を試しています \n",
    "Content type 'application/zip' length 867806 bytes (847 KB)\n",
    "downloaded 847 KB\n",
    "\n",
    " パッケージ ‘numDeriv’ は無事に展開され、MD5 サムもチェックされました \n",
    " パッケージ ‘lavaan’ は無事に展開され、MD5 サムもチェックされました \n",
    "\n",
    " ダウンロードされたパッケージは、以下にあります \n",
    "        C:\\Users\\tateno\\AppData\\Local\\Temp\\RtmpiIXPhA\\downloaded_packages \n",
    "> install.packages(\"semPlot\", dependencies= T, repos=repos)\n",
    " パッケージを ‘C:/work/R/win-library/3.3’ 中にインストールします \n",
    " (‘lib’ が指定されていないため) \n",
    " 依存対象 (dependency) ‘mvtnorm’, ‘StanHeaders’, ‘BH’, ‘rpf’, ‘semTools’, ‘OpenMx’ もインストールします \n",
    "\n",
    " URL 'https://cran.ism.ac.jp/bin/windows/contrib/3.3/mvtnorm_1.0-6.zip' を試しています \n",
    "Content type 'application/zip' length 233068 bytes (227 KB)\n",
    "downloaded 227 KB\n",
    "\n",
    " URL 'https://cran.ism.ac.jp/bin/windows/contrib/3.3/StanHeaders_2.16.0-1.zip' を試しています \n",
    "Content type 'application/zip' length 1766235 bytes (1.7 MB)\n",
    "downloaded 1.7 MB\n",
    "\n",
    " URL 'https://cran.ism.ac.jp/bin/windows/contrib/3.3/BH_1.62.0-1.zip' を試しています \n",
    "Content type 'application/zip' length 16150075 bytes (15.4 MB)\n",
    "downloaded 15.4 MB\n",
    "\n",
    " URL 'https://cran.ism.ac.jp/bin/windows/contrib/3.3/rpf_0.53.zip' を試しています \n",
    "Content type 'application/zip' length 963964 bytes (941 KB)\n",
    "downloaded 941 KB\n",
    "\n",
    " URL 'https://cran.ism.ac.jp/bin/windows/contrib/3.3/semTools_0.4-14.zip' を試しています \n",
    "Content type 'application/zip' length 1530618 bytes (1.5 MB)\n",
    "downloaded 1.5 MB\n",
    "\n",
    " URL 'https://cran.ism.ac.jp/bin/windows/contrib/3.3/OpenMx_2.7.12.zip' を試しています \n",
    "Content type 'application/zip' length 6561164 bytes (6.3 MB)\n",
    "downloaded 6.3 MB\n",
    "\n",
    " URL 'https://cran.ism.ac.jp/bin/windows/contrib/3.3/semPlot_1.1.zip' を試しています \n",
    "Content type 'application/zip' length 277546 bytes (271 KB)\n",
    "downloaded 271 KB\n",
    "\n",
    " パッケージ ‘mvtnorm’ は無事に展開され、MD5 サムもチェックされました \n",
    " パッケージ ‘StanHeaders’ は無事に展開され、MD5 サムもチェックされました \n",
    " パッケージ ‘BH’ は無事に展開され、MD5 サムもチェックされました \n",
    " パッケージ ‘rpf’ は無事に展開され、MD5 サムもチェックされました \n",
    " パッケージ ‘semTools’ は無事に展開され、MD5 サムもチェックされました \n",
    " パッケージ ‘OpenMx’ は無事に展開され、MD5 サムもチェックされました \n",
    " パッケージ ‘semPlot’ は無事に展開され、MD5 サムもチェックされました \n",
    "\n",
    " ダウンロードされたパッケージは、以下にあります \n",
    "        C:\\Users\\tateno\\AppData\\Local\\Temp\\RtmpiIXPhA\\downloaded_packages \n",
    "> \n",
    "```"
   ]
  }
 ],
 "metadata": {
  "anaconda-cloud": {},
  "kernelspec": {
   "display_name": "R",
   "language": "R",
   "name": "ir"
  },
  "language_info": {
   "codemirror_mode": "r",
   "file_extension": ".r",
   "mimetype": "text/x-r-source",
   "name": "R",
   "pygments_lexer": "r",
   "version": "3.3.2"
  }
 },
 "nbformat": 4,
 "nbformat_minor": 1
}
