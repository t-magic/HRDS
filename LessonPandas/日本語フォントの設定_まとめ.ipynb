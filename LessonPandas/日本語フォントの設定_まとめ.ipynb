{
 "cells": [
  {
   "cell_type": "markdown",
   "metadata": {},
   "source": [
    "# 日本語フォントの設定のまとめ"
   ]
  },
  {
   "cell_type": "markdown",
   "metadata": {},
   "source": [
    "### 日本語表示確認用プログラム\n",
    "* [【Seaborn】日本語を表示する (フォントを変更する)](http://qiita.com/keisuke-nakata/items/2309764d21438645f6b9)"
   ]
  },
  {
   "cell_type": "code",
   "execution_count": null,
   "metadata": {},
   "outputs": [],
   "source": [
    "%matplotlib inline\n",
    "import seaborn as sns\n",
    "sns.set(font='IPAexGothic')\n",
    "sns.plt.plot([0,1], [0,1]);  sns.plt.title('tofu - 豆腐')"
   ]
  },
  {
   "cell_type": "code",
   "execution_count": null,
   "metadata": {
    "collapsed": true
   },
   "outputs": [],
   "source": [
    "import matplotlib.font_manager as fm\n",
    "import pandas as pd"
   ]
  },
  {
   "cell_type": "code",
   "execution_count": null,
   "metadata": {
    "collapsed": true
   },
   "outputs": [],
   "source": [
    "fonts = fm.findSystemFonts()\n",
    "#fonts\n",
    "# 'c:\\\\windows\\\\fonts\\\\ipaexg.ttf',"
   ]
  },
  {
   "cell_type": "code",
   "execution_count": null,
   "metadata": {
    "collapsed": true
   },
   "outputs": [],
   "source": [
    "l = []\n",
    "for f in fonts:\n",
    "    font = fm.FontProperties(fname=f)\n",
    "    l.append((f, font.get_name(), font.get_family()))\n",
    "df = pd.DataFrame(l, columns=['path', 'name', 'family'])"
   ]
  },
  {
   "cell_type": "code",
   "execution_count": null,
   "metadata": {},
   "outputs": [],
   "source": [
    "df[df['path'].apply(lambda s: 'ipaexg' in s)]"
   ]
  },
  {
   "cell_type": "code",
   "execution_count": null,
   "metadata": {},
   "outputs": [],
   "source": [
    "# http://qiita.com/keisuke-nakata/items/2309764d21438645f6b9\n",
    "import matplotlib as mpl\n",
    "import os\n",
    "#print(mpl.matplotlib_fname())\n",
    "site_packages = os.path.dirname(os.path.dirname(os.path.dirname(mpl.matplotlib_fname())))\n",
    "#print('+ site_packages = {0}'.format(site_packages))\n",
    "seaborn_dir = '{0}/seaborn'.format(site_packages)\n",
    "#print('+ seaborn_dir = {0}'.format(seaborn_dir))\n",
    "fonts_dir = '{0}/mpl-data/fonts/ttf'.format(os.path.dirname(os.path.dirname(mpl.matplotlib_fname())))\n",
    "if 'ipaexg.ttf' in os.listdir(fonts_dir):\n",
    "    print('+ {0} に\\n日本語フォントがあります。'.format(fonts_dir))\n",
    "    print('「1. 日本語フォントのインストール」は不要です。')\n",
    "    print('「2. rcmod.pyの編集」から始めてください。')\n",
    "if 'rcmod.py' in os.listdir(seaborn_dir):\n",
    "    print('+ {0} に\\nrcmod.py があります。'.format(seaborn_dir))"
   ]
  },
  {
   "cell_type": "markdown",
   "metadata": {},
   "source": [
    "# 1. 日本語フォントのインストール\n",
    "* [【matplotlib】日本語の設定](http://kaisk.hatenadiary.com/entry/2015/02/15/215831)\n",
    "    * 今回はIPAexフォントを使うことにします。ダウンロードして解凍すると、ipaexg.ttfというファイルがあるはずです。 それを、先ほど見つけたmatplotlibのデフォルト設定ファイルの置いてあるフォルダにあるfonts/ttf/フォルダにコピーしてください。\n",
    "    * なお、このfontsフォルダは、matplotlibをバージョンアップなどすると書き換えられてしまうおそれがあるようです。 もしもそうした事態が起きたら、もう一度ipaexg.ttfをコピーしてください。\n",
    "* [リリース IPA Fonts/IPAex Fonts 2 書体パック_IPAexフォント（ver.001.03） - IPAフォント - OSDN](https://ja.osdn.net/projects/ipafonts/releases/49986)\n",
    "\n",
    "# ~~matplotlibrcの編集~~（不要）\n",
    "* 196行目の\n",
    "\n",
    "```\n",
    "#font.family         : sans-serif\n",
    "```\n",
    "\n",
    "の下に\n",
    "\n",
    "```\n",
    "font.family : IPAexGothic\n",
    "```\n",
    "\n",
    "を追記します。"
   ]
  },
  {
   "cell_type": "markdown",
   "metadata": {},
   "source": [
    "# 2. rcmod.pyの編集\n",
    "* rcmod.py をエディターで開き、81行目、82行目の\n",
    "\n",
    "```\n",
    "def set(context=\"notebook\", style=\"darkgrid\", palette=\"deep\",\n",
    "        font=\"sans-serif\", font_scale=1, color_codes=False, rc=None):\n",
    "```\n",
    "\n",
    "をコメントアウトし、下に\n",
    "\n",
    "```\n",
    "def set(context=\"notebook\", style=\"darkgrid\", palette=\"deep\",\n",
    "        font=\"IPAexGothic\", font_scale=1, color_codes=False, rc=None):\n",
    "```\n",
    "\n",
    "の2行を追記してください。そうすると、\n",
    "```\n",
    "#def set(context=\"notebook\", style=\"darkgrid\", palette=\"deep\",\n",
    "#        font=\"sans-serif\", font_scale=1, color_codes=False, rc=None):\n",
    "def set(context=\"notebook\", style=\"darkgrid\", palette=\"deep\",\n",
    "        font=\"IPAexGothic\", font_scale=1, color_codes=False, rc=None):\n",
    "```\n",
    "\n",
    "のようになります。"
   ]
  },
  {
   "cell_type": "markdown",
   "metadata": {},
   "source": [
    "* 次に192行目の\n",
    "\n",
    "```\n",
    "            \"font.family\": [\"sans-serif\"],\n",
    "```\n",
    "をコメントアウトし、下に\n",
    "\n",
    "```\n",
    "            \"font.family\": [\"IPAexGothic\"],\n",
    "```\n",
    "\n",
    "を追記してください。そうすると、\n",
    "\n",
    "```\n",
    "#            \"font.family\": [\"sans-serif\"],\n",
    "            \"font.family\": [\"IPAexGothic\"],\n",
    "```\n",
    "\n",
    "のようになります。"
   ]
  },
  {
   "cell_type": "markdown",
   "metadata": {},
   "source": [
    "# 3. キャッシュファイルの削除\n",
    "* ユーザ設定ファイルの存在するフォルダにあるfontList.cacheもしくはfontList.py3k.cacheを削除する。\n",
    "\n",
    "## Windowsの場合\n",
    "* C:\\Users\\ユーザー名\\\\.matplotlibの下の\n",
    "    * fontList.cache\n",
    "    * fontList.py3k.cache\n",
    "を削除します。\n",
    "\n",
    "## Ubuntuの場合\n",
    "    * rm ~/.cache/matplotlib/fontList.cache\n",
    "    * rm ~/.cache/matplotlib/fontList.py3k.cache"
   ]
  },
  {
   "cell_type": "markdown",
   "metadata": {},
   "source": [
    "# 4. ブラウザーをすべて閉じて、jupyterを再起動する。\n",
    "* jupyterの再起動では足りない。\n",
    "\n",
    "```\n",
    "jupyter notebook\n",
    "```"
   ]
  },
  {
   "cell_type": "markdown",
   "metadata": {},
   "source": [
    "# 以下不要"
   ]
  },
  {
   "cell_type": "markdown",
   "metadata": {},
   "source": [
    "* 123\n",
    "    * G:\\SVN\\TMArchive\\Jupyter_IPYNB\n",
    "* [matplotlib と Seaborn の軸の日本語設定 - Qiita](http://qiita.com/kshigeru/items/0cfc0778bab197687967)\n",
    "* [IPAfont00303 - Google 検索](https://www.google.co.jp/webhp?sourceid=chrome-instant&rlz=1C1TWJA_jaJP558JP558&ion=1&espv=2&ie=UTF-8#q=IPAfont00303)\n",
    "    * G:\\SVN\\TMArchive\\Jupyter_IPYNB\\IPAfont00303\n",
    "* [ipaexg.ttf - Google 検索](https://www.google.co.jp/webhp?sourceid=chrome-instant&rlz=1C1TWJA_jaJP558JP558&ion=1&espv=2&ie=UTF-8#q=ipaexg.ttf)\n",
    "    * [リリース IPA Fonts/IPAex Fonts 2 書体パック_IPAexフォント（ver.001.03） - IPAフォント - OSDN](https://ja.osdn.net/projects/ipafonts/releases/49986)\n",
    "        * G:\\SVN\\TMArchive\\Jupyter_IPYNB\\IPAexfont00103"
   ]
  },
  {
   "cell_type": "code",
   "execution_count": null,
   "metadata": {
    "collapsed": true
   },
   "outputs": [],
   "source": [
    "ls C:\\Anaconda2\\envs\\py35\\lib\\site-packages\\matplotlib\\mpl-data"
   ]
  },
  {
   "cell_type": "code",
   "execution_count": null,
   "metadata": {
    "collapsed": true
   },
   "outputs": [],
   "source": [
    "ls C:\\Anaconda2\\envs\\py35\\Lib\\site-packages\\matplotlib\\mpl-data\\fonts\\ttf"
   ]
  },
  {
   "cell_type": "code",
   "execution_count": null,
   "metadata": {
    "collapsed": true
   },
   "outputs": [],
   "source": [
    "#ls C:\\Anaconda2\\envs\\py35\\Lib\\site-packages\\seaborn"
   ]
  },
  {
   "cell_type": "code",
   "execution_count": null,
   "metadata": {
    "collapsed": true
   },
   "outputs": [],
   "source": [
    "# 2016/04/27  01:31            16,173 rcmod.py"
   ]
  },
  {
   "cell_type": "code",
   "execution_count": null,
   "metadata": {
    "collapsed": true
   },
   "outputs": [],
   "source": [
    "'''\n",
    "#def set(context=\"notebook\", style=\"darkgrid\", palette=\"deep\",\n",
    "#        font=\"sans-serif\", font_scale=1, color_codes=False, rc=None):\n",
    "def set(context=\"notebook\", style=\"darkgrid\", palette=\"deep\",\n",
    "        font=\"IPAexGothic\", font_scale=1, color_codes=False, rc=None):\n",
    "'''\n",
    "'''\n",
    "#            \"font.family\": [\"sans-serif\"],\n",
    "            \"font.family\": [\"IPAexGothic\"],\n",
    "'''"
   ]
  },
  {
   "cell_type": "code",
   "execution_count": null,
   "metadata": {
    "collapsed": true
   },
   "outputs": [],
   "source": [
    "import matplotlib as mpl\n",
    "font_paths = mpl.font_manager.findSystemFonts()\n",
    "font_objects = mpl.font_manager.createFontList(font_paths)\n",
    "font_names = [f.name for f in font_objects]\n",
    "#print(font_names)\n",
    "# 'IPAexGothic'"
   ]
  },
  {
   "cell_type": "code",
   "execution_count": null,
   "metadata": {
    "collapsed": true
   },
   "outputs": [],
   "source": [
    "%matplotlib inline\n",
    "import seaborn as sns\n",
    "sns.set(font='IPAexGothic')\n",
    "sns.plt.plot([0,1], [0,1]);  sns.plt.title('tofu - 豆腐')"
   ]
  },
  {
   "cell_type": "code",
   "execution_count": null,
   "metadata": {
    "collapsed": true
   },
   "outputs": [],
   "source": [
    "# http://blog.mwsoft.jp/article/105958987.html\n",
    "import matplotlib\n",
    "import pandas as pd\n",
    "from matplotlib import pylab as plt\n",
    "\n",
    "# matplotlibのデフォルトフォントをTakaoGothicに設定\n",
    "font = {'family' : 'IPAexGothic'}\n",
    "matplotlib.rc('font', **font)\n",
    "\n",
    "# columnsとtitleに日本語を指定してplot\n",
    "df = pd.DataFrame( [ [0, 1], [0.5, 1.5] ], columns=(u'甲', u'乙') )\n",
    "df.plot( title=u'日本語' )\n",
    "plt.show()"
   ]
  },
  {
   "cell_type": "markdown",
   "metadata": {},
   "source": [
    "* http://kaisk.hatenadiary.com/entry/2015/02/15/215831\n",
    "* python_install_folder\\\\lib\\\\site-packages\\\\matplotlib\\\\mpl-data\\\\matplotlibrc\n",
    "    * C:\\Anaconda2\\envs\\py35\\Lib\\site-packages\\matplotlib\\mpl-data\\matplotlibrc\n",
    "    ```\n",
    "#font.family         : sans-serif\n",
    "font.family          : IPAexGothic\n",
    "```"
   ]
  },
  {
   "cell_type": "markdown",
   "metadata": {},
   "source": [
    "* C:\\Users\\tateno\\.matplotlib\n",
    "    * フォントのキャッシュの削除\n",
    "* これで設定完了です。 しかし、matplotlibは使うフォントのキャッシュを持っていて、それを削除しないと設定が読み込まれません。 デフォルト設定ファイルの存在するフォルダ、そしてユーザ設定ファイルの存在するフォルダにあるfontList.cacheもしくはfontList.py3k.cacheファイルを削除してください。"
   ]
  }
 ],
 "metadata": {
  "anaconda-cloud": {},
  "kernelspec": {
   "display_name": "Python 3",
   "language": "python",
   "name": "python3"
  },
  "language_info": {
   "codemirror_mode": {
    "name": "ipython",
    "version": 3
   },
   "file_extension": ".py",
   "mimetype": "text/x-python",
   "name": "python",
   "nbconvert_exporter": "python",
   "pygments_lexer": "ipython3",
   "version": "3.5.3"
  }
 },
 "nbformat": 4,
 "nbformat_minor": 1
}
