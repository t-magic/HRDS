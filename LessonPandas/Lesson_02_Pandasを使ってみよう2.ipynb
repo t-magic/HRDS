{
 "cells": [
  {
   "cell_type": "markdown",
   "metadata": {},
   "source": [
    "# Lesson 02 Pandasを使ってみよう2"
   ]
  },
  {
   "cell_type": "markdown",
   "metadata": {},
   "source": [
    "### panda-plyのインストールが必要です。\n",
    "1. コマンドプロンプトで\n",
    "```\n",
    "pip install pandas-ply\n",
    "```\n",
    "\n",
    "2. ctl-Cで止めて、jupyter notebook を再起動する\n",
    "3. ブラウザーを一度閉じてから立ち上げる\n",
    "----\n",
    "[pandas-ply/README.rst at master · coursera/pandas-ply](https://github.com/coursera/pandas-ply/blob/master/README.rst)   \n",
    "[pandas-plyを使う - Qiita](http://qiita.com/gg_hatano/items/be4d3e7e969997e40381)  \n",
    "[Pythonでのデータ操作 - Pandas_plyrを使ってみる - Qiita](http://qiita.com/hik0107/items/3dd260d9939a5e61c4f6)  "
   ]
  },
  {
   "cell_type": "code",
   "execution_count": null,
   "metadata": {
    "collapsed": true
   },
   "outputs": [],
   "source": [
    "import pandas as pd\n",
    "from pandas_ply import install_ply, X, sym_call\n",
    "\n",
    "install_ply(pd)"
   ]
  },
  {
   "cell_type": "code",
   "execution_count": null,
   "metadata": {},
   "outputs": [],
   "source": [
    "import pandas as pd\n",
    "csv_file_name = 'data/WA_Fn-UseC_-HR-Employee-Attrition.csv'\n",
    "\n",
    "df = pd.read_csv(csv_file_name)\n",
    "df.head()"
   ]
  },
  {
   "cell_type": "markdown",
   "metadata": {},
   "source": [
    "## 1. 列を選ぶ (列名を変更する、条件により値を決めた列を作成する)\n",
    "### ply_select\n",
    "### (例) 年齢が40以上の場合はTrueとし、それ以外の場合はFalseとする"
   ]
  },
  {
   "cell_type": "code",
   "execution_count": null,
   "metadata": {},
   "outputs": [],
   "source": [
    "df2 = df.ply_select(\"Department\", \"Age\",\n",
    "                Distance = X.DistanceFromHome,  ## カラム名を変更できる\n",
    "                is_adult = (X.Age >= 40)  ## 新しいカラムを定義することも可能になる\n",
    "                )\n",
    "df2"
   ]
  },
  {
   "cell_type": "markdown",
   "metadata": {},
   "source": [
    "### (例) 列名を変え、値を100分の1にし、先頭の10行にする。ピリオド(.)で続ける"
   ]
  },
  {
   "cell_type": "code",
   "execution_count": null,
   "metadata": {},
   "outputs": [],
   "source": [
    "(df\n",
    "    .ply_select(\n",
    "      EducationField=X.EducationField,\n",
    "      DailyRate_x100 = X.DailyRate / 100\n",
    "      )\n",
    "    .head(10)\n",
    "    )"
   ]
  },
  {
   "cell_type": "markdown",
   "metadata": {},
   "source": [
    "## 2. 列をまとめて、平均値や計数値を得る\n",
    "### groupby"
   ]
  },
  {
   "cell_type": "markdown",
   "metadata": {},
   "source": [
    "### (例) 平均値はmean()、計数値はsize()"
   ]
  },
  {
   "cell_type": "code",
   "execution_count": null,
   "metadata": {},
   "outputs": [],
   "source": [
    "dataSummarize = (\n",
    "    df\n",
    "    .groupby('Department')\n",
    "    .ply_select(\n",
    "      meanAge=X.Age.mean(),\n",
    "      candidateNum=X.Age.size(),\n",
    "      )\n",
    "    )\n",
    "dataSummarize"
   ]
  },
  {
   "cell_type": "markdown",
   "metadata": {},
   "source": [
    "## 3. 行を選ぶ (条件に合う行だけを選ぶ)\n",
    "### ply_where"
   ]
  },
  {
   "cell_type": "code",
   "execution_count": null,
   "metadata": {},
   "outputs": [],
   "source": [
    "df.ply_where(X.Age>40, \n",
    "               X.BusinessTravel == \"Travel_Rarely\",\n",
    "               X.EducationField == \"Life Sciences\"\n",
    "               )  #全ての条件にAndで満たすデータだけが選択される"
   ]
  },
  {
   "cell_type": "code",
   "execution_count": null,
   "metadata": {},
   "outputs": [],
   "source": [
    "## under 30 \n",
    "(df\n",
    "    .ply_where(X.Age < 30)\n",
    "    .head(10)\n",
    "    )"
   ]
  },
  {
   "cell_type": "markdown",
   "metadata": {},
   "source": [
    "## 4. 列名を変更する\n",
    "[pandas DataFrameの行名・列名の変更 | nkmk log](https://nkmk.github.io/blog/python-pandas-dataframe-rename/)"
   ]
  },
  {
   "cell_type": "code",
   "execution_count": null,
   "metadata": {},
   "outputs": [],
   "source": [
    "df.rename(columns={'Age': '年齢', 'Attrition': '自然減', 'BusinessTravel': '出張', 'DailyRate': '日当', \\\n",
    "        'Department': '部署', 'DistanceFromHome': '通勤距離', 'Education': '教育', 'EducationField': '教育領域'}, \\\n",
    "        index={'ONE': 'one'}, inplace=True)\n",
    "df.head()"
   ]
  },
  {
   "cell_type": "markdown",
   "metadata": {},
   "source": [
    "## 5. 日本語フォントが使用できるかを確認する"
   ]
  },
  {
   "cell_type": "code",
   "execution_count": null,
   "metadata": {},
   "outputs": [],
   "source": [
    "%matplotlib inline\n",
    "import seaborn as sns\n",
    "sns.set(font='IPAexGothic')\n",
    "sns.plt.plot([0,1], [0,1]);  sns.plt.title('tofu - 豆腐')"
   ]
  },
  {
   "cell_type": "markdown",
   "metadata": {},
   "source": [
    "### 上のグラフで「豆腐」の文字が見えない場合\n",
    "* [日本語フォントの設定のまとめ](日本語フォントの設定のまとめ.ipynb) を実行します。"
   ]
  },
  {
   "cell_type": "markdown",
   "metadata": {},
   "source": [
    "## 6. 簡単なグラフを描く"
   ]
  },
  {
   "cell_type": "code",
   "execution_count": null,
   "metadata": {},
   "outputs": [],
   "source": [
    "dataSummarize = (\n",
    "    df\n",
    "    .groupby('部署')\n",
    "    .ply_select(\n",
    "      平均通勤距離=X.通勤距離.mean(),\n",
    "      #candidateNum=X.年齢.size(),\n",
    "      )\n",
    "    )\n",
    "dataSummarize"
   ]
  },
  {
   "cell_type": "code",
   "execution_count": null,
   "metadata": {},
   "outputs": [],
   "source": [
    "import matplotlib.pyplot as plt\n",
    "dataSummarize.plot()\n",
    "plt.show()"
   ]
  },
  {
   "cell_type": "markdown",
   "metadata": {},
   "source": [
    "## 7. ピボットテーブルを試してみる\n",
    "[pandasでピボットテーブルを扱う · For myself tomorrow](https://tigawa.github.io/blog/2016/07/16/pivot/)"
   ]
  },
  {
   "cell_type": "code",
   "execution_count": null,
   "metadata": {},
   "outputs": [],
   "source": [
    "pt = pd.pivot_table(df,\n",
    "            # 集計したい縦のキー\n",
    "               index=['部署','出張'],\n",
    "\n",
    "            # 集計したい横のキー(複数指定可)\n",
    "               columns='教育領域',\n",
    "\n",
    "            # 集計したい項目 (指定がなければ、上記のキーになっていない項目)\n",
    "               values='EmployeeCount',\n",
    "\n",
    "            # 個数をカウントする。これがないとValuesの平均値になる。\n",
    "               aggfunc=lambda x : len(x),\n",
    "\n",
    "            # # NaN を 0埋めする\n",
    "               fill_value = 0,\n",
    "            )\n",
    "pt"
   ]
  },
  {
   "cell_type": "code",
   "execution_count": null,
   "metadata": {},
   "outputs": [],
   "source": [
    "pt.plot()\n",
    "plt.show()"
   ]
  },
  {
   "cell_type": "code",
   "execution_count": null,
   "metadata": {},
   "outputs": [],
   "source": [
    "pt = pd.pivot_table(df,\n",
    "            # 集計したい縦のキー\n",
    "               index=['部署','出張'],\n",
    "\n",
    "            # 集計したい横のキー(複数指定可)\n",
    "               columns=['教育領域', '自然減'],\n",
    "\n",
    "            # 集計したい項目 (指定がなければ、上記のキーになっていない項目)\n",
    "               values='EmployeeCount',\n",
    "\n",
    "            # 個数をカウントする。これがないとValuesの平均値になる。\n",
    "               aggfunc=lambda x : len(x),\n",
    "\n",
    "            # # NaN を 0埋めする\n",
    "               fill_value = 0,\n",
    "            )\n",
    "pt"
   ]
  },
  {
   "cell_type": "markdown",
   "metadata": {},
   "source": [
    "## 8. 行の順序を整える\n",
    "1. 名称順にする\n",
    "    * 正順\n",
    "        * df.reindex(index = natsorted(df.index))\n",
    "    * 逆順にする\n",
    "        * df.reindex(index = reversed(natsorted(df.index)))\n",
    "1. 指定順にする\n",
    "    1. 順序を得る\n",
    "        * olist = df.index\n",
    "     2. olistの要素を並べ変える\n",
    "     3. df.reindex(index = olist)\n",
    "----\n",
    "* [python - Naturally sorting Pandas DataFrame - Stack Overflow](https://stackoverflow.com/questions/29580978/naturally-sorting-pandas-dataframe)"
   ]
  },
  {
   "cell_type": "code",
   "execution_count": null,
   "metadata": {},
   "outputs": [],
   "source": [
    "pt"
   ]
  },
  {
   "cell_type": "code",
   "execution_count": null,
   "metadata": {},
   "outputs": [],
   "source": [
    "pt.index"
   ]
  },
  {
   "cell_type": "code",
   "execution_count": null,
   "metadata": {},
   "outputs": [],
   "source": [
    "from natsort import natsorted\n",
    "#pt.sort_index(ascending=True, inplace=True)\n",
    "pt.reindex(index=reversed(natsorted(pt.index)))"
   ]
  },
  {
   "cell_type": "code",
   "execution_count": null,
   "metadata": {},
   "outputs": [],
   "source": [
    "index3 = natsorted(pt.index, reverse=True)\n",
    "index3"
   ]
  },
  {
   "cell_type": "code",
   "execution_count": null,
   "metadata": {
    "collapsed": true
   },
   "outputs": [],
   "source": [
    "index3 = [('Sales', 'Travel_Rarely'),\n",
    " ('Sales', 'Travel_Frequently'),\n",
    " ('Sales', 'Non-Travel'),\n",
    " ('Human Resources', 'Travel_Rarely'),\n",
    " ('Human Resources', 'Travel_Frequently'),\n",
    " ('Human Resources', 'Non-Travel'),\n",
    " ('Research & Development', 'Travel_Rarely'),\n",
    " ('Research & Development', 'Travel_Frequently'),\n",
    " ('Research & Development', 'Non-Travel')]"
   ]
  },
  {
   "cell_type": "code",
   "execution_count": null,
   "metadata": {},
   "outputs": [],
   "source": [
    "ptx = pt.reindex(index=index3)\n",
    "ptx"
   ]
  },
  {
   "cell_type": "code",
   "execution_count": null,
   "metadata": {},
   "outputs": [],
   "source": [
    "import seaborn as sns\n",
    "sns.set(font='IPAexGothic')\n",
    "#ptx = pt.reindex(index=natsorted(pt.index, reverse=True))\n",
    "ptx = pt.reindex(index=index3)\n",
    "ptx.plot(kind='barh', stacked=False)\n",
    "plt.show()"
   ]
  },
  {
   "cell_type": "code",
   "execution_count": null,
   "metadata": {},
   "outputs": [],
   "source": [
    "import seaborn as sns\n",
    "sns.set(font='IPAexGothic')\n",
    "#ptx = pt.reindex(index=natsorted(pt.index, reverse=True))\n",
    "ptx = pt.reindex(index=index3)\n",
    "ptx.plot(kind='barh', stacked=True)\n",
    "plt.show()"
   ]
  },
  {
   "cell_type": "code",
   "execution_count": null,
   "metadata": {},
   "outputs": [],
   "source": [
    "df_age = df.sort_values(by=[\"年齢\"], ascending=True)\n",
    "df_age"
   ]
  },
  {
   "cell_type": "code",
   "execution_count": null,
   "metadata": {},
   "outputs": [],
   "source": [
    "dataSummarize"
   ]
  },
  {
   "cell_type": "code",
   "execution_count": null,
   "metadata": {},
   "outputs": [],
   "source": [
    "dataSummarize.plot(kind='barh', legend=False)"
   ]
  },
  {
   "cell_type": "code",
   "execution_count": null,
   "metadata": {},
   "outputs": [],
   "source": [
    "dataSummarize_r = dataSummarize.sort_values(by=[\"平均通勤距離\"], ascending=False)\n",
    "dataSummarize_r"
   ]
  },
  {
   "cell_type": "code",
   "execution_count": null,
   "metadata": {},
   "outputs": [],
   "source": [
    "dataSummarize_r.plot(kind='barh', legend=False)"
   ]
  }
 ],
 "metadata": {
  "kernelspec": {
   "display_name": "Python 3",
   "language": "python",
   "name": "python3"
  },
  "language_info": {
   "codemirror_mode": {
    "name": "ipython",
    "version": 3
   },
   "file_extension": ".py",
   "mimetype": "text/x-python",
   "name": "python",
   "nbconvert_exporter": "python",
   "pygments_lexer": "ipython3",
   "version": "3.5.3"
  }
 },
 "nbformat": 4,
 "nbformat_minor": 2
}
